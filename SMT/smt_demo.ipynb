{
 "cells": [
  {
   "cell_type": "markdown",
   "metadata": {},
   "source": [
    "# SMT Model\n",
    "\n",
    "Imports"
   ]
  },
  {
   "cell_type": "code",
   "execution_count": 3,
   "metadata": {},
   "outputs": [],
   "source": [
    "from z3 import *"
   ]
  },
  {
   "cell_type": "markdown",
   "metadata": {},
   "source": [
    "Sexpr demo"
   ]
  },
  {
   "cell_type": "code",
   "execution_count": 6,
   "metadata": {},
   "outputs": [
    {
     "name": "stdout",
     "output_type": "stream",
     "text": [
      "(declare-fun b () Int)\n",
      "(declare-fun a () Int)\n",
      "(assert (let ((a!1 (> a (+ (ite (> b 0) (- b) b) 1))))\n",
      "  (and (or a!1 (<= a 0)) (> b 0))))\n",
      "\n"
     ]
    }
   ],
   "source": [
    "a = Int('a')\n",
    "b = Int('b')\n",
    "f = And(Or(a > If(b > 0, -b, b) + 1, a <= 0), b > 0)\n",
    "s = Solver()\n",
    "s.push()\n",
    "s.add(f)\n",
    "print(s.sexpr())\n",
    "s.pop()"
   ]
  },
  {
   "cell_type": "markdown",
   "metadata": {},
   "source": [
    "Read Instance"
   ]
  },
  {
   "cell_type": "code",
   "execution_count": 46,
   "metadata": {},
   "outputs": [],
   "source": [
    "def loadInstance(number):\n",
    "\n",
    "\n",
    "    with open(f\"D:\\Progetti\\Python\\CDMO\\cdmo2022\\models\\instances\\ins-{number}.txt\") as f:\n",
    "\n",
    "        lines=f.readlines()\n",
    "\n",
    "        w=int(lines[0])\n",
    "        n=int(lines[1])\n",
    "        elements=[]\n",
    "        for i in range(n):\n",
    "            x,y=lines[2+i].split()\n",
    "            x=int(x)\n",
    "            y=int(y)\n",
    "            elements.append([x,y])\n",
    "\n",
    "    return {\"n\":n,\"w\":w,\"dim\":elements}\n"
   ]
  },
  {
   "cell_type": "markdown",
   "metadata": {},
   "source": [
    "SMT Model (no rotation)"
   ]
  },
  {
   "cell_type": "markdown",
   "metadata": {},
   "source": [
    "Blocks: $b_i, b_j$\n",
    "\n",
    "$(x_i, y_i)$: bottom left coordinates of the block i\n"
   ]
  },
  {
   "cell_type": "code",
   "execution_count": 52,
   "metadata": {},
   "outputs": [
    {
     "name": "stdout",
     "output_type": "stream",
     "text": [
      "{'n': 4, 'w': 8, 'dim': [[3, 3], [3, 5], [5, 3], [5, 5]]}\n",
      "16 8\n"
     ]
    }
   ],
   "source": [
    "# Calculate H\n",
    "\n",
    "instance = loadInstance(1)\n",
    "\n",
    "print(instance)\n",
    "H = sum([int(instance['dim'][i][1]) for i in range(instance['n'])])\n",
    "\n",
    "W = instance['w']\n",
    "print(H, W)\n",
    "\n",
    "# coordinate dei bocchi -> variabili di decisione\n",
    "# dimensioni dei blocchi -> costanti (sono in dim)\n",
    "\n",
    "\n",
    "\n",
    "# Calculate H\n",
    "\n",
    "# boundary constraints for each block\n",
    "\n",
    "#for each pair of different blocks\n",
    "#   Non overlapping constraint\n",
    "\n",
    "# Minimize height"
   ]
  }
 ],
 "metadata": {
  "interpreter": {
   "hash": "4c3bcd3554fb37ee57af53b1af39e64b101355719bb7376f14da79ee147cae33"
  },
  "kernelspec": {
   "display_name": "cdmo",
   "language": "python",
   "name": "cdmo"
  },
  "language_info": {
   "codemirror_mode": {
    "name": "ipython",
    "version": 3
   },
   "file_extension": ".py",
   "mimetype": "text/x-python",
   "name": "python",
   "nbconvert_exporter": "python",
   "pygments_lexer": "ipython3",
   "version": "3.10.2"
  },
  "orig_nbformat": 4
 },
 "nbformat": 4,
 "nbformat_minor": 2
}
