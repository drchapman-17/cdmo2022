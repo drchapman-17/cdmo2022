{
 "cells": [
  {
   "cell_type": "code",
   "execution_count": 1,
   "metadata": {},
   "outputs": [
    {
     "name": "stdout",
     "output_type": "stream",
     "text": [
      " n = 4\n",
      "  w = 8\n",
      "  dim = [[3, 3], [3, 5], [5, 3], [5, 5]]\n",
      "\n"
     ]
    }
   ],
   "source": [
    "from pulp import * \n",
    "currentdir = os.path.dirname(os.path.realpath(\"__file__\"))\n",
    "parentdir = os.path.dirname(currentdir)\n",
    "sys.path.insert(0, parentdir) \n",
    "import utils\n",
    "\n",
    "instance=utils.loadInstance(\"../instances/ins-1.txt\")\n",
    "\n",
    "print(*[f\" {key} = {val}\\n\" for key,val in instance.items()])"
   ]
  },
  {
   "cell_type": "code",
   "execution_count": 2,
   "metadata": {},
   "outputs": [],
   "source": [
    "#PARAMETERS\n",
    "M=1000\n",
    "WC=instance[\"w\"]\n",
    "n=instance[\"n\"]\n",
    "p=[i[0] for i in instance[\"dim\"]]\n",
    "q=[i[1] for i in instance[\"dim\"]]\n",
    "Hmax=sum(q)\n",
    "\n",
    "# DECISION VARIABLES\n",
    "W=[] # Width of block\n",
    "H=[] # Height of block\n",
    "Xl=[] # left boundary of block\n",
    "Xr=[] # right boundary of block\n",
    "Yt=[] # top boundary of block\n",
    "Yb=[] # bottom boundary of block\n",
    "R=[] # 0 if block i is to the left of block j\n",
    "U=[] # 0 if block i is below block j\n",
    "V=[] # rotations\n",
    "\n",
    "HC=LpVariable(f\"H_c\",0,Hmax,LpInteger)\n",
    "for i in range(n):\n",
    "    W.append(LpVariable(f\"W_{i}\",0,None,LpInteger))\n",
    "    H.append(LpVariable(f\"H_{i}\",0,None,LpInteger))\n",
    "    Xl.append(LpVariable(f\"Xl_{i}\",0,None,LpInteger))\n",
    "    Xr.append(LpVariable(f\"Xr_{i}\",0,None,LpInteger))\n",
    "    Yt.append(LpVariable(f\"Yt_{i}\",0,None,LpInteger))\n",
    "    Yb.append(LpVariable(f\"Yb_{i}\",0,None,LpInteger))\n",
    "    V.append(LpVariable(f\"V_{i}\",0,2,LpInteger))\n",
    "    tempR=[]\n",
    "    tempU=[]\n",
    "    for j in range(n):\n",
    "        if i!=j: \n",
    "            tempR.append(LpVariable(f\"R_{i}_{j}\",0,2,LpInteger))\n",
    "            tempU.append(LpVariable(f\"U_{i}_{j}\",0,2,LpInteger))\n",
    "        else:\n",
    "            tempR.append(None)\n",
    "            tempU.append(None)\n",
    "    R.append(tempR)\n",
    "    U.append(tempU)\n"
   ]
  },
  {
   "cell_type": "code",
   "execution_count": 3,
   "metadata": {},
   "outputs": [
    {
     "name": "stdout",
     "output_type": "stream",
     "text": [
      "Status: 1\n"
     ]
    }
   ],
   "source": [
    "# PROBLEM FORMULATION    \n",
    "problem=LpProblem(\"VLSI_Problem\", LpMinimize)\n",
    "\n",
    "problem += HC, \"Chip_Height\"\n",
    "for i in range(n):\n",
    "    problem += Xr[i]-Xl[i]==W[i], f\"B_{i}_boundaries_LR\"\n",
    "    problem += Yt[i]-Yb[i]==H[i], f\"B_{i}_boundaries_TB\"\n",
    "    # problem += W[i]==p[i], f\"B_{i}_width\"\n",
    "    # problem += H[i]==q[i], f\"B_{i}_heigth\"\n",
    "    problem += W[i]== V[i]*p[i] + (1-V[i])*q[i], f\"B_{i}_width\"\n",
    "    problem += H[i]== (1-V[i])*p[i] + V[i]*q[i], f\"B_{i}_height\"\n",
    "    for j in range(n):\n",
    "        problem += Yt[i]-Yb[j]<=HC,  f\"B_{i}_{j}_height_less_than_chip\"\n",
    "        problem += Xr[i]-Xl[j]<=WC,  f\"B_{i}_{j}_width_less_than_chip\"\n",
    "        if i!=j:\n",
    "            problem += R[i][j]+R[j][i]+U[i][j]+U[j][i]<=3, f\"B_{i}_{j}_at_most_one_rel\"\n",
    "            problem += Xr[i]<=Xl[j]+M*R[i][j], f\"B_{i}_{j}_non_overlap_horizontal\"\n",
    "            problem += Yt[i]<=Yb[j]+M*U[i][j], f\"B_{i}_{j}_non_overlap_vertical\"\n",
    "problem.solve(pulp.PULP_CBC_CMD(timeLimit=300, msg=1))\n",
    "print(\"Status:\",problem.status)"
   ]
  },
  {
   "cell_type": "code",
   "execution_count": 4,
   "metadata": {},
   "outputs": [
    {
     "data": {
      "text/plain": [
       "<Figure size 1080x1080 with 0 Axes>"
      ]
     },
     "metadata": {},
     "output_type": "display_data"
    },
    {
     "data": {
      "image/png": "[encoded data removed]",
      "text/plain": [
       "<Figure size 1080x1080 with 2 Axes>"
      ]
     },
     "metadata": {
      "needs_background": "light"
     },
     "output_type": "display_data"
    }
   ],
   "source": [
    "import matplotlib.pyplot as plt \n",
    "plt.figure(figsize=(15,15))\n",
    "solution=[[WC,int(HC.value())]]+[[p[i],q[i],int(Xl[i].value())+1,int(Yb[i].value())+1] for i in range(n)]\n",
    "\n",
    "utils.show(solution,figsize=(15,15))\n"
   ]
  }
 ],
 "metadata": {
  "kernelspec": {
   "display_name": "Python 3.10.2 ('CDMO_venv')",
   "language": "python",
   "name": "python3"
  },
  "language_info": {
   "codemirror_mode": {
    "name": "ipython",
    "version": 3
   },
   "file_extension": ".py",
   "mimetype": "text/x-python",
   "name": "python",
   "nbconvert_exporter": "python",
   "pygments_lexer": "ipython3",
   "version": "3.10.2"
  },
  "orig_nbformat": 4,
  "vscode": {
   "interpreter": {
    "hash": "493d81eecbfce27ce685bd0c6df082f3da867128dab3afff005edfa5f6f74253"
   }
  }
 },
 "nbformat": 4,
 "nbformat_minor": 2
}
