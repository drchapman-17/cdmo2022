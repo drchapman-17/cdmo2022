{
 "cells": [
  {
   "cell_type": "code",
   "execution_count": 4,
   "metadata": {},
   "outputs": [
    {
     "name": "stdout",
     "output_type": "stream",
     "text": [
      "Collecting gurobipy\n",
      "  Downloading gurobipy-9.5.2-cp37-cp37m-win_amd64.whl (8.9 MB)\n",
      "     ---------------------------------------- 8.9/8.9 MB 5.7 MB/s eta 0:00:00\n",
      "Installing collected packages: gurobipy\n",
      "Successfully installed gurobipy-9.5.2\n"
     ]
    },
    {
     "name": "stderr",
     "output_type": "stream",
     "text": [
      "Impossibile trovare il percorso specificato.\n"
     ]
    }
   ],
   "source": [
    "!pip install gurobipy"
   ]
  },
  {
   "cell_type": "code",
   "execution_count": 11,
   "metadata": {},
   "outputs": [
    {
     "name": "stdout",
     "output_type": "stream",
     "text": [
      "No parameters matching '_test' found\n",
      "['GUROBI', 'GUROBI_CMD', 'PULP_CBC_CMD']\n",
      " n = 73\n",
      "  w = 60\n",
      "  dim = [[34, 6], [13, 3], [13, 5], [10, 12], [10, 12], [6, 7], [6, 15], [25, 7], [25, 15], [21, 12], [16, 7], [16, 5], [21, 3], [21, 5], [5, 7], [5, 5], [4, 1], [4, 10], [6, 13], [12, 13], [12, 9], [23, 6], [7, 3], [7, 5], [2, 1], [2, 10], [6, 6], [6, 5], [14, 7], [14, 6], [16, 3], [16, 5], [14, 6], [14, 5], [14, 13], [3, 2], [3, 7], [11, 2], [11, 7], [6, 7], [6, 6], [33, 14], [12, 4], [12, 3], [16, 18], [12, 3], [12, 18], [4, 4], [4, 3], [3, 1], [3, 2], [6, 9], [6, 9], [6, 1], [6, 2], [5, 7], [5, 18], [3, 9], [3, 9], [9, 18], [6, 5], [6, 2], [2, 12], [2, 9], [8, 3], [8, 9], [10, 9], [3, 5], [3, 2], [3, 18], [3, 7], [2, 3], [2, 9]]\n",
      "\n"
     ]
    }
   ],
   "source": [
    "from pulp import * \n",
    "currentdir = os.path.dirname(os.path.realpath(\"__file__\"))\n",
    "parentdir = os.path.dirname(currentdir)\n",
    "sys.path.insert(0, parentdir) \n",
    "import utils\n",
    "\n",
    "#python C:\\Program Files\\IBM\\ILOG\\CPLEX_Studio221\\python\\setup.py install\n",
    "instance=utils.loadInstance(\"../instances/ins-40.txt\")\n",
    "print(listSolvers(onlyAvailable=True))\n",
    "print(*[f\" {key} = {val}\\n\" for key,val in instance.items()])"
   ]
  },
  {
   "cell_type": "code",
   "execution_count": 12,
   "metadata": {},
   "outputs": [
    {
     "name": "stdout",
     "output_type": "stream",
     "text": [
      "90.0 529\n"
     ]
    }
   ],
   "source": [
    "#PARAMETERS\n",
    "M=1000\n",
    "WC=instance[\"w\"]\n",
    "n=instance[\"n\"]\n",
    "p=[i[0] for i in instance[\"dim\"]]\n",
    "q=[i[1] for i in instance[\"dim\"]]\n",
    "Hmax=sum(q)\n",
    "\n",
    "# DECISION VARIABLES\n",
    "W=[] # Width of block\n",
    "H=[] # Height of block\n",
    "Xl=[] # left boundary of block\n",
    "Xr=[] # right boundary of block\n",
    "Yt=[] # top boundary of block\n",
    "Yb=[] # bottom boundary of block\n",
    "R=[] # 0 if block i is to the left of block j\n",
    "U=[] # 0 if block i is below block j\n",
    "V=[] # rotations\n",
    "tot_area=sum([w_i*h_i for w_i,h_i in zip(p,q)])\n",
    "Hmin = tot_area/WC\n",
    "import numpy as np\n",
    "biggest_i=np.argmax([p[i]*q[i] for i in range(n)])\n",
    "print(Hmin,Hmax)\n",
    "HC=LpVariable(f\"H_c\",Hmin,Hmax,LpInteger)\n",
    "for i in range(n):\n",
    "    W.append(LpVariable(f\"W_{i}\",0,None,LpInteger))\n",
    "    H.append(LpVariable(f\"H_{i}\",0,None,LpInteger))\n",
    "    Xl.append(LpVariable(f\"Xl_{i}\",0,None,LpInteger))\n",
    "    Xr.append(LpVariable(f\"Xr_{i}\",0,None,LpInteger))\n",
    "    Yt.append(LpVariable(f\"Yt_{i}\",0,None,LpInteger))\n",
    "    Yb.append(LpVariable(f\"Yb_{i}\",0,None,LpInteger))\n",
    "    V.append(LpVariable(f\"V_{i}\",0,1,LpInteger))\n",
    "    tempR=[]\n",
    "    tempU=[]\n",
    "    for j in range(n):\n",
    "        if i!=j: \n",
    "            tempR.append(LpVariable(f\"R_{i}_{j}\",0,1,LpInteger))\n",
    "            tempU.append(LpVariable(f\"U_{i}_{j}\",0,1,LpInteger))\n",
    "        else:\n",
    "            tempR.append(None)\n",
    "            tempU.append(None)\n",
    "    R.append(tempR)\n",
    "    U.append(tempU)\n"
   ]
  },
  {
   "cell_type": "code",
   "execution_count": 182,
   "metadata": {},
   "outputs": [],
   "source": [
    "def buildProblem():\n",
    "    # PROBLEM FORMULATION    \n",
    "    problem=LpProblem(\"VLSI_Problem\", LpMinimize)\n",
    "\n",
    "    problem += HC, \"Chip_Height\"\n",
    "    # problem += HC*WC-tot_area >=0 ,\"Empty_space\"\n",
    "\n",
    "    for i in range(n):\n",
    "        problem += Xr[i]-Xl[i]==W[i], f\"B_{i}_boundaries_LR\"\n",
    "        problem += Yt[i]-Yb[i]==H[i], f\"B_{i}_boundaries_TB\"\n",
    "        problem += W[i]==p[i], f\"B_{i}_width\"\n",
    "        problem += H[i]==q[i], f\"B_{i}_heigth\"\n",
    "        problem += Yt[i]<=HC,  f\"Max_{i}_ytpos\"\n",
    "        problem += Yt[i]>=q[i], f\"Min_{i}_ybpos\"\n",
    "        #problem += W[i]== V[i]*p[i] + (1-V[i])*q[i], f\"B_{i}_width\"\n",
    "        #problem += H[i]== (1-V[i])*p[i] + V[i]*q[i], f\"B_{i}_height\"\n",
    "        for j in range(n):\n",
    "            problem += Yt[i]-Yb[j]<=HC,  f\"B_{i}_{j}_height_less_than_chip\"\n",
    "            problem += Xr[i]-Xl[j]<=WC,  f\"B_{i}_{j}_width_less_than_chip\"\n",
    "            if i!=j:\n",
    "                problem += R[i][j]+R[j][i]+U[i][j]+U[j][i]<=3, f\"B_{i}_{j}_at_most_one_rel\"\n",
    "                problem += Xr[i]<=Xl[j]+M*R[i][j], f\"B_{i}_{j}_non_overlap_horizontal\"\n",
    "                problem += Yt[i]<=Yb[j]+M*U[i][j], f\"B_{i}_{j}_non_overlap_vertical\"\n",
    "    return problem"
   ]
  },
  {
   "cell_type": "code",
   "execution_count": 13,
   "metadata": {},
   "outputs": [],
   "source": [
    "def buildProblem():\n",
    "    # PROBLEM FORMULATION    \n",
    "    problem=LpProblem(\"VLSI_Problem\", LpMinimize)\n",
    "\n",
    "    problem += HC, \"Chip_Height\"\n",
    "    #  problem += HC*WC-tot_area >=0 ,\"Empty_space\"\n",
    "    problem += 2*Xl[biggest_i]<=WC-p[biggest_i], \"Largest_rectangle_Xpos\"\n",
    "    problem += 2*Yb[biggest_i]<=HC-q[biggest_i], \"Largest_rectangle_Ypos\"\n",
    "    for i in range(n):\n",
    "        problem += Yb[i]+q[i]<=HC,  f\"Max_{i}_Ypos\"\n",
    "        #problem += W[i]== V[i]*p[i] + (1-V[i])*q[i], f\"B_{i}_width\"\n",
    "        #problem += H[i]== (1-V[i])*p[i] + V[i]*q[i], f\"B_{i}_height\"\n",
    "        for j in range(n):\n",
    "            problem += Xl[i]+p[i]-Xl[j]<=WC,  f\"B_{i}_{j}_width_less_than_chip\"\n",
    "            problem += Yb[i]+q[i]-Yb[j]<=HC,  f\"B_{i}_{j}_height_less_than_chip\"\n",
    "\n",
    "            if i!=j:\n",
    "                problem += Xl[i]+p[i]<=Xl[j]+M*R[i][j], f\"B_{i}_{j}_non_overlap_horizontal\"\n",
    "                problem += Yb[i]+q[i]<=Yb[j]+M*U[i][j], f\"B_{i}_{j}_non_overlap_vertical\"\n",
    "                if p[i]+p[j]>WC:\n",
    "                    problem+= R[i][j]==1,f\"B_{i}_{j}_too_large\"\n",
    "            if i<j:\n",
    "                problem += R[i][j]+R[j][i]+U[i][j]+U[j][i]<=3, f\"B_{i}_{j}_at_most_one_rel\"                    \n",
    "                if p[i]==p[j] and q[i]==p[j]:  \n",
    "                        problem+= R[i][j]==1,f\"B_{i}_{j}_same_size_r\"    \n",
    "                        problem+= U[i][j]==1,f\"B_{i}_{j}_same_size_u\"        \n",
    "    return problem\n",
    "#buildSolveShow()"
   ]
  },
  {
   "cell_type": "code",
   "execution_count": 14,
   "metadata": {},
   "outputs": [
    {
     "name": "stdout",
     "output_type": "stream",
     "text": [
      "Set parameter TimeLimit to value 300\n",
      "Gurobi Optimizer version 9.5.2 build v9.5.2rc0 (win64)\n",
      "Thread count: 6 physical cores, 12 logical processors, using up to 12 threads\n",
      "Optimize a model with 23911 rows, 10659 columns and 68588 nonzeros\n",
      "Model fingerprint: 0xba1a6e21\n",
      "Variable types: 0 continuous, 10659 integer (0 binary)\n",
      "Coefficient statistics:\n",
      "  Matrix range     [1e+00, 1e+03]\n",
      "  Objective range  [1e+00, 1e+00]\n",
      "  Bounds range     [1e+00, 5e+02]\n",
      "  RHS range        [1e+00, 6e+01]\n",
      "Presolve removed 330 rows and 73 columns\n",
      "Presolve time: 0.15s\n",
      "Presolved: 23581 rows, 10586 columns, 68078 nonzeros\n",
      "Variable types: 0 continuous, 10586 integer (10439 binary)\n",
      "\n",
      "Root relaxation: objective 9.000000e+01, 11649 iterations, 0.53 seconds (0.39 work units)\n",
      "\n",
      "    Nodes    |    Current Node    |     Objective Bounds      |     Work\n",
      " Expl Unexpl |  Obj  Depth IntInf | Incumbent    BestBd   Gap | It/Node Time\n",
      "\n",
      "     0     0   90.00000    0   38          -   90.00000      -     -    1s\n",
      "     0     0   90.00000    0  331          -   90.00000      -     -    2s\n",
      "     0     0   90.00000    0  339          -   90.00000      -     -    2s\n",
      "     0     0   90.00000    0   26          -   90.00000      -     -    3s\n",
      "     0     0   90.00000    0   20          -   90.00000      -     -    4s\n",
      "     0     0   90.00000    0   49          -   90.00000      -     -    5s\n",
      "     0     0   90.00000    0   40          -   90.00000      -     -    5s\n",
      "     0     0   90.00000    0   38          -   90.00000      -     -    5s\n",
      "     0     0   90.00000    0   27          -   90.00000      -     -    7s\n",
      "     0     0   90.00000    0   79          -   90.00000      -     -    7s\n",
      "     0     0   90.00000    0   26          -   90.00000      -     -    8s\n",
      "     0     0   90.00000    0   42          -   90.00000      -     -    8s\n",
      "     0     0   90.00000    0   26          -   90.00000      -     -   10s\n",
      "H    0     0                     170.0000000   90.00000  47.1%     -   11s\n",
      "H    0     0                     125.0000000   90.00000  28.0%     -   11s\n",
      "     0     0   90.00000    0   53  125.00000   90.00000  28.0%     -   11s\n",
      "     0     0   90.00000    0   30  125.00000   90.00000  28.0%     -   12s\n",
      "     0     0   90.00000    0   26  125.00000   90.00000  28.0%     -   12s\n",
      "H    0     0                     116.0000000   90.00000  22.4%     -   12s\n",
      "H    0     2                     114.0000000   90.00000  21.1%     -   13s\n",
      "     0     2   90.00000    0   16  114.00000   90.00000  21.1%     -   13s\n",
      "H   31    34                     113.0000000   90.00000  20.4%   100   15s\n",
      "H   67    70                     112.0000000   90.00000  19.6%   168   17s\n",
      "   153   296   90.00000   21   52  112.00000   90.00000  19.6%   144   20s\n",
      "   307   733   90.00000   51   36  112.00000   90.00000  19.6%   133   25s\n",
      "H  762   970                     111.0000000   90.00000  18.9%   142   32s\n",
      "  1005   983   90.00000  151   42  111.00000   90.00000  18.9%   134   39s\n",
      "H 1008   983                     108.0000000   90.00000  16.7%   133   39s\n",
      "  1018  1379   90.00000  152   42  108.00000   90.00000  16.7%   132   43s\n",
      "H 1043  1379                     107.0000000   90.00000  15.9%   132   43s\n",
      "H 1424  1811                     105.0000000   90.00000  14.3%   138   47s\n",
      "  1877  2217   90.00000  281   46  105.00000   90.00000  14.3%   140   51s\n",
      "H 1977  2217                     104.0000000   90.00000  13.5%   143   51s\n",
      "  2305  2480   90.00000  321   55  104.00000   90.00000  13.5%   139   56s\n",
      "H 2419  2480                     103.0000000   90.00000  12.6%   141   56s\n",
      "  2586  3015   90.00000  361   70  103.00000   90.00000  12.6%   143   61s\n",
      "  3185  3632   90.00000   46  136  103.00000   90.00000  12.6%   137   66s\n",
      "  3872  3854   90.00000  117  520  103.00000   90.00000  12.6%   131   74s\n",
      "  4117  3855   93.00000  446   26  103.00000   90.00000  12.6%   133   78s\n",
      "  4119  3856   91.00000  453   27  103.00000   90.00000  12.6%   133   80s\n",
      "  4125  3860   96.00000  400   84  103.00000   90.00000  12.6%   133   85s\n",
      "  4132  3865   90.00000  368   34  103.00000   90.00000  12.6%   133   90s\n",
      "  4138  3869   90.00000  266   23  103.00000   90.00000  12.6%   133   95s\n",
      "  4159  3890   90.00000   16  289  103.00000   90.00000  12.6%  14.0  100s\n",
      "  4203  3928   90.00000   19  371  103.00000   90.00000  12.6%  14.7  106s\n",
      "  4271  4125   90.00000   23   26  103.00000   90.00000  12.6%  22.8  116s\n",
      "  4437  4081   90.00000   45   50  103.00000   90.00000  12.6%  29.6  133s\n",
      "  4449  4692   90.00000   46   49  103.00000   90.00000  12.6%  30.3  147s\n",
      "  5064  5056   90.00000   98   68  103.00000   90.00000  12.6%  52.6  156s\n",
      "  5635  5350   90.00000  134   31  103.00000   90.00000  12.6%  72.8  166s\n",
      "  6129  5569   90.00000  172   49  103.00000   90.00000  12.6%  87.6  173s\n",
      "  6648  5937   90.00000  203   54  103.00000   90.00000  12.6%  98.7  181s\n",
      "  7237  6104   90.00000   42   24  103.00000   90.00000  12.6%   104  189s\n",
      "  7650  6279   90.00000   63   40  103.00000   90.00000  12.6%   105  198s\n",
      "  8015  6602   90.00000   72   36  103.00000   90.00000  12.6%   105  206s\n",
      "  8585  6770   90.00000  103   50  103.00000   90.00000  12.6%   110  215s\n",
      "  9115  6843   90.00000  113   50  103.00000   90.00000  12.6%   117  224s\n",
      "  9373  7229   90.00000  146   61  103.00000   90.00000  12.6%   125  233s\n",
      "  9845  7458   90.00000  171   84  103.00000   90.00000  12.6%   137  242s\n",
      " 10235  7403   90.00000  205   58  103.00000   90.00000  12.6%   150  256s\n",
      " 10314  8022   90.00000  206   68  103.00000   90.00000  12.6%   152  267s\n",
      " 11012  8243   90.00000  232   46  103.00000   90.00000  12.6%   157  281s\n",
      " 11529  8617   90.00000  263   46  103.00000   90.00000  12.6%   160  294s\n",
      " 12150  8628   95.00000  318  150  103.00000   90.00000  12.6%   164  300s\n",
      "\n",
      "Cutting planes:\n",
      "  Gomory: 3\n",
      "  Cover: 23\n",
      "  Implied bound: 11\n",
      "  Clique: 48\n",
      "  MIR: 4\n",
      "  StrongCG: 7\n",
      "  Flow cover: 55\n",
      "  Zero half: 1\n",
      "  RLT: 10\n",
      "  Relax-and-lift: 5\n",
      "\n",
      "Explored 12416 nodes (2638838 simplex iterations) in 300.18 seconds (166.59 work units)\n",
      "Thread count was 12 (of 12 available processors)\n",
      "\n",
      "Solution count 10: 103 104 105 ... 116\n",
      "\n",
      "Time limit reached\n",
      "Best objective 1.030000000000e+02, best bound 9.000000000000e+01, gap 12.6214%\n",
      "Gurobi status= 9\n"
     ]
    },
    {
     "ename": "TypeError",
     "evalue": "int() argument must be a string, a bytes-like object or a number, not 'NoneType'",
     "output_type": "error",
     "traceback": [
      "\u001b[1;31m---------------------------------------------------------------------------\u001b[0m",
      "\u001b[1;31mTypeError\u001b[0m                                 Traceback (most recent call last)",
      "\u001b[1;32m~\\AppData\\Local\\Temp\\ipykernel_9564\\2157201699.py\u001b[0m in \u001b[0;36m<module>\u001b[1;34m\u001b[0m\n\u001b[0;32m      7\u001b[0m     \u001b[0mprint\u001b[0m\u001b[1;33m(\u001b[0m\u001b[0msolution\u001b[0m\u001b[1;33m,\u001b[0m \u001b[1;34m'culo'\u001b[0m\u001b[1;33m)\u001b[0m\u001b[1;33m\u001b[0m\u001b[0m\n\u001b[0;32m      8\u001b[0m     \u001b[0mutils\u001b[0m\u001b[1;33m.\u001b[0m\u001b[0mshow\u001b[0m\u001b[1;33m(\u001b[0m\u001b[0msolution\u001b[0m\u001b[1;33m,\u001b[0m\u001b[0mfigsize\u001b[0m\u001b[1;33m=\u001b[0m\u001b[1;33m(\u001b[0m\u001b[1;36m15\u001b[0m\u001b[1;33m,\u001b[0m\u001b[1;36m15\u001b[0m\u001b[1;33m)\u001b[0m\u001b[1;33m,\u001b[0m\u001b[0mlw\u001b[0m\u001b[1;33m=\u001b[0m\u001b[1;36m0.1\u001b[0m\u001b[1;33m)\u001b[0m\u001b[1;33m\u001b[0m\u001b[0m\n\u001b[1;32m----> 9\u001b[1;33m \u001b[0mbuildSolveShow\u001b[0m\u001b[1;33m(\u001b[0m\u001b[1;33m)\u001b[0m\u001b[1;33m\u001b[0m\u001b[0m\n\u001b[0m",
      "\u001b[1;32m~\\AppData\\Local\\Temp\\ipykernel_9564\\2157201699.py\u001b[0m in \u001b[0;36mbuildSolveShow\u001b[1;34m()\u001b[0m\n\u001b[0;32m      4\u001b[0m     \u001b[0mproblem\u001b[0m\u001b[1;33m.\u001b[0m\u001b[0msolve\u001b[0m\u001b[1;33m(\u001b[0m\u001b[0mGUROBI\u001b[0m\u001b[1;33m(\u001b[0m\u001b[0mtimeLimit\u001b[0m\u001b[1;33m=\u001b[0m\u001b[1;36m300\u001b[0m\u001b[1;33m,\u001b[0m\u001b[0mmsg\u001b[0m\u001b[1;33m=\u001b[0m\u001b[1;36m1\u001b[0m\u001b[1;33m)\u001b[0m\u001b[1;33m)\u001b[0m\u001b[1;33m\u001b[0m\u001b[0m\n\u001b[0;32m      5\u001b[0m     \u001b[1;31m#problem.solve(CPLEX_PY(timeLimit=300,msg=1))\u001b[0m\u001b[1;33m\u001b[0m\u001b[1;33m\u001b[0m\u001b[0m\n\u001b[1;32m----> 6\u001b[1;33m     \u001b[0msolution\u001b[0m\u001b[1;33m=\u001b[0m\u001b[1;33m[\u001b[0m\u001b[1;33m[\u001b[0m\u001b[0mWC\u001b[0m\u001b[1;33m,\u001b[0m\u001b[0mint\u001b[0m\u001b[1;33m(\u001b[0m\u001b[0mHC\u001b[0m\u001b[1;33m.\u001b[0m\u001b[0mvalue\u001b[0m\u001b[1;33m(\u001b[0m\u001b[1;33m)\u001b[0m\u001b[1;33m)\u001b[0m\u001b[1;33m]\u001b[0m\u001b[1;33m]\u001b[0m\u001b[1;33m+\u001b[0m\u001b[1;33m[\u001b[0m\u001b[1;33m[\u001b[0m\u001b[0mp\u001b[0m\u001b[1;33m[\u001b[0m\u001b[0mi\u001b[0m\u001b[1;33m]\u001b[0m\u001b[1;33m,\u001b[0m\u001b[0mq\u001b[0m\u001b[1;33m[\u001b[0m\u001b[0mi\u001b[0m\u001b[1;33m]\u001b[0m\u001b[1;33m,\u001b[0m\u001b[0mround\u001b[0m\u001b[1;33m(\u001b[0m\u001b[0mXl\u001b[0m\u001b[1;33m[\u001b[0m\u001b[0mi\u001b[0m\u001b[1;33m]\u001b[0m\u001b[1;33m.\u001b[0m\u001b[0mvalue\u001b[0m\u001b[1;33m(\u001b[0m\u001b[1;33m)\u001b[0m\u001b[1;33m)\u001b[0m\u001b[1;33m+\u001b[0m\u001b[1;36m1\u001b[0m\u001b[1;33m,\u001b[0m\u001b[0mround\u001b[0m\u001b[1;33m(\u001b[0m\u001b[0mYb\u001b[0m\u001b[1;33m[\u001b[0m\u001b[0mi\u001b[0m\u001b[1;33m]\u001b[0m\u001b[1;33m.\u001b[0m\u001b[0mvalue\u001b[0m\u001b[1;33m(\u001b[0m\u001b[1;33m)\u001b[0m\u001b[1;33m)\u001b[0m\u001b[1;33m+\u001b[0m\u001b[1;36m1\u001b[0m\u001b[1;33m]\u001b[0m \u001b[1;32mfor\u001b[0m \u001b[0mi\u001b[0m \u001b[1;32min\u001b[0m \u001b[0mrange\u001b[0m\u001b[1;33m(\u001b[0m\u001b[0mn\u001b[0m\u001b[1;33m)\u001b[0m\u001b[1;33m]\u001b[0m\u001b[1;33m\u001b[0m\u001b[0m\n\u001b[0m\u001b[0;32m      7\u001b[0m     \u001b[0mprint\u001b[0m\u001b[1;33m(\u001b[0m\u001b[0msolution\u001b[0m\u001b[1;33m,\u001b[0m \u001b[1;34m'culo'\u001b[0m\u001b[1;33m)\u001b[0m\u001b[1;33m\u001b[0m\u001b[0m\n\u001b[0;32m      8\u001b[0m     \u001b[0mutils\u001b[0m\u001b[1;33m.\u001b[0m\u001b[0mshow\u001b[0m\u001b[1;33m(\u001b[0m\u001b[0msolution\u001b[0m\u001b[1;33m,\u001b[0m\u001b[0mfigsize\u001b[0m\u001b[1;33m=\u001b[0m\u001b[1;33m(\u001b[0m\u001b[1;36m15\u001b[0m\u001b[1;33m,\u001b[0m\u001b[1;36m15\u001b[0m\u001b[1;33m)\u001b[0m\u001b[1;33m,\u001b[0m\u001b[0mlw\u001b[0m\u001b[1;33m=\u001b[0m\u001b[1;36m0.1\u001b[0m\u001b[1;33m)\u001b[0m\u001b[1;33m\u001b[0m\u001b[0m\n",
      "\u001b[1;31mTypeError\u001b[0m: int() argument must be a string, a bytes-like object or a number, not 'NoneType'"
     ]
    }
   ],
   "source": [
    "def buildSolveShow():\n",
    "    problem=buildProblem()\n",
    "    #print(problem)\n",
    "    problem.solve(GUROBI(timeLimit=300,msg=1))    \n",
    "    #problem.solve(CPLEX_PY(timeLimit=300,msg=1))    \n",
    "    solution=[[WC,int(HC.value())]]+[[p[i],q[i],round(Xl[i].value())+1,round(Yb[i].value())+1] for i in range(n)]\n",
    "    print(solution, 'culo')\n",
    "    utils.show(solution,figsize=(15,15),lw=0.1)\n",
    "buildSolveShow()"
   ]
  },
  {
   "cell_type": "code",
   "execution_count": 191,
   "metadata": {},
   "outputs": [
    {
     "name": "stdout",
     "output_type": "stream",
     "text": [
      "[[30, 65], [6, 18, 12, 1], [2, 12, 14, 42], [10, 7, 8, 54], [4, 23, 14, 19], [4, 1, 27, 1], [7, 7, 24, 59], [11, 4, 1, 1], [6, 5, 12, 61], [2, 7, 16, 42], [6, 11, 18, 37], [10, 19, 1, 5], [11, 5, 20, 18], [4, 2, 1, 24], [7, 5, 16, 49], [4, 2, 1, 34], [7, 12, 24, 47], [7, 13, 18, 24], [3, 6, 27, 2], [6, 10, 18, 56], [9, 16, 18, 1], [1, 4, 13, 20], [4, 10, 27, 8], [6, 24, 25, 23], [9, 9, 5, 24], [2, 1, 12, 19], [8, 5, 1, 61], [3, 5, 9, 61], [7, 25, 1, 36], [5, 21, 8, 33]]\n"
     ]
    },
    {
     "data": {
      "image/png": "[encoded data removed]",
      "text/plain": [
       "<Figure size 1080x1080 with 2 Axes>"
      ]
     },
     "metadata": {
      "needs_background": "light"
     },
     "output_type": "display_data"
    },
    {
     "name": "stdout",
     "output_type": "stream",
     "text": [
      "10\n"
     ]
    }
   ],
   "source": [
    "import matplotlib.pyplot as plt \n",
    "l=[[WC,int(HC.value())]]+[[p[i],q[i],round(Xl[i].value())+1,round(Yb[i].value())+1] for i in range(n)]\n",
    "print(l)\n",
    "#utils.show(solution,figsize=(15,15),lw=0.1)\n",
    "ins = 38\n",
    "displaySolution(f'Plate {ins}', l[0][0], l[0][1], len(l)-1,\\\n",
    "                         [i[:2] for i in l[1:][:]], [i[2:] for i in l[1:][:]])\n",
    "print(biggest_i)\n",
    "# "
   ]
  },
  {
   "cell_type": "code",
   "execution_count": 150,
   "metadata": {},
   "outputs": [
    {
     "name": "stdout",
     "output_type": "stream",
     "text": [
      "[3, 4, 5, 6, 7, 8, 9, 10, 11, 12, 13, 14, 22, 3, 19, 4]\n",
      "[19.0, -0.0, 0.0, 13.0, -0.0, 14.0, 5.0, 12.0, 7.0, -0.0, 0.0, 4.0, -0.0, 19.0, -0.0, 18.0]\n",
      "\n",
      "[3, 3, 3, 3, 3, 3, 3, 3, 3, 3, 3, 3, 3, 4, 4, 6]\n",
      "[17.0, 7.0, 1.0, 17.0, 4.0, 1.0, 1.0, 14.0, 4.0, 14.0, 17.0, 7.0, 20.0, 10.0, 10.0, 4.0]\n"
     ]
    }
   ],
   "source": [
    "print([y for y in q])\n",
    "print([y.value() for y in Yb])\n",
    "print()\n",
    "print([y for y in p])\n",
    "print([y.value() for y in Xl])\n"
   ]
  }
 ],
 "metadata": {
  "kernelspec": {
   "display_name": "Python 3 (ipykernel)",
   "language": "python",
   "name": "python3"
  },
  "language_info": {
   "codemirror_mode": {
    "name": "ipython",
    "version": 3
   },
   "file_extension": ".py",
   "mimetype": "text/x-python",
   "name": "python",
   "nbconvert_exporter": "python",
   "pygments_lexer": "ipython3",
   "version": "3.7.0"
  },
  "vscode": {
   "interpreter": {
    "hash": "493d81eecbfce27ce685bd0c6df082f3da867128dab3afff005edfa5f6f74253"
   }
  }
 },
 "nbformat": 4,
 "nbformat_minor": 2
}
