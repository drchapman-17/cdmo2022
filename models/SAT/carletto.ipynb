{
 "cells": [
  {
   "cell_type": "code",
   "execution_count": 1,
   "metadata": {
    "colab": {
     "base_uri": "https://localhost:8080/"
    },
    "executionInfo": {
     "elapsed": 7963,
     "status": "ok",
     "timestamp": 1626771119563,
     "user": {
      "displayName": "Giacomo Zamprogno",
      "photoUrl": "https://lh3.googleusercontent.com/a-/AOh14GjXqLx5_HIHCNsAXE7_fjesDtcZRXtKz8oLQkl-=s64",
      "userId": "17994757487935301321"
     },
     "user_tz": -120
    },
    "id": "4wPXDsq_MKyv",
    "outputId": "43d830fb-da68-42d0-8850-7dea518d7831"
   },
   "outputs": [
    {
     "name": "stdout",
     "output_type": "stream",
     "text": [
      "Requirement already satisfied: z3-solver in c:\\users\\antonio\\anaconda3\\envs\\comb\\lib\\site-packages (4.8.15.0)\n"
     ]
    },
    {
     "name": "stderr",
     "output_type": "stream",
     "text": [
      "Impossibile trovare il percorso specificato.\n"
     ]
    }
   ],
   "source": [
    "!pip install z3-solver"
   ]
  },
  {
   "cell_type": "code",
   "execution_count": 2,
   "metadata": {
    "colab": {
     "base_uri": "https://localhost:8080/"
    },
    "executionInfo": {
     "elapsed": 2777,
     "status": "ok",
     "timestamp": 1626771122327,
     "user": {
      "displayName": "Giacomo Zamprogno",
      "photoUrl": "https://lh3.googleusercontent.com/a-/AOh14GjXqLx5_HIHCNsAXE7_fjesDtcZRXtKz8oLQkl-=s64",
      "userId": "17994757487935301321"
     },
     "user_tz": -120
    },
    "id": "pS31i5HEl3qa",
    "outputId": "e33ffc07-a2f2-4422-ce51-a1ebfecd84c2"
   },
   "outputs": [
    {
     "name": "stdout",
     "output_type": "stream",
     "text": [
      "Collecting tabulate\n",
      "  Downloading tabulate-0.8.10-py3-none-any.whl (29 kB)\n",
      "Installing collected packages: tabulate\n",
      "Successfully installed tabulate-0.8.10\n"
     ]
    },
    {
     "name": "stderr",
     "output_type": "stream",
     "text": [
      "Impossibile trovare il percorso specificato.\n"
     ]
    }
   ],
   "source": [
    "!pip install tabulate"
   ]
  },
  {
   "cell_type": "code",
   "execution_count": 1,
   "metadata": {
    "executionInfo": {
     "elapsed": 4,
     "status": "ok",
     "timestamp": 1626771122328,
     "user": {
      "displayName": "Giacomo Zamprogno",
      "photoUrl": "https://lh3.googleusercontent.com/a-/AOh14GjXqLx5_HIHCNsAXE7_fjesDtcZRXtKz8oLQkl-=s64",
      "userId": "17994757487935301321"
     },
     "user_tz": -120
    },
    "id": "Q0o1fgmfOStw"
   },
   "outputs": [],
   "source": [
    "from z3 import *\n",
    "import itertools\n",
    "\n",
    "import matplotlib.pyplot as plt\n",
    "import matplotlib.patches as patches\n",
    "import time, math, random\n",
    "from tabulate import tabulate"
   ]
  },
  {
   "cell_type": "code",
   "execution_count": 4,
   "metadata": {
    "colab": {
     "base_uri": "https://localhost:8080/"
    },
    "executionInfo": {
     "elapsed": 18877,
     "status": "ok",
     "timestamp": 1626771141202,
     "user": {
      "displayName": "Giacomo Zamprogno",
      "photoUrl": "https://lh3.googleusercontent.com/a-/AOh14GjXqLx5_HIHCNsAXE7_fjesDtcZRXtKz8oLQkl-=s64",
      "userId": "17994757487935301321"
     },
     "user_tz": -120
    },
    "id": "3ATUELT_1RSd",
    "outputId": "61d46b79-a569-4f13-c371-dffc51dcf394"
   },
   "outputs": [
    {
     "ename": "ModuleNotFoundError",
     "evalue": "No module named 'google'",
     "output_type": "error",
     "traceback": [
      "\u001b[1;31m---------------------------------------------------------------------------\u001b[0m",
      "\u001b[1;31mModuleNotFoundError\u001b[0m                       Traceback (most recent call last)",
      "\u001b[1;32m~\\AppData\\Local\\Temp\\ipykernel_6500\\2200916366.py\u001b[0m in \u001b[0;36m<module>\u001b[1;34m\u001b[0m\n\u001b[0;32m      1\u001b[0m \u001b[1;31m#skip if not in drive\u001b[0m\u001b[1;33m\u001b[0m\u001b[1;33m\u001b[0m\u001b[0m\n\u001b[1;32m----> 2\u001b[1;33m \u001b[1;32mfrom\u001b[0m \u001b[0mgoogle\u001b[0m\u001b[1;33m.\u001b[0m\u001b[0mcolab\u001b[0m \u001b[1;32mimport\u001b[0m \u001b[0mdrive\u001b[0m\u001b[1;33m\u001b[0m\u001b[0m\n\u001b[0m\u001b[0;32m      3\u001b[0m \u001b[0mdrive\u001b[0m\u001b[1;33m.\u001b[0m\u001b[0mmount\u001b[0m\u001b[1;33m(\u001b[0m\u001b[1;34m'/gdrive'\u001b[0m\u001b[1;33m,\u001b[0m \u001b[0mforce_remount\u001b[0m\u001b[1;33m=\u001b[0m\u001b[1;32mTrue\u001b[0m\u001b[1;33m)\u001b[0m\u001b[1;33m\u001b[0m\u001b[0m\n\u001b[0;32m      4\u001b[0m \u001b[0mget_ipython\u001b[0m\u001b[1;33m(\u001b[0m\u001b[1;33m)\u001b[0m\u001b[1;33m.\u001b[0m\u001b[0mrun_line_magic\u001b[0m\u001b[1;33m(\u001b[0m\u001b[1;34m'cd'\u001b[0m\u001b[1;33m,\u001b[0m \u001b[1;34m'/gdrive/MyDrive/SAT'\u001b[0m\u001b[1;33m)\u001b[0m\u001b[1;33m\u001b[0m\u001b[0m\n",
      "\u001b[1;31mModuleNotFoundError\u001b[0m: No module named 'google'"
     ]
    }
   ],
   "source": [
    "#skip if not in drive\n",
    "from google.colab import drive\n",
    "drive.mount('/gdrive', force_remount=True)\n",
    "%cd /gdrive/MyDrive/SAT"
   ]
  },
  {
   "cell_type": "markdown",
   "metadata": {
    "id": "qpcYAY8dYKtY"
   },
   "source": [
    "#Auxiliary functions"
   ]
  },
  {
   "cell_type": "code",
   "execution_count": 2,
   "metadata": {
    "executionInfo": {
     "elapsed": 7,
     "status": "ok",
     "timestamp": 1626771141203,
     "user": {
      "displayName": "Giacomo Zamprogno",
      "photoUrl": "https://lh3.googleusercontent.com/a-/AOh14GjXqLx5_HIHCNsAXE7_fjesDtcZRXtKz8oLQkl-=s64",
      "userId": "17994757487935301321"
     },
     "user_tz": -120
    },
    "id": "i2oOdGs2LiF-"
   },
   "outputs": [],
   "source": [
    "def plot_result(rects, W,H):\n",
    "    w = W\n",
    "\n",
    "\n",
    "    fig1 = plt.figure(figsize=(5, 5))\n",
    "    ax1 = fig1.add_subplot(111, aspect='equal')\n",
    "    for i in range(len(rects)):\n",
    "        ax1.add_patch(patches.Rectangle((rects[i][2], rects[i][3]), rects[i][0], rects[i][1], edgecolor='black', facecolor=random.choice(['r', 'g', 'y','b'])))\n",
    "\n",
    "    plt.xticks(range(W+1))\n",
    "    plt.yticks(range(max([rects[i][3]+rects[i][1] for i in range(len(rects))])+1))\n",
    "    #plt.grid(b=True, which='major', color='#666666', linestyle='-')\n",
    "    plt.show()"
   ]
  },
  {
   "cell_type": "code",
   "execution_count": 3,
   "metadata": {
    "executionInfo": {
     "elapsed": 6,
     "status": "ok",
     "timestamp": 1626771141203,
     "user": {
      "displayName": "Giacomo Zamprogno",
      "photoUrl": "https://lh3.googleusercontent.com/a-/AOh14GjXqLx5_HIHCNsAXE7_fjesDtcZRXtKz8oLQkl-=s64",
      "userId": "17994757487935301321"
     },
     "user_tz": -120
    },
    "id": "wUSQy04ywzIh"
   },
   "outputs": [],
   "source": [
    "def return_coods(m,l,px,py):\n",
    "  x_r =[]\n",
    "  y_r=[]\n",
    "  for r in range(l):\n",
    "    x_r.append([m.eval(x) for x in px[r]].index(True))\n",
    "\n",
    "  for r in range(len(rects)):\n",
    "    y_r.append([m.eval(x) for x in py[r]].index(True))\n",
    "\n",
    "  return list(zip(x_r,y_r))"
   ]
  },
  {
   "cell_type": "markdown",
   "metadata": {
    "id": "BL7JsolhVkTV"
   },
   "source": [
    "#Direct Encoding"
   ]
  },
  {
   "cell_type": "code",
   "execution_count": 4,
   "metadata": {
    "executionInfo": {
     "elapsed": 7,
     "status": "ok",
     "timestamp": 1626771141204,
     "user": {
      "displayName": "Giacomo Zamprogno",
      "photoUrl": "https://lh3.googleusercontent.com/a-/AOh14GjXqLx5_HIHCNsAXE7_fjesDtcZRXtKz8oLQkl-=s64",
      "userId": "17994757487935301321"
     },
     "user_tz": -120
    },
    "id": "02a3zghGXWtk"
   },
   "outputs": [],
   "source": [
    "def at_least_one(bool_vars):\n",
    "    return Or(bool_vars)\n",
    "\n",
    "def at_most_one(bool_vars):\n",
    "    return [Not(And(pair[0], pair[1])) for pair in itertools.combinations(bool_vars, 2)]"
   ]
  },
  {
   "cell_type": "code",
   "execution_count": 5,
   "metadata": {
    "executionInfo": {
     "elapsed": 7,
     "status": "ok",
     "timestamp": 1626771141204,
     "user": {
      "displayName": "Giacomo Zamprogno",
      "photoUrl": "https://lh3.googleusercontent.com/a-/AOh14GjXqLx5_HIHCNsAXE7_fjesDtcZRXtKz8oLQkl-=s64",
      "userId": "17994757487935301321"
     },
     "user_tz": -120
    },
    "id": "Yk6ppLQvVsaK"
   },
   "outputs": [],
   "source": [
    "def base_model_direct(s,rects,px,py,under,left,W,H):\n",
    "  #exclude impossible values\n",
    "  for r in range(len(rects)):\n",
    "    for i in range(W-rects[r][0]+1,W):\n",
    "      s.add(Not(px[r][i]))\n",
    "    for j in range(H-rects[r][1]+1,H):\n",
    "      s.add(Not(py[r][j]))\n",
    "\n",
    "  #each r has one and only one (xi,yi)\n",
    "  for r in range(len(rects)):\n",
    "    s.add(at_least_one(px[r]))\n",
    "    s.add(at_least_one(py[r]))\n",
    "    s.add(at_most_one(px[r]))\n",
    "    s.add(at_most_one(py[r]))\n",
    "\n",
    "  #non overlapping\n",
    "  for (i,j) in itertools.combinations(range(len(rects)),2):\n",
    "    s.add(Or(left[i][j],left[j][i],under[i][j],under[j][i]))\n",
    "\n",
    "  #rectangles with wi+wj > W (same with H) can't be in the same line\n",
    "  for (ri,rj) in itertools.combinations(range(len(rects)),2):\n",
    "    if (rects[ri][0] + rects[rj][0] > W):\n",
    "      s.add(Not(left[ri][rj]))\n",
    "      s.add(Not(left[rj][ri]))\n",
    "    if (rects[ri][1] + rects[rj][1] > H):\n",
    "      s.add(Not(under[ri][rj]))\n",
    "      s.add(Not(under[rj][ri]))\n",
    "\n",
    "  #meaning for left and under\n",
    "  for ri in range(len(rects)):\n",
    "    for rj in range(len(rects)):\n",
    "      if ri != rj:\n",
    "        for x in range(0,rects[ri][0]):\n",
    "          s.add(Or(\n",
    "              Not(left[ri][rj]),\n",
    "              Not(px[rj][x])\n",
    "          )) # left(ri,rj) -> xj > wi\n",
    "        for x in range(W-rects[ri][0]-rects[rj][0]+1,W):\n",
    "          s.add(Or(\n",
    "              Not(left[ri][rj]),\n",
    "              Not(px[ri][x])\n",
    "          )) #left(ri,rj) -> xi < W-wi-wj\n",
    "        for xi in range(0,W-rects[ri][0]-rects[rj][0]+1):\n",
    "          for xj in range(0, xi+rects[ri][0]):\n",
    "            s.add(Or(\n",
    "                Not(left[ri][rj]),\n",
    "                Or(Not(px[ri][xi]),\n",
    "                        Not(px[rj][xj])\n",
    "                )\n",
    "            )) #left(ri,rj) -> xi+wi<xj\n",
    "        \n",
    "        \n",
    "        for y in range(0,rects[ri][1]):\n",
    "          s.add(Or(\n",
    "              Not(under[ri][rj]),\n",
    "              Not(py[rj][y])\n",
    "          )) #under(ri,rj) -> yj >yi\n",
    "        for y in range(H-rects[ri][1]-rects[rj][1]+1,H):\n",
    "          s.add(Or(\n",
    "              Not(under[ri][rj]),\n",
    "              Not(py[ri][y])\n",
    "          )) #under(ri,rj) -> yi < H-hi-hj\n",
    "        for yi in range(0,H-rects[ri][1]-rects[rj][1]+1):\n",
    "          for yj in range(0, yi+rects[ri][1]):\n",
    "            s.add(Or(\n",
    "                Not(under[ri][rj]),\n",
    "                Or(\n",
    "                    Not(py[ri][yi]),\n",
    "                    Not(py[rj][yj]\n",
    "                ))\n",
    "            )) #under(ri,rj) -> yi+hi<yj\n",
    "  return s"
   ]
  },
  {
   "cell_type": "markdown",
   "metadata": {
    "id": "3x9obJB5KTJJ"
   },
   "source": [
    "#Order Encoding\n"
   ]
  },
  {
   "cell_type": "markdown",
   "metadata": {
    "id": "sG2Yf5S2Uj08"
   },
   "source": [
    "The \"solve\" method creates a different model for each attempted H, starting from the minimum, pre-defining H has the advantage of limiting the number of variables, but in case of failure it will need to re-learn clauses from zero for each new H."
   ]
  },
  {
   "cell_type": "markdown",
   "metadata": {
    "id": "NclBqs4u-avG"
   },
   "source": [
    "##Base model"
   ]
  },
  {
   "cell_type": "markdown",
   "metadata": {
    "id": "Hj8EdIJM-dBG"
   },
   "source": [
    "The base model includes the axioms for the type of encoding and the \"definitions\" for left and under. In addition, it includes the non overlapping conditions, i.e. each pair of rectangles must be in some kind of left/under relation."
   ]
  },
  {
   "cell_type": "code",
   "execution_count": 6,
   "metadata": {
    "executionInfo": {
     "elapsed": 7,
     "status": "ok",
     "timestamp": 1626771141205,
     "user": {
      "displayName": "Giacomo Zamprogno",
      "photoUrl": "https://lh3.googleusercontent.com/a-/AOh14GjXqLx5_HIHCNsAXE7_fjesDtcZRXtKz8oLQkl-=s64",
      "userId": "17994757487935301321"
     },
     "user_tz": -120
    },
    "id": "AnSbv4j1CTmB"
   },
   "outputs": [],
   "source": [
    "def base_model_order(s,rects,px,py,under,left,W,H):\n",
    "  #non overlapping condition\n",
    "  for (i,j) in itertools.combinations(range(len(rects)),2):\n",
    "    s.add(Or(left[i][j],left[j][i],under[i][j],under[j][i]))\n",
    "  \n",
    "  #implicit domains\n",
    "  for r in range(len(rects)):\n",
    "    for xi in range(W-rects[r][0],W):\n",
    "      s.add(px[r][xi])\n",
    "    for yi in range(H-rects[r][1],H):\n",
    "      s.add(py[r][yi])\n",
    "  #order encoding\n",
    "  for r in range(len(rects)):\n",
    "    for e in range(W-1):\n",
    "      s.add(Or(Not(px[r][e]),px[r][e+1]))\n",
    "    for f in range(H-1):\n",
    "      s.add(Or(Not(py[r][f]),py[r][f+1]))\n",
    "\n",
    "  \n",
    "\n",
    "  #meaning for left and under\n",
    "  for ri in range(len(rects)):\n",
    "    for rj in range(len(rects)):\n",
    "      if ri != rj :\n",
    "        #print((ri,rj))\n",
    "        s.add(Or(\n",
    "            Not(left[ri][rj]),\n",
    "            Not(px[rj][rects[ri][0]-1])\n",
    "        )) # left(ri,rj) -> xj > wi, lower bound for xj\n",
    "        for e in range(0,W-rects[ri][0]):\n",
    "          s.add(Or(\n",
    "              Not(left[ri][rj]),\n",
    "              px[ri][e],\n",
    "              Not(px[rj][e+rects[ri][0]])\n",
    "          )) #for any e: left(ri,rj) -> (xi <e v ! xj<e+wi)\n",
    "\n",
    "        s.add(Or(\n",
    "            Not(under[ri][rj]),\n",
    "            Not(py[rj][rects[ri][1]-1])\n",
    "        )) #under(ri,rj)-> yj > hi, lower bound for yj\n",
    "\n",
    "        for f in range(0,H-rects[ri][1]):\n",
    "          s.add(Or(\n",
    "              Not(under[ri][rj]),\n",
    "              py[ri][f],\n",
    "              Not(py[rj][f+rects[ri][1]])\n",
    "        )) #for any f, under(ri,rj) -> (yj <= f+hi ->yi <= f)\n",
    "  return s"
   ]
  },
  {
   "cell_type": "markdown",
   "metadata": {
    "id": "UhHeCol--suH"
   },
   "source": [
    "## Optimization\n",
    "The optimization steps mostly include symmetry breaking and implicit constraints in an attempt to riduce the search domain"
   ]
  },
  {
   "cell_type": "code",
   "execution_count": 7,
   "metadata": {
    "executionInfo": {
     "elapsed": 7,
     "status": "ok",
     "timestamp": 1626771141205,
     "user": {
      "displayName": "Giacomo Zamprogno",
      "photoUrl": "https://lh3.googleusercontent.com/a-/AOh14GjXqLx5_HIHCNsAXE7_fjesDtcZRXtKz8oLQkl-=s64",
      "userId": "17994757487935301321"
     },
     "user_tz": -120
    },
    "id": "nBQjAKb2F-3N"
   },
   "outputs": [],
   "source": [
    "def optimize(s,rects,px,py,under,left,W,H):\n",
    "  #implict constraint: a rectangle can't be both right and left wrt another\n",
    "  #same holds for under and over\n",
    "\n",
    "  for (ri,rj) in itertools.combinations(range(len(rects)),2):\n",
    "    s.add(Or(\n",
    "        Not(left[ri][rj]),\n",
    "        Not(left[rj][ri])\n",
    "    ))\n",
    "    s.add(Or(\n",
    "        Not(under[ri][rj]),\n",
    "        Not(under[rj][ri])\n",
    "    ))\n",
    "\n",
    "\n",
    "  #limit the dommain of the biggest rectangle, thus avoiding most symm options\n",
    "  \n",
    "  bigger_r = max(rects, key=lambda p:p[0]*p[1])\n",
    "  ri = rects.index(bigger_r)\n",
    "  \n",
    "  limit_x = math.floor((W-bigger_r[0])/2)\n",
    "  for x in range(limit_x):\n",
    "    s.add(Not(px[ri][x]))\n",
    "  for r in range(len(rects)):\n",
    "    if r!= ri and rects[r][0] > limit_x+1:\n",
    "      s.add(Not(left[ri][r]))\n",
    "\n",
    "  limit_y = math.floor((H-bigger_r[1])/2)\n",
    "  for y in range(limit_y):\n",
    "    s.add(Not(py[ri][y]))\n",
    "  for r in range(len(rects)):\n",
    "    if r!= ri and rects[r][1] > limit_y+1:\n",
    "      s.add(Not(under[ri][r]))\n",
    "      \n",
    "  #avoid combinations of rectangles that would go out of borders\n",
    "  for (ri,rj) in itertools.combinations(range(len(rects)),2):\n",
    "    if (rects[ri][0] + rects[rj][0] > W):\n",
    "      s.add(Not(left[ri][rj]))\n",
    "      s.add(Not(left[rj][ri]))\n",
    "\n",
    "    if (rects[ri][1] + rects[rj][1] > H):\n",
    "      s.add(Not(under[ri][rj]))\n",
    "      s.add(Not(under[rj][ri]))\n",
    "\n",
    "  #fix positions for same size rectangles\n",
    "  for (ri,rj) in itertools.combinations(range(len(rects)),2):\n",
    "    if (rects[ri] == rects[rj]):\n",
    "      s.add(Not(left[rj][ri]))\n",
    "      s.add(Or(Not(under[rj][ri]),left[ri][rj]))\n",
    "\n",
    "  return s"
   ]
  },
  {
   "cell_type": "markdown",
   "metadata": {
    "id": "B2zM7_asV4uw"
   },
   "source": [
    "#Solver\n",
    "\n"
   ]
  },
  {
   "cell_type": "code",
   "execution_count": 8,
   "metadata": {
    "executionInfo": {
     "elapsed": 454,
     "status": "ok",
     "timestamp": 1626771141653,
     "user": {
      "displayName": "Giacomo Zamprogno",
      "photoUrl": "https://lh3.googleusercontent.com/a-/AOh14GjXqLx5_HIHCNsAXE7_fjesDtcZRXtKz8oLQkl-=s64",
      "userId": "17994757487935301321"
     },
     "user_tz": -120
    },
    "id": "VQ1MJbS5B1c9"
   },
   "outputs": [],
   "source": [
    "def solve(rects,W,opt=False,order=True):\n",
    "  start = time.time()\n",
    "  solved= False\n",
    "  Hmin = int(totarea/W)\n",
    "  Hmax = int(2*max(max(rects, key=lambda p:p[0]*p[1])[1],totarea/W))+1\n",
    "  ul = Hmax\n",
    "  ll = Hmin\n",
    "  H = ll\n",
    "  while (ll < ul):\n",
    "    if (time.time() - start > 300):\n",
    "      print(\"out of time\")\n",
    "      return False, (300,300), (0,0,0)\n",
    "    #print(f\"Solving for H={H}\")\n",
    "    px = [[Bool(f\"px{r+1}_{x}\") for x in range(W)] for r in range(len(rects))]\n",
    "    py = [[Bool(f\"py{r+1}_{y}\") for y in range(H)] for r in range(len(rects))]\n",
    "    under = [[Bool(f\"r{ri+1}_under_r{rj+1}\") if ri != rj else 0 for rj in range(len(rects)) ] for ri in range(len(rects))]\n",
    "    left = [[Bool(f\"r{ri+1}_leftof_r{rj+1}\")  if rj!=ri else 0 for rj in range(len(rects))] for ri in range(len(rects))]\n",
    "    s = Solver()\n",
    "    s.set(\"timeout\", 300*10000)\n",
    "    if order:\n",
    "      s = base_model_order(s,rects,px,py,under,left,W,H)\n",
    "      if opt == True :\n",
    "        s= optimize(s,rects,px,py,under,left,W,H)\n",
    "\n",
    "    else :\n",
    "      s = base_model_direct(s,rects,px,py,under,left,W,H)\n",
    "    \n",
    "    checking_from = time.time()\n",
    "    if s.check() == z3.sat :\n",
    "      ul = H\n",
    "    else:\n",
    "      ll = H+1\n",
    "    H =  int((ll+ul)/2)\n",
    "    checked_in = time.time() - checking_from\n",
    "  m = s.model()\n",
    "  end=time.time()\n",
    "  elapsed = end-start\n",
    "  return True, (elapsed,checked_in), (m,return_coods(m,len(rects),px,py),H)"
   ]
  },
  {
   "cell_type": "markdown",
   "metadata": {
    "id": "UdNqk_siXu4J"
   },
   "source": [
    "#Produce Output Files"
   ]
  },
  {
   "cell_type": "markdown",
   "metadata": {
    "id": "N_PiOJarX3OM"
   },
   "source": [
    "The optimized order encoding model was chosen as the best model"
   ]
  },
  {
   "cell_type": "code",
   "execution_count": 9,
   "metadata": {
    "colab": {
     "base_uri": "https://localhost:8080/",
     "height": 1000
    },
    "executionInfo": {
     "elapsed": 1715725,
     "status": "ok",
     "timestamp": 1626773915987,
     "user": {
      "displayName": "Giacomo Zamprogno",
      "photoUrl": "https://lh3.googleusercontent.com/a-/AOh14GjXqLx5_HIHCNsAXE7_fjesDtcZRXtKz8oLQkl-=s64",
      "userId": "17994757487935301321"
     },
     "user_tz": -120
    },
    "id": "_SxzpR41X_TJ",
    "outputId": "a6be7e1a-3e64-4139-9436-a92de33625a6"
   },
   "outputs": [
    {
     "name": "stdout",
     "output_type": "stream",
     "text": [
      "instance:1\n",
      "1\n"
     ]
    },
    {
     "data": {
      "image/png": "[encoded data removed]",
      "text/plain": [
       "<Figure size 360x360 with 1 Axes>"
      ]
     },
     "metadata": {
      "needs_background": "light"
     },
     "output_type": "display_data"
    },
    {
     "name": "stdout",
     "output_type": "stream",
     "text": [
      "instance:2\n",
      "2\n"
     ]
    },
    {
     "data": {
      "image/png": "[encoded data removed]",
      "text/plain": [
       "<Figure size 360x360 with 1 Axes>"
      ]
     },
     "metadata": {
      "needs_background": "light"
     },
     "output_type": "display_data"
    },
    {
     "name": "stdout",
     "output_type": "stream",
     "text": [
      "instance:3\n",
      "3\n"
     ]
    },
    {
     "data": {
      "image/png": "[encoded data removed]",
      "text/plain": [
       "<Figure size 360x360 with 1 Axes>"
      ]
     },
     "metadata": {
      "needs_background": "light"
     },
     "output_type": "display_data"
    },
    {
     "name": "stdout",
     "output_type": "stream",
     "text": [
      "instance:4\n",
      "4\n"
     ]
    },
    {
     "data": {
      "image/png": "[encoded data removed]",
      "text/plain": [
       "<Figure size 360x360 with 1 Axes>"
      ]
     },
     "metadata": {
      "needs_background": "light"
     },
     "output_type": "display_data"
    },
    {
     "name": "stdout",
     "output_type": "stream",
     "text": [
      "instance:5\n",
      "5\n"
     ]
    },
    {
     "data": {
      "image/png": "[encoded data removed]",
      "text/plain": [
       "<Figure size 360x360 with 1 Axes>"
      ]
     },
     "metadata": {
      "needs_background": "light"
     },
     "output_type": "display_data"
    },
    {
     "name": "stdout",
     "output_type": "stream",
     "text": [
      "instance:6\n",
      "6\n"
     ]
    },
    {
     "data": {
      "image/png": "[encoded data removed]",
      "text/plain": [
       "<Figure size 360x360 with 1 Axes>"
      ]
     },
     "metadata": {
      "needs_background": "light"
     },
     "output_type": "display_data"
    },
    {
     "name": "stdout",
     "output_type": "stream",
     "text": [
      "instance:7\n",
      "7\n"
     ]
    },
    {
     "data": {
      "image/png": "[encoded data removed]",
      "text/plain": [
       "<Figure size 360x360 with 1 Axes>"
      ]
     },
     "metadata": {
      "needs_background": "light"
     },
     "output_type": "display_data"
    },
    {
     "name": "stdout",
     "output_type": "stream",
     "text": [
      "instance:8\n",
      "8\n"
     ]
    },
    {
     "data": {
      "image/png": "[encoded data removed]",
      "text/plain": [
       "<Figure size 360x360 with 1 Axes>"
      ]
     },
     "metadata": {
      "needs_background": "light"
     },
     "output_type": "display_data"
    },
    {
     "name": "stdout",
     "output_type": "stream",
     "text": [
      "instance:9\n",
      "9\n"
     ]
    },
    {
     "data": {
      "image/png": "[encoded data removed]",
      "text/plain": [
       "<Figure size 360x360 with 1 Axes>"
      ]
     },
     "metadata": {
      "needs_background": "light"
     },
     "output_type": "display_data"
    },
    {
     "name": "stdout",
     "output_type": "stream",
     "text": [
      "instance:10\n",
      "10\n"
     ]
    },
    {
     "data": {
      "image/png": "[encoded data removed]",
      "text/plain": [
       "<Figure size 360x360 with 1 Axes>"
      ]
     },
     "metadata": {
      "needs_background": "light"
     },
     "output_type": "display_data"
    },
    {
     "name": "stdout",
     "output_type": "stream",
     "text": [
      "instance:11\n",
      "11\n"
     ]
    },
    {
     "data": {
      "image/png": "[encoded data removed]",
      "text/plain": [
       "<Figure size 360x360 with 1 Axes>"
      ]
     },
     "metadata": {
      "needs_background": "light"
     },
     "output_type": "display_data"
    },
    {
     "name": "stdout",
     "output_type": "stream",
     "text": [
      "instance:12\n",
      "12\n"
     ]
    },
    {
     "data": {
      "image/png": "[encoded data removed]",
      "text/plain": [
       "<Figure size 360x360 with 1 Axes>"
      ]
     },
     "metadata": {
      "needs_background": "light"
     },
     "output_type": "display_data"
    },
    {
     "name": "stdout",
     "output_type": "stream",
     "text": [
      "instance:13\n",
      "13\n"
     ]
    },
    {
     "data": {
      "image/png": "[encoded data removed]",
      "text/plain": [
       "<Figure size 360x360 with 1 Axes>"
      ]
     },
     "metadata": {
      "needs_background": "light"
     },
     "output_type": "display_data"
    },
    {
     "name": "stdout",
     "output_type": "stream",
     "text": [
      "instance:14\n",
      "14\n"
     ]
    },
    {
     "data": {
      "image/png": "[encoded data removed]",
      "text/plain": [
       "<Figure size 360x360 with 1 Axes>"
      ]
     },
     "metadata": {
      "needs_background": "light"
     },
     "output_type": "display_data"
    },
    {
     "name": "stdout",
     "output_type": "stream",
     "text": [
      "instance:15\n",
      "15\n"
     ]
    },
    {
     "data": {
      "image/png": "[encoded data removed]",
      "text/plain": [
       "<Figure size 360x360 with 1 Axes>"
      ]
     },
     "metadata": {
      "needs_background": "light"
     },
     "output_type": "display_data"
    },
    {
     "name": "stdout",
     "output_type": "stream",
     "text": [
      "instance:16\n",
      "16\n"
     ]
    },
    {
     "data": {
      "image/png": "[encoded data removed]",
      "text/plain": [
       "<Figure size 360x360 with 1 Axes>"
      ]
     },
     "metadata": {
      "needs_background": "light"
     },
     "output_type": "display_data"
    },
    {
     "name": "stdout",
     "output_type": "stream",
     "text": [
      "instance:17\n",
      "17\n"
     ]
    },
    {
     "data": {
      "image/png": "[encoded data removed]",
      "text/plain": [
       "<Figure size 360x360 with 1 Axes>"
      ]
     },
     "metadata": {
      "needs_background": "light"
     },
     "output_type": "display_data"
    },
    {
     "name": "stdout",
     "output_type": "stream",
     "text": [
      "instance:18\n",
      "18\n"
     ]
    },
    {
     "data": {
      "image/png": "[encoded data removed]",
      "text/plain": [
       "<Figure size 360x360 with 1 Axes>"
      ]
     },
     "metadata": {
      "needs_background": "light"
     },
     "output_type": "display_data"
    },
    {
     "name": "stdout",
     "output_type": "stream",
     "text": [
      "instance:19\n",
      "19\n"
     ]
    },
    {
     "data": {
      "image/png": "[encoded data removed]",
      "text/plain": [
       "<Figure size 360x360 with 1 Axes>"
      ]
     },
     "metadata": {
      "needs_background": "light"
     },
     "output_type": "display_data"
    },
    {
     "name": "stdout",
     "output_type": "stream",
     "text": [
      "instance:20\n",
      "20\n"
     ]
    },
    {
     "data": {
      "image/png": "[encoded data removed]",
      "text/plain": [
       "<Figure size 360x360 with 1 Axes>"
      ]
     },
     "metadata": {
      "needs_background": "light"
     },
     "output_type": "display_data"
    },
    {
     "data": {
      "text/plain": [
       "<matplotlib.collections.PathCollection at 0x23806fbe518>"
      ]
     },
     "execution_count": 9,
     "metadata": {},
     "output_type": "execute_result"
    },
    {
     "data": {
      "image/png": "[encoded data removed]",
      "text/plain": [
       "<Figure size 432x288 with 1 Axes>"
      ]
     },
     "metadata": {
      "needs_background": "light"
     },
     "output_type": "display_data"
    }
   ],
   "source": [
    "times =[]\n",
    "instances = range(21,36)\n",
    "for i in instances:\n",
    "  filename = f\"./instances/ins-{i}.txt\"\n",
    "  print(f\"instance:{i}\")\n",
    "  with open(filename, \"r\") as file1:\n",
    "    FileasList = file1.readlines()\n",
    "  W=int(FileasList[0])\n",
    "  N=int(FileasList[1])\n",
    "  rects=[]\n",
    "  results=[]\n",
    "  totarea=0\n",
    "  for n in range(2,2+N):\n",
    "    values = [int(s) for s in FileasList[n].split() if s.isdigit()]\n",
    "    w =values[0]\n",
    "    h = values[1]\n",
    "    totarea += h*w\n",
    "    rects.append([w,h])\n",
    "    results.append([w,h])\n",
    "  solved,(t_tot,t_solve),(m,c,H) = solve(rects,W, opt=True, order=True)\n",
    "  times.append(t_tot)\n",
    "  if solved:\n",
    "    for r in range(len(rects)):\n",
    "      results[r].append(c[r][0])\n",
    "      results[r].append(c[r][1])\n",
    "    fileout = f\"outputs/out-{i}.txt\"\n",
    "    with open(fileout, \"w\") as file2:\n",
    "      print(i)\n",
    "      file2.write(f\"{W}\\n\")\n",
    "      file2.write(f\"{N}\\n\")\n",
    "      for i in range(len(results)):\n",
    "        file2.write(f\"{results[i]}\\n\")\n",
    "    plot_result(results,W,H)\n",
    "plt.scatter(instances,times)"
   ]
  },
  {
   "cell_type": "code",
   "execution_count": 10,
   "metadata": {
    "colab": {
     "base_uri": "https://localhost:8080/",
     "height": 1000
    },
    "executionInfo": {
     "elapsed": 1715725,
     "status": "ok",
     "timestamp": 1626773915987,
     "user": {
      "displayName": "Giacomo Zamprogno",
      "photoUrl": "https://lh3.googleusercontent.com/a-/AOh14GjXqLx5_HIHCNsAXE7_fjesDtcZRXtKz8oLQkl-=s64",
      "userId": "17994757487935301321"
     },
     "user_tz": -120
    },
    "id": "_SxzpR41X_TJ",
    "outputId": "a6be7e1a-3e64-4139-9436-a92de33625a6",
    "scrolled": false
   },
   "outputs": [
    {
     "name": "stdout",
     "output_type": "stream",
     "text": [
      "instance:21\n",
      "21\n"
     ]
    },
    {
     "data": {
      "image/png": "[encoded data removed]",
      "text/plain": [
       "<Figure size 360x360 with 1 Axes>"
      ]
     },
     "metadata": {
      "needs_background": "light"
     },
     "output_type": "display_data"
    },
    {
     "name": "stdout",
     "output_type": "stream",
     "text": [
      "instance:22\n",
      "22\n"
     ]
    },
    {
     "data": {
      "image/png": "[encoded data removed]",
      "text/plain": [
       "<Figure size 360x360 with 1 Axes>"
      ]
     },
     "metadata": {
      "needs_background": "light"
     },
     "output_type": "display_data"
    },
    {
     "name": "stdout",
     "output_type": "stream",
     "text": [
      "instance:23\n",
      "23\n"
     ]
    },
    {
     "data": {
      "image/png": "[encoded data removed]",
      "text/plain": [
       "<Figure size 360x360 with 1 Axes>"
      ]
     },
     "metadata": {
      "needs_background": "light"
     },
     "output_type": "display_data"
    },
    {
     "name": "stdout",
     "output_type": "stream",
     "text": [
      "instance:24\n",
      "24\n"
     ]
    },
    {
     "data": {
      "image/png": "[encoded data removed]",
      "text/plain": [
       "<Figure size 360x360 with 1 Axes>"
      ]
     },
     "metadata": {
      "needs_background": "light"
     },
     "output_type": "display_data"
    },
    {
     "name": "stdout",
     "output_type": "stream",
     "text": [
      "instance:25\n",
      "25\n"
     ]
    },
    {
     "data": {
      "image/png": "[encoded data removed]",
      "text/plain": [
       "<Figure size 360x360 with 1 Axes>"
      ]
     },
     "metadata": {
      "needs_background": "light"
     },
     "output_type": "display_data"
    },
    {
     "name": "stdout",
     "output_type": "stream",
     "text": [
      "instance:26\n",
      "26\n"
     ]
    },
    {
     "data": {
      "image/png": "[encoded data removed]",
      "text/plain": [
       "<Figure size 360x360 with 1 Axes>"
      ]
     },
     "metadata": {
      "needs_background": "light"
     },
     "output_type": "display_data"
    },
    {
     "name": "stdout",
     "output_type": "stream",
     "text": [
      "instance:27\n",
      "27\n"
     ]
    },
    {
     "data": {
      "image/png": "[encoded data removed]",
      "text/plain": [
       "<Figure size 360x360 with 1 Axes>"
      ]
     },
     "metadata": {
      "needs_background": "light"
     },
     "output_type": "display_data"
    },
    {
     "name": "stdout",
     "output_type": "stream",
     "text": [
      "instance:28\n",
      "28\n"
     ]
    },
    {
     "data": {
      "image/png": "[encoded data removed]",
      "text/plain": [
       "<Figure size 360x360 with 1 Axes>"
      ]
     },
     "metadata": {
      "needs_background": "light"
     },
     "output_type": "display_data"
    },
    {
     "name": "stdout",
     "output_type": "stream",
     "text": [
      "instance:29\n",
      "29\n"
     ]
    },
    {
     "data": {
      "image/png": "[encoded data removed]",
      "text/plain": [
       "<Figure size 360x360 with 1 Axes>"
      ]
     },
     "metadata": {
      "needs_background": "light"
     },
     "output_type": "display_data"
    },
    {
     "name": "stdout",
     "output_type": "stream",
     "text": [
      "instance:30\n",
      "30\n"
     ]
    },
    {
     "data": {
      "image/png": "[encoded data removed]",
      "text/plain": [
       "<Figure size 360x360 with 1 Axes>"
      ]
     },
     "metadata": {
      "needs_background": "light"
     },
     "output_type": "display_data"
    },
    {
     "name": "stdout",
     "output_type": "stream",
     "text": [
      "instance:31\n",
      "31\n"
     ]
    },
    {
     "data": {
      "image/png": "[encoded data removed]",
      "text/plain": [
       "<Figure size 360x360 with 1 Axes>"
      ]
     },
     "metadata": {
      "needs_background": "light"
     },
     "output_type": "display_data"
    },
    {
     "name": "stdout",
     "output_type": "stream",
     "text": [
      "instance:32\n",
      "32\n"
     ]
    },
    {
     "data": {
      "image/png": "[encoded data removed]",
      "text/plain": [
       "<Figure size 360x360 with 1 Axes>"
      ]
     },
     "metadata": {
      "needs_background": "light"
     },
     "output_type": "display_data"
    },
    {
     "name": "stdout",
     "output_type": "stream",
     "text": [
      "instance:33\n",
      "33\n"
     ]
    },
    {
     "data": {
      "image/png": "[encoded data removed]",
      "text/plain": [
       "<Figure size 360x360 with 1 Axes>"
      ]
     },
     "metadata": {
      "needs_background": "light"
     },
     "output_type": "display_data"
    },
    {
     "name": "stdout",
     "output_type": "stream",
     "text": [
      "instance:34\n",
      "34\n"
     ]
    },
    {
     "data": {
      "image/png": "[encoded data removed]",
      "text/plain": [
       "<Figure size 360x360 with 1 Axes>"
      ]
     },
     "metadata": {
      "needs_background": "light"
     },
     "output_type": "display_data"
    },
    {
     "name": "stdout",
     "output_type": "stream",
     "text": [
      "instance:35\n",
      "35\n"
     ]
    },
    {
     "data": {
      "image/png": "[encoded data removed]",
      "text/plain": [
       "<Figure size 360x360 with 1 Axes>"
      ]
     },
     "metadata": {
      "needs_background": "light"
     },
     "output_type": "display_data"
    },
    {
     "data": {
      "text/plain": [
       "<matplotlib.collections.PathCollection at 0x23805d727b8>"
      ]
     },
     "execution_count": 10,
     "metadata": {},
     "output_type": "execute_result"
    },
    {
     "data": {
      "image/png": "[encoded data removed]",
      "text/plain": [
       "<Figure size 432x288 with 1 Axes>"
      ]
     },
     "metadata": {
      "needs_background": "light"
     },
     "output_type": "display_data"
    }
   ],
   "source": [
    "times =[]\n",
    "instances = range(21,36)\n",
    "for i in instances:\n",
    "  filename = f\"./instances/ins-{i}.txt\"\n",
    "  print(f\"instance:{i}\")\n",
    "  with open(filename, \"r\") as file1:\n",
    "    FileasList = file1.readlines()\n",
    "  W=int(FileasList[0])\n",
    "  N=int(FileasList[1])\n",
    "  rects=[]\n",
    "  results=[]\n",
    "  totarea=0\n",
    "  for n in range(2,2+N):\n",
    "    values = [int(s) for s in FileasList[n].split() if s.isdigit()]\n",
    "    w =values[0]\n",
    "    h = values[1]\n",
    "    totarea += h*w\n",
    "    rects.append([w,h])\n",
    "    results.append([w,h])\n",
    "  solved,(t_tot,t_solve),(m,c,H) = solve(rects,W, opt=True, order=True)\n",
    "  times.append(t_tot)\n",
    "  if solved:\n",
    "    for r in range(len(rects)):\n",
    "      results[r].append(c[r][0])\n",
    "      results[r].append(c[r][1])\n",
    "    fileout = f\"outputs/out-{i}.txt\"\n",
    "    with open(fileout, \"w\") as file2:\n",
    "      print(i)\n",
    "      file2.write(f\"{W}\\n\")\n",
    "      file2.write(f\"{N}\\n\")\n",
    "      for i in range(len(results)):\n",
    "        file2.write(f\"{results[i]}\\n\")\n",
    "    plot_result(results,W,H)\n",
    "plt.scatter(instances,times)"
   ]
  },
  {
   "cell_type": "markdown",
   "metadata": {
    "id": "nj_q1b1UV_PV"
   },
   "source": [
    "#Tests"
   ]
  },
  {
   "cell_type": "markdown",
   "metadata": {
    "id": "LjsvR20eprGZ"
   },
   "source": [
    "##direct encoding vs order encoding"
   ]
  },
  {
   "cell_type": "code",
   "execution_count": null,
   "metadata": {
    "colab": {
     "base_uri": "https://localhost:8080/"
    },
    "executionInfo": {
     "elapsed": 428899,
     "status": "ok",
     "timestamp": 1626712269812,
     "user": {
      "displayName": "Giacomo Zamprogno",
      "photoUrl": "https://lh3.googleusercontent.com/a-/AOh14GjXqLx5_HIHCNsAXE7_fjesDtcZRXtKz8oLQkl-=s64",
      "userId": "17994757487935301321"
     },
     "user_tz": -120
    },
    "id": "gZI33eHPTUuv",
    "outputId": "bb35e131-d3b7-41a3-a0de-890a2769d7a1"
   },
   "outputs": [
    {
     "name": "stdout",
     "output_type": "stream",
     "text": [
      "instance:11\n",
      "instance:12\n",
      "instance:13\n",
      "instance:14\n",
      "instance:15\n",
      "instance:16\n",
      "instance:17\n",
      "instance:18\n",
      "instance:19\n",
      "instance:20\n",
      "--------  ------  ------------------  -----  -------------------  ------------------\n",
      "instance  H_base  time_direct         H_opt  time_order           time_diff\n",
      "11        18      9.636278867721558   18     0.2274916172027588   9.408787250518799\n",
      "12        19      2.7154836654663086  19     0.07502388954162598  2.6404597759246826\n",
      "13        20      0.6788356304168701  20     0.05682778358459473  0.6220078468322754\n",
      "14        21      1.1188957691192627  21     0.05506539344787598  1.0638303756713867\n",
      "15        22      1.4919278621673584  22     0.06217360496520996  1.4297542572021484\n",
      "16        23      5.640883445739746   23     1.4453530311584473   4.195530414581299\n",
      "17        24      9.390121698379517   24     0.10560035705566406  9.284521341323853\n",
      "18        25      6.075580358505249   25     3.589163303375244    2.486417055130005\n",
      "19        26      69.62260890007019   26     6.0296471118927      63.59296178817749\n",
      "20        27      87.26527261734009   27     3.354966402053833    83.91030621528625\n",
      "--------  ------  ------------------  -----  -------------------  ------------------\n"
     ]
    }
   ],
   "source": [
    "\n",
    "summary = [['instance','H_base','time_direct','H_opt','time_order','time_diff']]\n",
    "for i in range(11,21):\n",
    "  instance_results = []\n",
    "  instance_results.append(i)\n",
    "  filename = f\"./instances/ins-{i}.txt\"\n",
    "  print(f\"instance:{i}\")\n",
    "  with open(filename, \"r\") as file1:\n",
    "    FileasList = file1.readlines()\n",
    "  W=int(FileasList[0])\n",
    "  N=int(FileasList[1])\n",
    "  rects=[]\n",
    "  totarea=0\n",
    "  for n in range(2,2+N):\n",
    "    values = [int(s) for s in FileasList[n].split() if s.isdigit()]\n",
    "    w =values[0]\n",
    "    h = values[1]\n",
    "    totarea += h*w\n",
    "    rects.append([w,h])\n",
    "  \n",
    "  solved,(elapsed_tot, elapsed1),(m,c,H) = solve(rects,W, opt=False, order=False)\n",
    "  if solved:\n",
    "    instance_results += [H,elapsed1]\n",
    "  else:\n",
    "    instance_results += [\"fail\",\"oot\"]\n",
    "\n",
    "  solved,(elapsed_tot, elapsed2),(m,c,H) = solve(rects,W, opt=False, order=True)\n",
    "  if solved:\n",
    "    instance_results += [H,elapsed2, elapsed1-elapsed2]\n",
    "  else:\n",
    "    instance_results += [\"fail\",\"oot\"]\n",
    "\n",
    "  summary.append(instance_results)\n",
    "print(tabulate(summary))"
   ]
  },
  {
   "cell_type": "markdown",
   "metadata": {
    "id": "Oc7bfUQuWXJG"
   },
   "source": [
    "## Order encoding, both with and without optimization"
   ]
  },
  {
   "cell_type": "code",
   "execution_count": null,
   "metadata": {
    "colab": {
     "base_uri": "https://localhost:8080/"
    },
    "executionInfo": {
     "elapsed": 73295,
     "status": "ok",
     "timestamp": 1626724420516,
     "user": {
      "displayName": "Giacomo Zamprogno",
      "photoUrl": "https://lh3.googleusercontent.com/a-/AOh14GjXqLx5_HIHCNsAXE7_fjesDtcZRXtKz8oLQkl-=s64",
      "userId": "17994757487935301321"
     },
     "user_tz": -120
    },
    "id": "4n2eZA1HSzUL",
    "outputId": "3d8025eb-5411-4827-9346-01e2f38fe723"
   },
   "outputs": [
    {
     "name": "stdout",
     "output_type": "stream",
     "text": [
      "instance:11\n",
      "instance:12\n",
      "instance:13\n",
      "instance:14\n",
      "instance:15\n",
      "instance:16\n",
      "instance:17\n",
      "instance:18\n",
      "instance:19\n",
      "instance:20\n",
      "--------  ------  --------------------  -----  --------------------  ---------------------\n",
      "instance  H_base  time_base             H_opt  time_opt              time_diff\n",
      "11        18      0.16404962539672852   18     1.079375982284546     -0.9153263568878174\n",
      "12        19      0.030086517333984375  19     0.04007768630981445   -0.009991168975830078\n",
      "13        20      0.2407674789428711    20     0.04522347450256348   0.19554400444030762\n",
      "14        21      0.0650949478149414    21     0.2431344985961914    -0.17803955078125\n",
      "15        22      0.04987287521362305   22     0.058794260025024414  -0.008921384811401367\n",
      "16        23      0.42028212547302246   23     0.2897191047668457    0.13056302070617676\n",
      "17        24      0.11040878295898438   24     1.589130163192749     -1.4787213802337646\n",
      "18        25      0.6351842880249023    25     1.166503667831421     -0.5313193798065186\n",
      "19        26      1.81219482421875      26     6.123284578323364     -4.311089754104614\n",
      "20        27      4.11837911605835      27     0.11176824569702148   4.006610870361328\n",
      "--------  ------  --------------------  -----  --------------------  ---------------------\n"
     ]
    }
   ],
   "source": [
    "\n",
    "summary = [['instance','H_base','time_base','H_opt','time_opt','time_diff']]\n",
    "for i in range(11,21):\n",
    "  instance_results = []\n",
    "  instance_results.append(i)\n",
    "  filename = f\"./instances/ins-{i}.txt\"\n",
    "  print(f\"instance:{i}\")\n",
    "  with open(filename, \"r\") as file1:\n",
    "    FileasList = file1.readlines()\n",
    "  W=int(FileasList[0])\n",
    "  N=int(FileasList[1])\n",
    "  rects=[]\n",
    "  totarea=0\n",
    "  for n in range(2,2+N):\n",
    "    values = [int(s) for s in FileasList[n].split() if s.isdigit()]\n",
    "    w =values[0]\n",
    "    h = values[1]\n",
    "    totarea += h*w\n",
    "    rects.append([w,h])\n",
    "  \n",
    "  solved,(elapsed_tot, elapsed1),(m,c,H) = solve(rects,W, opt=False, order=True)\n",
    "  if solved:\n",
    "    instance_results += [H,elapsed1]\n",
    "  else:\n",
    "    instance_results += [\"fail\",\"oot\"]\n",
    "\n",
    "  solved,(elapsed_tot, elapsed2),(m,c,H) = solve(rects,W, opt=True, order=True)\n",
    "  if solved:\n",
    "    instance_results += [H,elapsed2, elapsed1-elapsed2]\n",
    "  else:\n",
    "    instance_results += [\"fail\",\"oot\"]\n",
    "\n",
    "  summary.append(instance_results)\n",
    "print(tabulate(summary))"
   ]
  },
  {
   "cell_type": "markdown",
   "metadata": {
    "id": "TL7jaA_3WdLh"
   },
   "source": [
    "##Direct encoding"
   ]
  },
  {
   "cell_type": "markdown",
   "metadata": {
    "id": "m3GDRt5zWfxD"
   },
   "source": [
    "No optimization was given, since the difference in results is already clear when running the base model"
   ]
  },
  {
   "cell_type": "code",
   "execution_count": null,
   "metadata": {
    "id": "8bYzSZwNSN4l"
   },
   "outputs": [],
   "source": [
    "#test range of instances\n",
    "summary =[['instance','H','time']]\n",
    "for i in range(1,11):\n",
    "  filename = f\"./instances/ins-{i}.txt\"\n",
    "  print(f\"instance:{i}\")\n",
    "  with open(filename, \"r\") as file1:\n",
    "    FileasList = file1.readlines()\n",
    "  W=int(FileasList[0])\n",
    "  N=int(FileasList[1])\n",
    "  rects=[]\n",
    "  totarea=0\n",
    "  for n in range(2,2+N):\n",
    "    values = [int(s) for s in FileasList[n].split() if s.isdigit()]\n",
    "    w =values[0]\n",
    "    h = values[1]\n",
    "    totarea += h*w\n",
    "    rects.append([w,h])\n",
    "\n",
    "  solved,(t,elapsed),(m,c,H) = solve(rects,W, opt=True, order=True)\n",
    "  summary.append([i,H,elapsed])\n",
    "\n",
    "\n",
    "print(tabulate(summary))"
   ]
  },
  {
   "cell_type": "markdown",
   "metadata": {
    "id": "0Sc6Lh4Yo27A"
   },
   "source": [
    "#Toy example for rotations\n",
    "\n"
   ]
  },
  {
   "cell_type": "markdown",
   "metadata": {
    "id": "YTxQp-Og3POO"
   },
   "source": [
    "Rectangles: [3,2] and [1,3], width = 3"
   ]
  },
  {
   "cell_type": "code",
   "execution_count": null,
   "metadata": {
    "id": "Nd0W1V0Vo5RS"
   },
   "outputs": [],
   "source": [
    "rects = [[3,2],[1,3],[2,3],[3,1]]\n",
    "W = 3\n",
    "H = 4\n",
    "px = [[Bool(f\"x{r+1}<{x}\") for x in range(W)] for r in range(len(rects))]\n",
    "py = [[Bool(f\"y{r+1}<{y}\") for y in range(H)] for r in range(len(rects))]\n",
    "used = [Bool(f\"r_{r+1}_used\") for r in range(len(rects))]\n",
    "under = [[Bool(f\"r{ri+1}_under_r{rj+1}\") if ri != rj else 0 for rj in range(len(rects)) ] for ri in range(len(rects))]\n",
    "left = [[Bool(f\"r{ri+1}_leftof_r{rj+1}\")  if rj!=ri else 0 for rj in range(len(rects))] for ri in range(len(rects))]\n"
   ]
  },
  {
   "cell_type": "code",
   "execution_count": null,
   "metadata": {
    "id": "uCXMbEV9sDhp"
   },
   "outputs": [],
   "source": [
    "s= Solver()\n",
    "for r in range(len(rects)):\n",
    "  for xi in range(W-rects[r][0],W):\n",
    "    s.add(px[r][xi])\n",
    "  for yi in range(H-rects[r][1],H):\n",
    "    s.add(py[r][yi])\n",
    "for r in range(len(rects)):\n",
    "  for e in range(W-1):\n",
    "    s.add(Or(Not(px[r][e]),px[r][e+1]))\n",
    "  for f in range(H-1):\n",
    "    s.add(Or(Not(py[r][f]),py[r][f+1]))\n",
    "for ri in range(len(rects)):\n",
    "  for rj in range(len(rects)):\n",
    "    if ri != rj :\n",
    "      #print((ri,rj))\n",
    "      s.add(Or(\n",
    "          Not(left[ri][rj]),\n",
    "          Not(px[rj][rects[ri][0]-1])\n",
    "      )) # left(ri,rj) -> xj > wi, lower bound for xj\n",
    "      for e in range(0,W-rects[ri][0]):\n",
    "        s.add(Or(\n",
    "            Not(left[ri][rj]),\n",
    "            px[ri][e],\n",
    "            Not(px[rj][e+rects[ri][0]])\n",
    "        )) #for any e: left(ri,rj) -> (xi <e v ! xj<e+wi)\n",
    "\n",
    "      s.add(Or(\n",
    "          Not(under[ri][rj]),\n",
    "          Not(py[rj][rects[ri][1]-1])\n",
    "      )) #under(ri,rj)-> yj > hi, lower bound for yj\n",
    "\n",
    "      for f in range(0,H-rects[ri][1]):\n",
    "        s.add(Or(\n",
    "            Not(under[ri][rj]),\n",
    "            py[ri][f],\n",
    "            Not(py[rj][f+rects[ri][1]])\n",
    "      )) #for any f, under(ri,rj) -> (yj <= f+hi ->yi <= f)\n",
    "\n",
    "for i in range(2):\n",
    "  s.add(Xor(used[i],used[i+2]))\n",
    "for (i,j) in itertools.combinations(range(len(rects)),2):\n",
    "  s.add(Implies(And(used[i],used[j]), Or(left[i][j],left[j][i],under[i][j],under[j][i])))"
   ]
  },
  {
   "cell_type": "code",
   "execution_count": null,
   "metadata": {
    "colab": {
     "base_uri": "https://localhost:8080/"
    },
    "executionInfo": {
     "elapsed": 531,
     "status": "ok",
     "timestamp": 1626733190225,
     "user": {
      "displayName": "Giacomo Zamprogno",
      "photoUrl": "https://lh3.googleusercontent.com/a-/AOh14GjXqLx5_HIHCNsAXE7_fjesDtcZRXtKz8oLQkl-=s64",
      "userId": "17994757487935301321"
     },
     "user_tz": -120
    },
    "id": "-VuJ0C66zC85",
    "outputId": "332879bd-4d36-4094-ca2f-e245e3fd5717"
   },
   "outputs": [
    {
     "name": "stdout",
     "output_type": "stream",
     "text": [
      "r2_leftof_r3\n",
      "x3<1\n",
      "x4<0\n",
      "x1<2\n",
      "x3<2\n",
      "r_3_used\n",
      "x1<1\n",
      "y2<2\n",
      "r_2_used\n",
      "y4<3\n",
      "x2<1\n",
      "x2<0\n",
      "y1<3\n",
      "x4<1\n",
      "x1<0\n",
      "y3<1\n",
      "y2<3\n",
      "y3<2\n",
      "y2<1\n",
      "x4<2\n",
      "y3<3\n",
      "x2<2\n",
      "y1<2\n"
     ]
    }
   ],
   "source": [
    "s.check()\n",
    "m = s.model()\n",
    "for t in m.decls():\n",
    "  if is_true(m[t]):\n",
    "    print(t)"
   ]
  }
 ],
 "metadata": {
  "colab": {
   "authorship_tag": "ABX9TyPyDvttvwP1gEAx+ArjTUFS",
   "collapsed_sections": [],
   "mount_file_id": "1D1xfq7LDqlNo13MSI5wJu1Gqq8hrPdpZ",
   "name": "sat.ipynb",
   "provenance": []
  },
  "kernelspec": {
   "display_name": "Python 3 (ipykernel)",
   "language": "python",
   "name": "python3"
  },
  "language_info": {
   "codemirror_mode": {
    "name": "ipython",
    "version": 3
   },
   "file_extension": ".py",
   "mimetype": "text/x-python",
   "name": "python",
   "nbconvert_exporter": "python",
   "pygments_lexer": "ipython3",
   "version": "3.7.0"
  }
 },
 "nbformat": 4,
 "nbformat_minor": 1
}
