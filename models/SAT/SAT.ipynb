{
 "cells": [
  {
   "cell_type": "markdown",
   "id": "accessory-couple",
   "metadata": {},
   "source": [
    "# Z3 SAT Exercises\n",
    "\n",
    "> Before trying to solve the exercises contained in this notebook, the reader is suggested to have gained experience with the tool through the `Tutorial.ipynb` notebook."
   ]
  },
  {
   "cell_type": "code",
   "execution_count": 1,
   "id": "17060a22",
   "metadata": {},
   "outputs": [
    {
     "name": "stdout",
     "output_type": "stream",
     "text": [
      "Requirement already satisfied: z3-solver in /Library/Frameworks/Python.framework/Versions/3.8/lib/python3.8/site-packages (4.8.14.0)\n",
      "\u001b[33mWARNING: You are using pip version 21.1.2; however, version 22.0.4 is available.\n",
      "You should consider upgrading via the '/Library/Frameworks/Python.framework/Versions/3.8/bin/python3.8 -m pip install --upgrade pip' command.\u001b[0m\n"
     ]
    }
   ],
   "source": [
    "!pip3 install z3-solver"
   ]
  },
  {
   "cell_type": "code",
   "execution_count": 159,
   "id": "fuzzy-intersection",
   "metadata": {
    "pycharm": {
     "name": "#%%\n"
    }
   },
   "outputs": [],
   "source": [
    "from itertools import combinations\n",
    "from z3 import *\n",
    "from utils import *\n",
    "import numpy as np\n",
    "\n",
    "import time"
   ]
  },
  {
   "cell_type": "markdown",
   "id": "f25d8a5b",
   "metadata": {},
   "source": [
    "## Useful contraints"
   ]
  },
  {
   "cell_type": "code",
   "execution_count": 2,
   "id": "f81eab93",
   "metadata": {
    "pycharm": {
     "name": "#%%\n"
    }
   },
   "outputs": [],
   "source": [
    "def at_least_one(bool_vars):\n",
    "    return Or(bool_vars)\n",
    "\n",
    "def at_most_one(bool_vars):\n",
    "    return [Not(And(pair[0], pair[1])) for pair in combinations(bool_vars, 2)]\n",
    "\n",
    "def exactly_one(bool_vars):\n",
    "    return at_most_one(bool_vars) + [at_least_one(bool_vars)]"
   ]
  },
  {
   "cell_type": "markdown",
   "id": "strange-condition",
   "metadata": {},
   "source": [
    "## VLSI"
   ]
  },
  {
   "cell_type": "code",
   "execution_count": 109,
   "id": "charitable-branch",
   "metadata": {
    "pycharm": {
     "name": "#%%\n"
    }
   },
   "outputs": [],
   "source": [
    "# VLSI instances\n",
    "\n",
    "# Toy case\n",
    "instance_toy = {\n",
    "    \"w\": 9,\n",
    "    \"n\": 5,\n",
    "    \"points\" : np.array([(3,3),(2,4),(2,8),(3,9),(4,12)],\\\n",
    "                        dtype=[('w','i4'),('h','i4')])\n",
    "}"
   ]
  },
  {
   "cell_type": "code",
   "execution_count": 174,
   "id": "c2492d04",
   "metadata": {},
   "outputs": [],
   "source": [
    "def write_file(w, n, x, y, p_x_sol, p_y_sol, rot_sol, length, elapsed_time,  out_file):\n",
    "    with open(out_file, 'w+') as f_out:\n",
    "        f_out.write('{} {}\\n'.format(w, length))\n",
    "        f_out.write('{}\\n'.format(n))\n",
    "\n",
    "        for i in range(n):\n",
    "            is_rotated = \"R\" if rot_sol[i] else \"\"\n",
    "            f_out.write('{} {} {} {} {}\\n'.format(x[i], y[i], p_x_sol[i], p_y_sol[i], is_rotated))\n",
    "        f_out.write(f'{elapsed_time :.2f}')\n",
    "\n",
    "def show(l,lw=1.5):\n",
    "    fig, (ax1, ax2) = plt.subplots(2, 1, figsize=(20, 20))    \n",
    "    dim_img_in=(np.sum([i[0] for i in l[1:]])+2*len(l)-4, max([i[1] for i in l[1:]]))\n",
    "    img_in=np.zeros(shape=dim_img_in)\n",
    "    pos=0\n",
    "    c=0\n",
    "    for i in l[1:]:\n",
    "        c-=1\n",
    "        i[2]-=1\n",
    "        i[3]-=1\n",
    "        img_in[pos:pos+i[0], 0:i[1]]=c\n",
    "        pos+=i[0]+2\n",
    "    \n",
    "    ax1.imshow(np.transpose(img_in), cmap='terrain')\n",
    "    ax1.set_xticks(np.arange(dim_img_in[0]+1)-0.5)\n",
    "    ax1.set_xticklabels([])\n",
    "    ax1.set_yticks(np.arange(dim_img_in[1]+1)-0.5)\n",
    "    ax1.set_yticklabels([])\n",
    "    ax1.set_xlim(-0.5,dim_img_in[0]-0.5)\n",
    "    ax1.set_ylim(-0.5,dim_img_in[1]-0.5)\n",
    "    ax1.grid(color='k', linestyle='-', linewidth=lw)\n",
    "        \n",
    "    dim_img_out=[l[0][0], l[0][1]+1]\n",
    "    img_out=np.zeros(shape=dim_img_out)\n",
    "    c=0\n",
    "    \n",
    "    for i in l[1:]:\n",
    "        c-=1\n",
    "        img_out[i[2]:i[2]+i[0],i[3]:i[3]+i[1]]=c        \n",
    "\n",
    "    ax2.imshow(np.transpose(img_out), cmap='terrain')\n",
    "    ax2.set_xticks(np.arange(dim_img_out[0]+1)-0.5)#,labels=[])\n",
    "    ax2.set_xticklabels([])\n",
    "    ax2.set_yticks(np.arange(dim_img_out[1]+1)-0.5)#,labels=[])\n",
    "    ax2.set_yticklabels([])\n",
    "    ax2.set_xlim(-0.5,dim_img_out[0]-0.5)\n",
    "    ax2.set_ylim(-0.5,dim_img_out[1]-0.5)\n",
    "    ax2.grid(color='k', linestyle='-', linewidth=lw)\n",
    "    \n",
    "    plt.show()\n",
    "\n",
    "def model_to_coordinates(model, p, w, l, n, r=None):\n",
    "    # Create solution array\n",
    "    solution = np.array([[[is_true(model[p[i][j][k]]) for k in range(n)] for j in range(w)] for i in range(l)])\n",
    "\n",
    "    p_x_sol = []\n",
    "    p_y_sol = []\n",
    "    rot_sol = [False for i in range(n)]\n",
    "\n",
    "    for k in range(n):\n",
    "        y_ids, x_ids = solution[:, :, k].nonzero()\n",
    "        x = np.min(x_ids)\n",
    "        y = np.min(y_ids)\n",
    "        p_x_sol.append(x)\n",
    "        p_y_sol.append(y)\n",
    "        if r is not None:\n",
    "            rot_sol[k] = is_true(model[r[k]])\n",
    "    return p_x_sol, p_y_sol, rot_sol"
   ]
  },
  {
   "cell_type": "code",
   "execution_count": 164,
   "id": "33f0ac72",
   "metadata": {
    "pycharm": {
     "name": "#%%\n"
    }
   },
   "outputs": [],
   "source": [
    "def vlsi_sat(instance):\n",
    "    \n",
    "    points = instance['points']\n",
    "    \n",
    "    w = instance['w']\n",
    "    max_h = sum(points['h'])\n",
    "    n = instance['n']\n",
    "    \n",
    "    # For each cell, n variables that determine wich circuit must be assigned.\n",
    "    c = [[[Bool(f\"v_{i}_{j}_{k}\") for k in range(n)] for j in range(w)] for i in range(max_h)]\n",
    "\n",
    "    # Length of the plate to minimize (one-hot representation)\n",
    "    l = [Bool(f\"l_{i}\") for i in range(max_h)]\n",
    "    \n",
    "    s = Solver()\n",
    "\n",
    "    # CONSTRAINT 1\n",
    "    # A cell has at most one value\n",
    "    for i in range(max_h):\n",
    "        for j in range(w):\n",
    "            s.add(at_most_one(c[i][j]))\n",
    "\n",
    "    # 2 - CONSTRAINT\n",
    "    # Iterate over all the n circuits\n",
    "    exactly_one_circuit_positioning = []\n",
    "    for k in range(n):\n",
    "        x_k = points['w'][k]\n",
    "        y_k = points['h'][k]\n",
    "\n",
    "        # clause containing all possible positions of each circuit into the plate\n",
    "        all_circuit_positions = []\n",
    "\n",
    "        # Iterate over all the coordinates where the circuit can fit\n",
    "        for i in range(max_h - y_k + 1):\n",
    "            for j in range(w - x_k + 1):\n",
    "\n",
    "                # all cells corresponding to the circuit position\n",
    "                circuit_positioning = []\n",
    "\n",
    "                # Iterate over the cells of circuit's patch\n",
    "                for oy in range(max_h):\n",
    "                    for ox in range(w):\n",
    "                        if i <= oy < i + y_k and j <= ox < j + x_k:\n",
    "                            circuit_positioning.append(c[oy][ox][k])\n",
    "                        else:\n",
    "                            circuit_positioning.append(Not(c[oy][ox][k]))\n",
    "\n",
    "                all_circuit_positions.append(And(circuit_positioning))\n",
    "\n",
    "        # Exactly one\n",
    "        s.add(exactly_one(all_circuit_positions))\n",
    "    \n",
    "    # 3 - CONSTRAINT\n",
    "    # One-hot encoding of the length\n",
    "    s.add(exactly_one([l[i] for i in range(max_h)]))\n",
    "\n",
    "    # 4 - CONSTRAINT\n",
    "    # Compute the length consistent w.r.t. the actual circuits positioning\n",
    "    s.add([l[i] == And([Or(list(np.concatenate(c[i]).flat))] + [Not(Or(list(np.concatenate(c[j]).flat))) for j in range(i + 1, max_h)])\n",
    "                                   for i in range(max_h)])\n",
    "\n",
    "    # 5 - CONSTRAINT\n",
    "    # the circuit whose height is the maximum among all circuits is put in the left-bottom corner\n",
    "    max_y = np.argmax(points['h'])\n",
    "    s.add([\n",
    "        And([c[i][j][k] if k == max_y else Not(c[i][j][k]) for k in range(n) for j in range(points['w'][max_y]) for i in\n",
    "             range(points['h'][max_y])])\n",
    "        ])\n",
    "\n",
    "    start_time = time.time()\n",
    "    solution_found = False\n",
    "    length_sol = 0\n",
    "    \n",
    "    while s.check() == sat:\n",
    "        model = s.model()\n",
    "        #print(model[len(model)-1], \" : \", model[model[len(model)-1]])\n",
    "        for k in range(max_h):\n",
    "            #print(model[k], \" : \", model[model[k]])\n",
    "            \n",
    "            #if model.evaluate(l[k]) is True:            \n",
    "            if model.evaluate(l[k]) == True:            \n",
    "                print(l[k], \" : \", model.evaluate(l[k]))\n",
    "                print('k', k)\n",
    "                length_sol = k\n",
    "\n",
    "        # prevent next model from using the same assignment as a previous model\n",
    "        s.add(at_least_one([l[i] for i in range(length_sol)]))\n",
    "        solution_found = True\n",
    "        \n",
    "    if solution_found:\n",
    "        length_sol += 1\n",
    "        elapsed_time = time.time() - start_time\n",
    "        print(f\"The minimal length is {length_sol}\")\n",
    "        \n",
    "        p_x_sol, p_y_sol, rot_sol = model_to_coordinates(model, c, w, length_sol, n)\n",
    "\n",
    "        write_file(w, n, points['w'], points['h'], p_x_sol, p_y_sol, rot_sol, length_sol, elapsed_time, 'out.txt')\n",
    "    else:\n",
    "        print(\"Failed to solve\")\n"
   ]
  },
  {
   "cell_type": "code",
   "execution_count": 165,
   "id": "42ba914c",
   "metadata": {
    "pycharm": {
     "name": "#%%\n"
    }
   },
   "outputs": [],
   "source": [
    "# Select the instance you want to solve\n",
    "instance = instance_toy"
   ]
  },
  {
   "cell_type": "code",
   "execution_count": 166,
   "id": "6d7082ce",
   "metadata": {
    "pycharm": {
     "name": "#%%\n"
    }
   },
   "outputs": [
    {
     "name": "stdout",
     "output_type": "stream",
     "text": [
      "l_34  :  True\n",
      "k 34\n",
      "l_33  :  True\n",
      "k 33\n",
      "l_32  :  True\n",
      "k 32\n",
      "l_29  :  True\n",
      "k 29\n",
      "l_28  :  True\n",
      "k 28\n",
      "l_23  :  True\n",
      "k 23\n",
      "l_17  :  True\n",
      "k 17\n",
      "l_16  :  True\n",
      "k 16\n",
      "l_11  :  True\n",
      "k 11\n",
      "The minimal length is 12\n",
      "Wall time: 36.5 s\n"
     ]
    }
   ],
   "source": [
    "%%time\n",
    "vlsi_sat(instance)"
   ]
  },
  {
   "cell_type": "code",
   "execution_count": 198,
   "id": "a339f36f",
   "metadata": {},
   "outputs": [
    {
     "name": "stdout",
     "output_type": "stream",
     "text": [
      "[(3,  3) (2,  4) (2,  8) (3,  9) (4, 12)]\n",
      "[(7, 10), (5, 9), (5, 1), (7, 1), (1, 1)]\n",
      "[[9, 12], [3, 3, 7, 10], [2, 4, 5, 9], [2, 8, 5, 1], [3, 9, 7, 1], [4, 12, 1, 1]]\n"
     ]
    },
    {
     "data": {
      "image/png": "[encoded data removed]",
      "text/plain": [
       "<Figure size 1440x1440 with 2 Axes>"
      ]
     },
     "metadata": {
      "needs_background": "light"
     },
     "output_type": "display_data"
    }
   ],
   "source": [
    "with open('out.txt', \"r\") as file:  # Use file to refer to the file object\n",
    "    # Read the first line which contains the width and the minimal height of the silicon plate\n",
    "    first_line = file.readline().strip().split(\" \")\n",
    "\n",
    "    width = int(first_line[0])\n",
    "    height = int(first_line[1])\n",
    "\n",
    "    # Read the second line which contains the number of necessary circuits\n",
    "    n_circuits = int(file.readline().strip())\n",
    "\n",
    "    # Read all the remaining lines which contains the horizontal and vertical dimension of the i-th circuit\n",
    "    # and its bottom left corner coordinate\n",
    "    remaining_lines = file.readlines()\n",
    "\n",
    "    # To remove empty lines\n",
    "    remaining_lines = [line.strip() for line in remaining_lines if line.strip()]\n",
    "\n",
    "    # To remove lines like === or ----\n",
    "    remaining_lines = [line for line in remaining_lines if (\"=\" not in line) and ('-' not in line)]\n",
    "\n",
    "    circuits = []\n",
    "    solution = {'corners': [], 'rotation': []}\n",
    "\n",
    "    for i in range(n_circuits):\n",
    "        line = remaining_lines[i]\n",
    "        line = line.split()\n",
    "        circuits.append((int(line[0]), int(line[1])))\n",
    "        solution['corners'].append((int(line[2]), int(line[3])))\n",
    "        solution['rotation'].append(True if len(line) == 5 else False)\n",
    "\n",
    "# Solution\n",
    "sol = {\n",
    "    \"w\": width,\n",
    "    \"h\": height,\n",
    "    \"n\": n_circuits,\n",
    "    \"points\" : np.array(circuits,\\\n",
    "                        dtype=[('w','i4'),('h','i4')])\n",
    "}\n",
    "\n",
    "\n",
    "print(sol['points'])\n",
    "print([(x+1,y+1) for (x,y) in solution['corners']])\n",
    "l = [[sol['w'], sol['h']]]\n",
    "\n",
    "a = sol['points']\n",
    "b = solution['corners']\n",
    "\n",
    "for i in range(len(a)):\n",
    "    l.append([a[i][0],a[i][1],b[i][0]+1,b[i][1]+1])\n",
    "\n",
    "print(l)\n",
    "show(l)"
   ]
  }
 ],
 "metadata": {
  "kernelspec": {
   "display_name": "Python 3 (ipykernel)",
   "language": "python",
   "name": "python3"
  },
  "language_info": {
   "codemirror_mode": {
    "name": "ipython",
    "version": 3
   },
   "file_extension": ".py",
   "mimetype": "text/x-python",
   "name": "python",
   "nbconvert_exporter": "python",
   "pygments_lexer": "ipython3",
   "version": "3.7.0"
  }
 },
 "nbformat": 4,
 "nbformat_minor": 5
}
