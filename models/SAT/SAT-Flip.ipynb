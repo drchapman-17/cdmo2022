{
 "cells": [
  {
   "cell_type": "markdown",
   "id": "accessory-couple",
   "metadata": {},
   "source": [
    "# Z3 SAT Exercises\n",
    "\n",
    "> Before trying to solve the exercises contained in this notebook, the reader is suggested to have gained experience with the tool through the `Tutorial.ipynb` notebook."
   ]
  },
  {
   "cell_type": "code",
   "execution_count": null,
   "id": "17060a22",
   "metadata": {},
   "outputs": [],
   "source": [
    "!pip3 install z3-solver"
   ]
  },
  {
   "cell_type": "code",
   "execution_count": 1,
   "id": "fuzzy-intersection",
   "metadata": {
    "pycharm": {
     "name": "#%%\n"
    }
   },
   "outputs": [],
   "source": [
    "from itertools import combinations\n",
    "from z3 import *\n",
    "import numpy as np\n",
    "\n",
    "import matplotlib.pyplot as plt\n",
    "import time\n",
    "import itertools"
   ]
  },
  {
   "cell_type": "markdown",
   "id": "f25d8a5b",
   "metadata": {},
   "source": [
    "## Useful contraints"
   ]
  },
  {
   "cell_type": "code",
   "execution_count": 2,
   "id": "f81eab93",
   "metadata": {
    "pycharm": {
     "name": "#%%\n"
    }
   },
   "outputs": [],
   "source": [
    "def at_least_one(bool_vars):\n",
    "    return Or(bool_vars)\n",
    "\n",
    "# def at_most_one(bool_vars):\n",
    "#     return [Not(And(pair[0], pair[1])) for pair in combinations(bool_vars, 2)]\n",
    "\n",
    "# def exactly_one(bool_vars):\n",
    "#     return at_most_one(bool_vars) + [at_least_one(bool_vars)]\n",
    "\n",
    "def at_most_one(bool_vars):\n",
    "    constraints = []\n",
    "    n = len(bool_vars)\n",
    "    s = [Bool(f\"s_{i}\") for i in range(n - 1)]\n",
    "    constraints.append(Or(Not(bool_vars[0]), s[0]))\n",
    "    constraints.append(Or(Not(bool_vars[n-1]), Not(s[n-2])))\n",
    "    for i in range(1, n - 1):\n",
    "        constraints.append(Or(Not(bool_vars[i]), s[i]))\n",
    "        constraints.append(Or(Not(bool_vars[i]), Not(s[i-1])))\n",
    "        constraints.append(Or(Not(s[i-1]), s[i]))\n",
    "    return And(constraints)\n",
    "\n",
    "def exactly_one(bool_vars):\n",
    "    return And(at_least_one(bool_vars), at_most_one(bool_vars))"
   ]
  },
  {
   "cell_type": "markdown",
   "id": "strange-condition",
   "metadata": {},
   "source": [
    "## VLSI\n",
    "\n",
    "[1] https://web.telegram.org/cd003ba1-9c37-41f3-9be7-dceeb848b5e2\n",
    "\n",
    "[2] https://sourceforge.net/p/potassco/mailman/attachment/1323943585.4102.431.camel@white.sevalidation.com/1/\n",
    "\n",
    "#### Definition of the problem\n",
    "**Input**: A set *R = {r1, . . . , rn}* of *n* rectangles. Each rectangle\n",
    "*ri ∈ R* has a width *w_i* and a height *h_i* *(w_i, h_i ∈ N)*. A Strip of\n",
    "width *W ∈ N*.\n",
    "\n",
    "**Constraints**: Each rectangle cannot overlap with the others\n",
    "and the edges of the strip and must be parallel to the horizontal\n",
    "and the vertical axis.\n",
    "\n",
    "**Question**: What is the minimum height such that the set of\n",
    "rectangles can be packed in the given strip?"
   ]
  },
  {
   "cell_type": "code",
   "execution_count": 3,
   "id": "charitable-branch",
   "metadata": {
    "pycharm": {
     "name": "#%%\n"
    }
   },
   "outputs": [
    {
     "name": "stdout",
     "output_type": "stream",
     "text": [
      "{'f_n': '1', 'w': 8, 'n': 4, 'points': array([(3, 3), (3, 5), (5, 3), (5, 5)], dtype=[('w', '<i4'), ('h', '<i4')])}\n"
     ]
    }
   ],
   "source": [
    "# VLSI instances\n",
    "f = open('../instances/ins-1.txt', 'r')\n",
    "\n",
    "instance = {\n",
    "    'f_n': f.name.split('/')[2].split('.')[0].split('-')[1],\n",
    "    'w': int(f.readline()),\n",
    "    'n': int(f.readline()),\n",
    "    'points': np.array([tuple(int(el) for el in x.split())\\\n",
    "                        for x in f.readlines()],\\\n",
    "                        dtype=[('w','i4'),('h','i4')])\n",
    "}\n",
    "\n",
    "print(instance)\n",
    "\n",
    "#Toy case\n",
    "# instance = {\n",
    "#     'f_n': \"toy\",\n",
    "#     'w': 9,\n",
    "#     'n': 5,\n",
    "#     'points' : np.array([(3,3),(2,4),(2,8),(3,9),(4,12)],\\\n",
    "#                        dtype=[('w','i4'),('h','i4')])\n",
    "# }"
   ]
  },
  {
   "cell_type": "code",
   "execution_count": 4,
   "id": "c2492d04",
   "metadata": {},
   "outputs": [],
   "source": [
    "def write_file(W, H, n, w, h, x, y, out_file):\n",
    "    with open(out_file, 'w+') as f_out:\n",
    "        f_out.write('{} {}\\n'.format(W, H))\n",
    "        f_out.write('{}\\n'.format(n))\n",
    "\n",
    "        for i in range(n):\n",
    "            f_out.write('{} {} {} {}\\n'.format(w[i], h[i], x[i], y[i]))\n",
    "\n",
    "def show(l,lw=1.5):\n",
    "    fig, (ax1, ax2) = plt.subplots(2, 1, figsize=(20, 20))    \n",
    "    dim_img_in=(np.sum([i[0] for i in l[1:]])+2*len(l)-4, max([i[1] for i in l[1:]]))\n",
    "    img_in=np.zeros(shape=dim_img_in)\n",
    "    pos=0\n",
    "    c=0\n",
    "    for i in l[1:]:\n",
    "        c-=1\n",
    "        i[2]-=1\n",
    "        i[3]-=1\n",
    "        img_in[pos:pos+i[0], 0:i[1]]=c\n",
    "        pos+=i[0]+2\n",
    "    \n",
    "    ax1.imshow(np.transpose(img_in), cmap='terrain')\n",
    "    ax1.set_xticks(np.arange(dim_img_in[0]+1)-0.5)\n",
    "    ax1.set_xticklabels([])\n",
    "    ax1.set_yticks(np.arange(dim_img_in[1]+1)-0.5)\n",
    "    ax1.set_yticklabels([])\n",
    "    ax1.set_xlim(-0.5,dim_img_in[0]-0.5)\n",
    "    ax1.set_ylim(-0.5,dim_img_in[1]-0.5)\n",
    "    ax1.grid(color='k', linestyle='-', linewidth=lw)\n",
    "        \n",
    "    dim_img_out=[l[0][0], l[0][1]+1]\n",
    "    img_out=np.zeros(shape=dim_img_out)\n",
    "    c=0\n",
    "    \n",
    "    for i in l[1:]:\n",
    "        c-=1\n",
    "        img_out[i[2]:i[2]+i[0],i[3]:i[3]+i[1]]=c        \n",
    "\n",
    "    ax2.imshow(np.transpose(img_out), cmap='terrain')\n",
    "    ax2.set_xticks(np.arange(dim_img_out[0]+1)-0.5)#,labels=[])\n",
    "    ax2.set_xticklabels([])\n",
    "    ax2.set_yticks(np.arange(dim_img_out[1]+1)-0.5)#,labels=[])\n",
    "    ax2.set_yticklabels([])\n",
    "    ax2.set_xlim(-0.5,dim_img_out[0]-0.5)\n",
    "    ax2.set_ylim(-0.5,dim_img_out[1]-0.5)\n",
    "    ax2.grid(color='k', linestyle='-', linewidth=lw)\n",
    "    \n",
    "    plt.show()\n",
    "\n",
    "def converter_sat_coord(m, x, y, W, H, n):\n",
    "    x_sol = []\n",
    "    y_sol = [] \n",
    "    \n",
    "    for i in range(n):\n",
    "        j = 0\n",
    "        while j < W:\n",
    "            if m.evaluate(x[i][j]):\n",
    "                x_sol.append(j)\n",
    "                break\n",
    "            j += 1\n",
    "\n",
    "        j = 0\n",
    "        while j < H:\n",
    "            if m.evaluate(y[i][j]):\n",
    "                y_sol.append(j)\n",
    "                break\n",
    "            j += 1\n",
    "\n",
    "    return [x_sol, y_sol]"
   ]
  },
  {
   "cell_type": "code",
   "execution_count": 12,
   "id": "33f0ac72",
   "metadata": {
    "pycharm": {
     "name": "#%%\n"
    }
   },
   "outputs": [],
   "source": [
    "def vlsi_sat(instance):\n",
    "    \n",
    "    ''' VARIABLES '''\n",
    "    \n",
    "    w = instance['points']['w']\n",
    "    h = instance['points']['h']\n",
    "    \n",
    "    W = instance['w']\n",
    "    H = sum(h)\n",
    "    n = instance['n']\n",
    "    \n",
    "    sum_a = sum([w_i*h_i for w_i,h_i in zip(w,h)])\n",
    "    #rs = [[p[0],p[1]] for p in instance['points']]\n",
    "        \n",
    "    '''\n",
    "    Massimo tra omin e altezza blocco con area massima\n",
    "    \n",
    "    Risultato * 2 + 1\n",
    "    '''\n",
    "    lb = int(sum_a/W)\n",
    "    ub = int(2*max(\n",
    "        max([[p[0],p[1]] for p in instance['points']],\\\n",
    "                         key=lambda p:p[0]*p[1])[1]\n",
    "                     ,lb))+1\n",
    "    print('lb', lb)\n",
    "    print('ub', ub)\n",
    "    \n",
    "    H = lb\n",
    "    while (lb < ub):\n",
    "        s = Solver()\n",
    "\n",
    "        '''\n",
    "        Let x_i and y_i be integer variables such that the pair (x_i, y_i)\n",
    "        represents the position of lower left coordinates of the rectangle\n",
    "        ri in the strip.\n",
    "        The domains of x_i and y_i are as folbows.\n",
    "                            D(x_i) = {a ∈ N | 0 ≤ a ≤ W − w_i}\n",
    "                            D(y_i) = {a ∈ N | 0 ≤ a ≤ H − h_i}\n",
    "        '''\n",
    "        \n",
    "        x = [[Bool(f\"x{i+1}_{x}\") for x in range(W)] for i in range(n)]\n",
    "        y = [[Bool(f\"y{i+1}_{y}\") for y in range(H)] for i in range(n)]\n",
    "        \n",
    "        \n",
    "        #x_2 = [[Bool(f\"x{i+1}_{x}\") for x in range(W)] for i in range(n)]\n",
    "        #y_2 = [[Bool(f\"y{i+1}_{y}\") for y in range(H)] for i in range(n)]\n",
    "        \n",
    "        for i in range(n): \n",
    "        # D(x_i) = {a ∈ N | 0 ≤ a ≤ W − w_i} -> W - w_i < a < W -> a = True\n",
    "        # D(y_i) = {a ∈ N | 0 ≤ a ≤ H − h_i} -> H - h_i < a < H -> a = True\n",
    "            for x_i in range(W - w[i], W):\n",
    "                s.add(x[i][x_i])\n",
    "            for y_i in range(H - h[i], H):\n",
    "                s.add(y[i][y_i])\n",
    "            # Order encoding constraints\n",
    "            for x_i in range(W - w[i]):  \n",
    "                s.add(Or(Not(x[i][x_i]), x[i][x_i + 1]))\n",
    "            for y_i in range(H - h[i]):  \n",
    "                s.add(Or(Not(y[i][y_i]), y[i][y_i + 1]))\n",
    "            \n",
    "        '''\n",
    "        Let r_i, r_j ∈ R(i != j) be two rectangles. We use two\n",
    "        kinds of propositional variables: lr_i,j and ud_i,j.\n",
    "        lr_i,j is true if r_i are placed at the left to the r_j.\n",
    "        ud_i,j is true if r_i are placed at the downward to the r_j.\n",
    "\n",
    "        For each rectangles r_i,r_j (i < j), we have the non-overlapping\n",
    "        constraints:\n",
    "                            lr_i,j ∨ lr_j,i ∨ ud_i,j ∨ ud_j,i\n",
    "                                ¬lr_i,j ∨ (x_i + w_i ≤ x_j)\n",
    "                                ¬lr_j,i ∨ (x_j + w_j ≤ x_i)\n",
    "                                ¬ud_i,j ∨ (y_i + h_i ≤ y_j)\n",
    "                                ¬ud_j,i ∨ (y_j + h_j ≤ y_i)\n",
    "        The parts between parentheses are encoded into SAT by using order\n",
    "        encoding.\n",
    "        '''\n",
    "        lr = [[Bool(f\"r{i+1}_lr_r{j+1}\") if j!=i else 0 for j in range(n)] for i in range(n)]\n",
    "        ud = [[Bool(f\"r{i+1}_ud_r{j+1}\") if i!=j else 0 for j in range(n)] for i in range(n)]\n",
    "  \n",
    "\n",
    "        '''\n",
    "        PER FLIPPARE:\n",
    "        \n",
    "        Se i != j \n",
    "            ( (Not(flip[i]) & Not(flip[j]) & Base) V \n",
    "            ( ((flip[i]) & Not(flip[j])) & Base con x,y invertiti a i) V\n",
    "            ( (Not(flip[i]) & (flip[j])) & Base con x,y invertiti a j) V\n",
    "            ( (Not(flip[i]) & Not(flip[j])) & Base con x,y invertiti a entrambi) \n",
    "        '''\n",
    "        \n",
    "        #flip = [Bool(f\"flip{i+1}\") for i in range(n)]\n",
    "\n",
    "        for i in range(n):\n",
    "            for j in range(n):\n",
    "                if i < j:\n",
    "                    s.add(Or(lr[i][j], lr[j][i], ud[i][j], ud[j][i]))\n",
    "                    \n",
    "                if i != j:\n",
    "                    # WIDTH\n",
    "                    s.add(Or(\n",
    "                        Not(lr[i][j]),\n",
    "                        Not(x[j][w[i] - 1])\n",
    "                    )) # left(r_i,r_j) -> x_j > w_i, lower bound for x_j\n",
    "\n",
    "                    for k in range(0,W-w[i]):\n",
    "                        s.add(Or(\n",
    "                               Not(lr[i][j]),\n",
    "                               x[i][k],\n",
    "                               Not(x[j][k+w[i]])\n",
    "                             )) #for any k: left(r_i,r_j) -> (x_i < k v ! x_j < k + w_i)\n",
    "\n",
    "                    # HEIGHT\n",
    "                    s.add(Or(\n",
    "                           Not(ud[i][j]),\n",
    "                           Not(y[j][h[i]-1])\n",
    "                         )) #under(r_i,r_j)-> y_j > h_i, lower bound for y_j\n",
    "\n",
    "                    for k in range(0,H-h[i]):\n",
    "                        s.add(Or(\n",
    "                               Not(ud[i][j]),\n",
    "                               y[i][k],\n",
    "                               Not(y[j][k+h[i]])\n",
    "                             )) #for any k: under(r_i,r_j) -> (y_j <= k + h_i -> y_i <= k)\n",
    "\n",
    "        if s.check() == sat:\n",
    "            ub = H\n",
    "            print('SAT:ub->',ub)\n",
    "        else:\n",
    "            lb = H + 1\n",
    "            print('UNSAT:lb->',lb)\n",
    "            \n",
    "        H =  int((lb+ub)/2)\n",
    "        \n",
    "        '''\n",
    "        N.B. We use 'Bisection Method' to optimize the solution:\n",
    "            while lb < ub\n",
    "                o := (lb + ub)/2;\n",
    "                resubt := Ψ ∪ {ph_o};\n",
    "                if resubt is SAT\n",
    "                    then ub := o;\n",
    "                    else lb := o + 1;\n",
    "            end while\n",
    "        '''\n",
    "    \n",
    "    return s.model(), x, y, H"
   ]
  },
  {
   "cell_type": "code",
   "execution_count": 13,
   "id": "6d7082ce",
   "metadata": {
    "pycharm": {
     "name": "#%%\n"
    }
   },
   "outputs": [
    {
     "name": "stdout",
     "output_type": "stream",
     "text": [
      "===============================================\n",
      "lb 8\n",
      "ub 17\n",
      "SAT:ub-> 8\n",
      "Instance[1]: 0.045 s\n",
      "===============================================\n",
      "\n",
      "\n",
      "===============================================\n",
      "lb 9\n",
      "ub 19\n",
      "SAT:ub-> 9\n",
      "Instance[2]: 0.067 s\n",
      "===============================================\n",
      "\n",
      "\n",
      "Wall time: 118 ms\n"
     ]
    }
   ],
   "source": [
    "%%time\n",
    "\n",
    "for ins in range(1,3):\n",
    "    f = open('../instances/ins-' + str(ins) + '.txt', 'r')\n",
    "    print('===============================================')\n",
    "    instance = {\n",
    "        'f_n': f.name.split('/')[2].split('.')[0].split('-')[1],\n",
    "        'w': int(f.readline()),\n",
    "        'n': int(f.readline()),\n",
    "        'points': np.array([tuple(int(el) for el in x.split())\\\n",
    "                            for x in f.readlines()],\\\n",
    "                            dtype=[('w','i4'),('h','i4')])\n",
    "    }\n",
    "    \n",
    "    s_time = time.time()\n",
    "    m,x,y,H = vlsi_sat(instance)\n",
    "    e_time = time.time() - s_time\n",
    "    \n",
    "    print(f'Instance[{ins}]: {round(e_time,3)} s')\n",
    "    cx, cy = converter_sat_coord(m, x, y, instance['w'],\\\n",
    "                                 sum(instance['points']['h']), instance['n'])\n",
    "\n",
    "    write_file(instance['w'], H, instance['n'], instance['points']['w'],\\\n",
    "               instance['points']['h'], cx, cy, './outputs_2/out_' + instance['f_n'] +'.txt')\n",
    "    print('===============================================')\n",
    "    print('\\n')"
   ]
  },
  {
   "cell_type": "code",
   "execution_count": 20,
   "id": "5cfb5562",
   "metadata": {},
   "outputs": [
    {
     "name": "stdout",
     "output_type": "stream",
     "text": [
      "[5, 0, 0, 3] [0, 3, 0, 3]\n"
     ]
    }
   ],
   "source": [
    "print(cx, cy)"
   ]
  },
  {
   "cell_type": "code",
   "execution_count": 11,
   "id": "a339f36f",
   "metadata": {},
   "outputs": [
    {
     "name": "stdout",
     "output_type": "stream",
     "text": [
      "[(3, 3) (3, 5) (5, 3) (5, 5)]\n",
      "[(1, 6), (6, 1), (4, 6), (1, 1)]\n"
     ]
    },
    {
     "data": {
      "image/png": "[encoded data removed]",
      "text/plain": [
       "<Figure size 1440x1440 with 2 Axes>"
      ]
     },
     "metadata": {
      "needs_background": "light"
     },
     "output_type": "display_data"
    }
   ],
   "source": [
    "for ins in range(1,2):\n",
    "    with open('./outputs_2/out_' + str(ins) +'.txt', \"r\") as file:  # Use file to refer to the file object\n",
    "        first_line = file.readline().strip().split(\" \")\n",
    "\n",
    "        width = int(first_line[0])\n",
    "        height = int(first_line[1])\n",
    "\n",
    "        n = int(file.readline().strip())\n",
    "\n",
    "        # Read all the remaining lines which contains the horizontal and vertical dimension of the i-th circuit\n",
    "        # and its bottom left corner coordinate\n",
    "        remaining_lines = file.readlines()\n",
    "\n",
    "        # To remove \\n\n",
    "        remaining_lines = [line.strip() for line in remaining_lines if line.strip()]\n",
    "\n",
    "        circuits = []\n",
    "        solution = {'corners': []}\n",
    "\n",
    "        for i in range(n):\n",
    "            line = remaining_lines[i]\n",
    "            line = line.split()\n",
    "            circuits.append((int(line[0]), int(line[1])))\n",
    "            solution['corners'].append((int(line[2]), int(line[3])))\n",
    "\n",
    "    # Solution\n",
    "    sol = {\n",
    "        \"w\": width,\n",
    "        \"h\": height,\n",
    "        \"n\": n,\n",
    "        \"points\" : np.array(circuits,\\\n",
    "                            dtype=[('w','i4'),('h','i4')])\n",
    "    }\n",
    "\n",
    "\n",
    "    print(sol['points'])\n",
    "    print([(x+1,y+1) for (x,y) in solution['corners']])\n",
    "\n",
    "    a = sol['points']\n",
    "    b = solution['corners']\n",
    "\n",
    "    l = [[sol['w'], sol['h']]]\n",
    "    for i in range(len(a)):\n",
    "        l.append([a[i][0],a[i][1],b[i][0]+1,b[i][1]+1])\n",
    "\n",
    "    #print(l)\n",
    "    show(l)"
   ]
  },
  {
   "cell_type": "code",
   "execution_count": null,
   "id": "7ddcf272",
   "metadata": {},
   "outputs": [],
   "source": []
  }
 ],
 "metadata": {
  "kernelspec": {
   "display_name": "Python 3 (ipykernel)",
   "language": "python",
   "name": "python3"
  },
  "language_info": {
   "codemirror_mode": {
    "name": "ipython",
    "version": 3
   },
   "file_extension": ".py",
   "mimetype": "text/x-python",
   "name": "python",
   "nbconvert_exporter": "python",
   "pygments_lexer": "ipython3",
   "version": "3.7.0"
  }
 },
 "nbformat": 4,
 "nbformat_minor": 5
}
