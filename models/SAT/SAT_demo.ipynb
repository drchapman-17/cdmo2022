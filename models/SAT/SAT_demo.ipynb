{
 "cells": [
  {
   "cell_type": "markdown",
   "metadata": {},
   "source": [
    "# VLSI - SAT Model\n",
    "\n",
    "#### Definition of the problem\n",
    "**Input**: A set *R = {r1, . . . , rn}* of *n* rectangles. Each rectangle\n",
    "*ri ∈ R* has a width *w_i* and a height *h_i* *(w_i, h_i ∈ N)*. A Strip of\n",
    "width *W ∈ N*.\n",
    "\n",
    "**Constraints**: Each rectangle cannot overlap with the others\n",
    "and the edges of the strip and must be parallel to the horizontal\n",
    "and the vertical axis.\n",
    "\n",
    "**Question**: What is the minimum height such that the set of\n",
    "rectangles can be packed in the given strip?"
   ]
  },
  {
   "cell_type": "code",
   "execution_count": null,
   "metadata": {},
   "outputs": [],
   "source": [
    "!pip3 install z3-solver"
   ]
  },
  {
   "cell_type": "code",
   "execution_count": 1,
   "metadata": {},
   "outputs": [],
   "source": [
    "import os,sys,inspect,getopt\n",
    "import numpy as np\n",
    "import matplotlib.pyplot as plt\n",
    "from pathlib import Path\n",
    "import time\n",
    "from z3 import *\n",
    "import math\n",
    "import pandas as pd\n",
    "import seaborn as sns\n",
    "import csv\n",
    "\n",
    "currentdir = os.path.dirname(os.path.realpath(\"__file__\"))\n",
    "parentdir = os.path.dirname(currentdir)\n",
    "sys.path.insert(0, parentdir) \n",
    "import utils"
   ]
  },
  {
   "cell_type": "markdown",
   "metadata": {},
   "source": [
    "### Useful functions "
   ]
  },
  {
   "cell_type": "code",
   "execution_count": 2,
   "metadata": {},
   "outputs": [],
   "source": [
    "def large_rectangles(w_i, w_j, h_i, h_j, W, H):\n",
    "    if w_i + w_j <= W and h_i + h_j <= H:\n",
    "        return False\n",
    "    elif w_i + w_j > W and h_i + h_j <= H:\n",
    "        return \"W\"\n",
    "    elif w_i + w_j <= W and h_i + h_j > H:\n",
    "        return \"H\"\n",
    "\n",
    "def same_rectangles(w1,w2,h1,h2):\n",
    "    if w1 == w2 and h1 == h2:\n",
    "        return True\n",
    "    else:\n",
    "        return False\n",
    "\n",
    "def largest_rectangle(idx, max_idx):\n",
    "    if idx == max_idx:\n",
    "        return True\n",
    "    else:\n",
    "        return False\n",
    "    \n",
    "def no_overlap(W, H, widths, heights, i, j, flip, px, py, lr, ud):            \n",
    "    dim1,dim2=(widths[i],heights[i]) if not flip else (heights[i],widths[i])\n",
    "    cts=[]\n",
    "    \n",
    "    if lr:\n",
    "        # lr(r_i,r_j)-> x_j > w_i\n",
    "        cts.append(Or(\n",
    "                Not(lr[i][j]),\n",
    "                Not(px[j][dim1-1]),\n",
    "            )) \n",
    "\n",
    "        for e in range(0,W-dim1):\n",
    "            cts.append(Or(\n",
    "                Not(lr[i][j]),\n",
    "                Not(px[j][e+dim1]),\n",
    "                px[i][e]\n",
    "            ))\n",
    "\n",
    "    if ud:\n",
    "        # ud(r_i,r_j)-> y_j > h_i\n",
    "        cts.append(Or(\n",
    "                Not(ud[i][j]),\n",
    "                Not(py[j][dim2-1])\n",
    "            ))\n",
    "\n",
    "        for f in range(0,H-dim2):\n",
    "            cts.append(Or(\n",
    "                Not(ud[i][j]),\n",
    "                Not(py[j][f+dim2]),\n",
    "                py[i][f]\n",
    "            ))\n",
    "\n",
    "    return cts\n",
    "\n",
    "def getCoords(vars_dict, W, H, n, widths, heights, rot = False):\n",
    "    x_sol = []\n",
    "    y_sol = [] \n",
    "    w=[]\n",
    "    h=[]\n",
    "                \n",
    "    for i in range(n):\n",
    "        if rot:\n",
    "            if vars_dict[f\"f{i+1}\"]:  \n",
    "                w.append(heights[i])\n",
    "                h.append(widths[i])\n",
    "            else:\n",
    "                w.append(widths[i])\n",
    "                h.append(heights[i])\n",
    "                \n",
    "        x = 0\n",
    "        while x < W:\n",
    "            try:\n",
    "                if vars_dict[f\"px{i+1}_{x}\"]:                \n",
    "                    x_sol.append(x)\n",
    "                    break\n",
    "            except:\n",
    "                pass\n",
    "            x += 1\n",
    "        y = 0\n",
    "        \n",
    "        while y < H:\n",
    "            try:\n",
    "                if vars_dict[f\"py{i+1}_{y}\"]:                \n",
    "                    y_sol.append(y)\n",
    "                    break\n",
    "            except:\n",
    "                pass\n",
    "            y += 1\n",
    "        \n",
    "    return x_sol, y_sol, w, h"
   ]
  },
  {
   "cell_type": "markdown",
   "metadata": {},
   "source": [
    "### Model - Order Encoding\n",
    "\n",
    "[1] https://web.telegram.org/cd003ba1-9c37-41f3-9be7-dceeb848b5e2\n",
    "\n",
    "[2] https://sourceforge.net/p/potassco/mailman/attachment/1323943585.4102.431.camel@white.sevalidation.com/1/"
   ]
  },
  {
   "cell_type": "code",
   "execution_count": 15,
   "metadata": {},
   "outputs": [],
   "source": [
    "'''\n",
    " # SEARCH SPACE REDUCTION \n",
    "    1. Large Rectangles (LR): \n",
    "        Reducing the possibilities for placing large rectangles.\n",
    "        For each rectangle ri and r j, if wi + w j > W we can not pack\n",
    "        these rectangles in the horizontal direction. We therefore\n",
    "        modify non-overlapping constraints.\n",
    "        This technique is also applicable for the vertical direction.\n",
    "\n",
    "    2. Same Rectangles (SR):\n",
    "        For each rectangle ri and r j, if (wi, hi) = (w j, h j) we can \n",
    "        fix the positional relation of these rectangles. \n",
    "        \n",
    "    3. Largest Rectangle (LS): \n",
    "        Reducing the domain for the largest rectangle.\n",
    "        With breaking symmetries, we can reduce the domain of\n",
    "        largest rectangle.\n",
    "\n",
    "                    D(x_i) = {a ∈ N | 0 ≤ a ≤ floor((W − w_i)/2)}\n",
    "                    D(y_i) = {a ∈ N | 0 ≤ a ≤ floor((H − h_i)/2)}\n",
    "'''\n",
    "\n",
    "def vlsi_sat(instance):\n",
    "    ''' VARIABLES '''\n",
    "\n",
    "    n = instance['n']\n",
    "    W = instance['w']\n",
    "    widths  = [i[0] for i in instance['dim']]\n",
    "    heights = [i[1] for i in instance['dim']]\n",
    "    largest_idx = [w*h for w,h in zip(widths,heights)].index(max([w*h for w,h in\\\n",
    "                                                                        zip(widths,heights)]))   \n",
    "    tot_area=sum([w*h for w,h in zip(widths,heights)])\n",
    "    model = None\n",
    "    \n",
    "    naiveSolution = utils.computeNaiveSolution(instance)\n",
    "    \n",
    "    if not naiveSolution:\n",
    "        return None,0.0\n",
    "\n",
    "    lb = int(math.ceil(tot_area/W))\n",
    "    ub = naiveSolution[0][1]+1\n",
    "    \n",
    "    print(\"\\n>Starting Lower Bound:\", lb)\n",
    "    print(\">Starting Upper Bound:\", ub)\n",
    "    \n",
    "    H = int((lb+ub)/2)\n",
    "    \n",
    "    s_time = time.time()\n",
    "    while (lb < ub):\n",
    "        s = Solver()\n",
    "        \n",
    "        ''' SOLVER WITH 5 MINUTES TIMEOUT'''\n",
    "        s.set(\"timeout\", int((300-(time.time()-s_time))*1000))\n",
    "        \n",
    "        if (time.time() > s_time + 300):\n",
    "            break\n",
    "        else:\n",
    "            print(f\"\\t>Trying H:{H}\")\n",
    "        \n",
    "        '''\n",
    "        ==================================================================\n",
    "        Let x_i and y_i be integer variables such that the pair (x_i, y_i)\n",
    "        represents the position of lower left coordinates of the rectangle\n",
    "        ri in the strip.\n",
    "        The domains of x_i and y_i are as folbows.\n",
    "                            D(x_i) = {a ∈ N | 0 ≤ a ≤ W − w_i}\n",
    "                            D(y_i) = {a ∈ N | 0 ≤ a ≤ H − h_i}\n",
    "        ==================================================================\n",
    "        Let r_i, r_j ∈ R(i != j) be two rectangles. We use two\n",
    "        kinds of propositional variables: lr_i,j and ud_i,j.\n",
    "        lr_i,j is true if r_i are placed at the left to the r_j.\n",
    "        ud_i,j is true if r_i are placed at the downward to the r_j.\n",
    "\n",
    "        ==================================================================\n",
    "        For each rectangles r_i,r_j (i < j), we have the non-overlapping\n",
    "        constraints:\n",
    "                            lr_i,j ∨ lr_j,i ∨ ud_i,j ∨ ud_j,i\n",
    "                                ¬lr_i,j ∨ (x_i + w_i ≤ x_j)\n",
    "                                ¬lr_j,i ∨ (x_j + w_j ≤ x_i)\n",
    "                                ¬ud_i,j ∨ (y_i + h_i ≤ y_j)\n",
    "                                ¬ud_j,i ∨ (y_j + h_j ≤ y_i)\n",
    "        The parts between parentheses are encoded into SAT by using order\n",
    "        encoding.\n",
    "        '''\n",
    "        px = [[Bool(f\"px{i+1}_{x}\") for x in range(W)] for i in range(n)] # x[i][i]: block i has y coordinate <=j\n",
    "        py = [[Bool(f\"py{i+1}_{y}\") for y in range(H)] for i in range(n)] # x[i][i]: block i has y coordinate <=j\n",
    "        lr = [[Bool(f\"lr_{i+1}_{j+1}\") if j!=i else 0 for j in range(n)] for i in range(n)]\n",
    "        ud = [[Bool(f\"ud_{i+1}_{j+1}\") if i!=j else 0 for j in range(n)] for i in range(n)]\n",
    "\n",
    "        # Exactly One constraint\n",
    "        for i in range(n): \n",
    "            '''\n",
    "            ==================================================================\n",
    "            Order encoding is a generalization of the encoding method\n",
    "            originally used by Crawford and Baker for Job-Shop\n",
    "            Scheduling problems.\n",
    "            It uses a different Boolean variable P_x,a representing x ≤ a\n",
    "            for each integer variable x and integer value a.\n",
    "            \n",
    "            For each rectangle r_i, and integer e and f such that\n",
    "            0 ≤ e ≤ W − wi and 0 ≤ f ≤ H − h_i, we have the 2-literal\n",
    "            axiom clauses due to order encoding,\n",
    "                                ¬ px_i,e ∨ px_i,e+1\n",
    "                                ¬ py_i, f ∨ py_i, f +1\n",
    "            ==================================================================\n",
    "            '''            \n",
    "            if largest_rectangle(i, largest_idx):\n",
    "                s.add([px[i][e] for e in range(int((W-widths[i])/2),W)]) # block i starts for sure before position W-wi-> x[i][j]=True for all j > W-wi \n",
    "                s.add([py[i][f] for f in range(int((H-heights[i])/2),H)]) # same for the y coordinate \n",
    "            else:\n",
    "                s.add([px[i][e] for e in range(W-widths[i],W)]) # block i starts for sure before position W-wi-> x[i][j]=True for all j > W-wi \n",
    "                s.add([py[i][f] for f in range(H-heights[i],H)]) # same for the y coordinate \n",
    "            \n",
    "            s.add([Or(Not(px[i][e]),px[i][e+1]) for e in range(W-1)]) #x[i][j] implies x[i][j+1]\n",
    "            s.add([Or(Not(py[i][f]),py[i][f+1]) for f in range(H-1)]) #y[i][j] implies y[i][j+1]\n",
    "\n",
    "            for j in range(n):\n",
    "                '''\n",
    "                ==================================================================\n",
    "                For each rectangles i,j (i < j), we have the non-overlapping\n",
    "                constraints as the 4-literal clauses:\n",
    "                                lr_i,j ∨ lr_j,i ∨ ud_i,j ∨ ud_j,i \n",
    "                                \n",
    "                For each rectangles i, j (i < j), and integer e and f such that\n",
    "                0 ≤ e < W − wi and 0 ≤ f < H − h j, we also have the\n",
    "                non-overlapping constraints as the 3-literal clauses:\n",
    "                                ¬lr_i,j ∨ px_i,e ∨ ¬px_j,e + w_i\n",
    "                                ¬lr_j,i ∨ px_j,e ∨ ¬px_i,e + w_j\n",
    "                                ¬ud_i,j ∨ py_i,f ∨ ¬py_j,f + h_i\n",
    "                                ¬ud_j,i ∨ py_j,f ∨ ¬py_i,f + h_j\n",
    "                ==================================================================\n",
    "                '''\n",
    "                if i<j:  \n",
    "                    if large_rectangles(widths[i],widths[j],heights[i],heights[j], W, H) == False:\n",
    "                        if same_rectangles(widths[i],widths[j],heights[i],heights[j]):\n",
    "                            s.add(Or(lr[i][j],ud[i][j],ud[j][i]))\n",
    "\n",
    "                            s.add(\n",
    "                                *no_overlap(W,H,widths,heights,i,j,False,px,py,lr,ud),\n",
    "                                *no_overlap(W,H,widths,heights,j,i,False,px,py,False,ud)\n",
    "                            )\n",
    "\n",
    "                            s.add(Or(\n",
    "                                    Not(ud[i][j]),\n",
    "                                    lr[j][i]\n",
    "                            ))\n",
    "                        else:\n",
    "                            if not largest_rectangle(j, largest_idx):\n",
    "                                s.add(Or(lr[i][j],lr[j][i],ud[i][j],ud[j][i]))\n",
    "\n",
    "                                s.add(\n",
    "                                    *no_overlap(W,H,widths,heights,i,j,False,px,py,lr,ud),\n",
    "                                    *no_overlap(W,H,widths,heights,j,i,False,px,py,lr,ud)\n",
    "                                )\n",
    "                            else:\n",
    "                                s.add(Or(lr[j][i],ud[i][j],ud[j][i]))\n",
    "\n",
    "                                s.add(\n",
    "                                    *no_overlap(W,H,widths,heights,i,j,False,px,py,False,ud),\n",
    "                                    *no_overlap(W,H,widths,heights,j,i,False,px,py,lr,ud)\n",
    "                                )\n",
    "                    elif large_rectangles(widths[i],widths[j],heights[i],heights[j], W, H) == \"W\":\n",
    "                        s.add(Or(ud[i][j],ud[j][i]))\n",
    "\n",
    "                        s.add(\n",
    "                            *no_overlap(W,H,widths,heights,i,j,False,px,py,False,ud),\n",
    "                            *no_overlap(W,H,widths,heights,j,i,False,px,py,False,ud)\n",
    "                        )\n",
    "\n",
    "                    elif large_rectangles(widths[i],widths[j],heights[i],heights[j], W, H) == \"H\":\n",
    "                        if same_rectangles(widths[i],widths[j],heights[i],heights[j]):\n",
    "                            s.add(lr[i][j])\n",
    "\n",
    "                            s.add(\n",
    "                                *no_overlap(W,H,widths,heights,i,j,False,px,py,lr,False)\n",
    "                            )\n",
    "\n",
    "                            s.add(Or(\n",
    "                                    Not(ud[i][j]),\n",
    "                                    lr[j][i]\n",
    "                            ))  \n",
    "                        else:                            \n",
    "                            s.add(Or(lr[i][j],lr[j][i]))\n",
    "\n",
    "                            s.add(\n",
    "                                *no_overlap(W,H,widths,heights,i,j,False,px,py,lr,False),\n",
    "                                *no_overlap(W,H,widths,heights,j,i,False,px,py,lr,False)\n",
    "                            )\n",
    "\n",
    "\n",
    "        if s.check() == sat:\n",
    "            if (time.time() - s_time <= 300):\n",
    "                ub = H\n",
    "                model = s.model()                   \n",
    "            \n",
    "            print(f'\\t\\t>SAT - ub: {ub}, {time.time() - s_time} s')\n",
    "            \n",
    "        else:\n",
    "            lb = H + 1\n",
    "            if (time.time() - s_time <= 300):\n",
    "                print(f'\\t\\t>UNSAT - lb: {lb}, {time.time() - s_time} s')\n",
    "                \n",
    "            \n",
    "        H =  int((lb+ub)/2)\n",
    "        \n",
    "        '''\n",
    "        ==================================================================\n",
    "        'Bisection Method':\n",
    "            while lb < ub\n",
    "                o := (lb + ub)/2;\n",
    "                result := Ψ ∪ {ph_o};\n",
    "                if result is SAT\n",
    "                    then ub := o;\n",
    "                    else lb := o + 1;\n",
    "            end while\n",
    "        ==================================================================\n",
    "        '''\n",
    "    \n",
    "    e_time = time.time() - s_time\n",
    "    \n",
    "    if model == None:\n",
    "        return None, e_time\n",
    "    elif e_time > 300:\n",
    "        variables = { str(d):model.evaluate(model[d]) for d in model }\n",
    "        cx,cy,_,_ = getCoords(variables, W, ub, n, widths, heights)\n",
    "\n",
    "        sol = [[W,ub]]+[[widths[i],heights[i],cx[i]+1,cy[i]+1]\\\n",
    "                    for i in range(min(len(cx),len(cy),len(widths),len(heights)))]\n",
    "        \n",
    "        return sol, e_time\n",
    "    else:\n",
    "        variables = { str(d):model.evaluate(model[d]) for d in model }\n",
    "        cx,cy,_,_ = getCoords(variables, W, H, n, widths, heights)\n",
    "        \n",
    "        sol=[[W,H]]+[[widths[i],heights[i],cx[i]+1,cy[i]+1]\\\n",
    "                    for i in range(n)]\n",
    "        \n",
    "        return sol, e_time"
   ]
  },
  {
   "cell_type": "code",
   "execution_count": 6,
   "metadata": {},
   "outputs": [
    {
     "name": "stdout",
     "output_type": "stream",
     "text": [
      "========================================================================================\n",
      "Instance: n=4 w=8 dim=[[3, 3], [3, 5], [5, 3], [5, 5]]\n",
      "\n",
      ">Starting Lower Bound: 8\n",
      ">Starting Upper Bound: 9\n",
      "\t>Trying H:8\n",
      "\t\t>SAT - ub: 8, 0.039700984954833984 s\n"
     ]
    },
    {
     "data": {
      "image/png": "[encoded data removed]",
      "text/plain": [
       "<Figure size 432x288 with 1 Axes>"
      ]
     },
     "metadata": {},
     "output_type": "display_data"
    },
    {
     "name": "stdout",
     "output_type": "stream",
     "text": [
      "Instance[1] solved in 0.04 s, height: 8\n",
      "========================================================================================\n",
      "\n",
      "\n",
      "========================================================================================\n",
      "Instance: n=5 w=9 dim=[[3, 3], [3, 4], [3, 5], [3, 6], [3, 9]]\n",
      "\n",
      ">Starting Lower Bound: 9\n",
      ">Starting Upper Bound: 10\n",
      "\t>Trying H:9\n",
      "\t\t>SAT - ub: 9, 0.05794358253479004 s\n"
     ]
    },
    {
     "data": {
      "image/png": "[encoded data removed]",
      "text/plain": [
       "<Figure size 432x288 with 1 Axes>"
      ]
     },
     "metadata": {},
     "output_type": "display_data"
    },
    {
     "name": "stdout",
     "output_type": "stream",
     "text": [
      "Instance[2] solved in 0.058 s, height: 9\n",
      "========================================================================================\n",
      "\n",
      "\n",
      "========================================================================================\n",
      "Instance: n=6 w=10 dim=[[3, 3], [3, 4], [3, 6], [3, 7], [4, 4], [4, 6]]\n",
      "\n",
      ">Starting Lower Bound: 10\n",
      ">Starting Upper Bound: 11\n",
      "\t>Trying H:10\n",
      "\t\t>SAT - ub: 10, 0.09100890159606934 s\n"
     ]
    },
    {
     "data": {
      "image/png": "[encoded data removed]",
      "text/plain": [
       "<Figure size 432x288 with 1 Axes>"
      ]
     },
     "metadata": {},
     "output_type": "display_data"
    },
    {
     "name": "stdout",
     "output_type": "stream",
     "text": [
      "Instance[3] solved in 0.091 s, height: 10\n",
      "========================================================================================\n",
      "\n",
      "\n",
      "========================================================================================\n",
      "Instance: n=7 w=11 dim=[[3, 3], [3, 4], [3, 5], [3, 6], [5, 3], [5, 4], [8, 4]]\n",
      "\n",
      ">Starting Lower Bound: 11\n",
      ">Starting Upper Bound: 13\n",
      "\t>Trying H:12\n",
      "\t\t>SAT - ub: 12, 0.14499878883361816 s\n",
      "\t>Trying H:11\n",
      "\t\t>SAT - ub: 11, 0.28803229331970215 s\n"
     ]
    },
    {
     "data": {
      "image/png": "[encoded data removed]",
      "text/plain": [
       "<Figure size 432x288 with 1 Axes>"
      ]
     },
     "metadata": {},
     "output_type": "display_data"
    },
    {
     "name": "stdout",
     "output_type": "stream",
     "text": [
      "Instance[4] solved in 0.288 s, height: 11\n",
      "========================================================================================\n",
      "\n",
      "\n",
      "========================================================================================\n",
      "Instance: n=8 w=12 dim=[[3, 3], [3, 4], [3, 5], [3, 6], [3, 7], [3, 8], [3, 9], [6, 3]]\n",
      "\n",
      ">Starting Lower Bound: 12\n",
      ">Starting Upper Bound: 15\n",
      "\t>Trying H:13\n",
      "\t\t>SAT - ub: 13, 0.2109994888305664 s\n",
      "\t>Trying H:12\n",
      "\t\t>SAT - ub: 12, 0.40903449058532715 s\n"
     ]
    },
    {
     "data": {
      "image/png": "[encoded data removed]",
      "text/plain": [
       "<Figure size 432x288 with 1 Axes>"
      ]
     },
     "metadata": {},
     "output_type": "display_data"
    },
    {
     "name": "stdout",
     "output_type": "stream",
     "text": [
      "Instance[5] solved in 0.409 s, height: 12\n",
      "========================================================================================\n",
      "\n",
      "\n",
      "========================================================================================\n",
      "Instance: n=9 w=13 dim=[[3, 3], [3, 4], [3, 5], [3, 6], [3, 7], [3, 8], [4, 3], [4, 4], [7, 6]]\n",
      "\n",
      ">Starting Lower Bound: 13\n",
      ">Starting Upper Bound: 16\n",
      "\t>Trying H:14\n",
      "\t\t>SAT - ub: 14, 0.32904553413391113 s\n",
      "\t>Trying H:13\n",
      "\t\t>SAT - ub: 13, 0.5919313430786133 s\n"
     ]
    },
    {
     "data": {
      "image/png": "[encoded data removed]",
      "text/plain": [
       "<Figure size 432x288 with 1 Axes>"
      ]
     },
     "metadata": {},
     "output_type": "display_data"
    },
    {
     "name": "stdout",
     "output_type": "stream",
     "text": [
      "Instance[6] solved in 0.592 s, height: 13\n",
      "========================================================================================\n",
      "\n",
      "\n",
      "========================================================================================\n",
      "Instance: n=9 w=14 dim=[[3, 3], [3, 4], [3, 5], [3, 6], [3, 7], [3, 8], [3, 9], [5, 4], [5, 10]]\n",
      "\n",
      ">Starting Lower Bound: 14\n",
      ">Starting Upper Bound: 17\n",
      "\t>Trying H:15\n",
      "\t\t>SAT - ub: 15, 0.29999566078186035 s\n",
      "\t>Trying H:14\n",
      "\t\t>SAT - ub: 14, 0.5870263576507568 s\n"
     ]
    },
    {
     "data": {
      "image/png": "[encoded data removed]",
      "text/plain": [
       "<Figure size 432x288 with 1 Axes>"
      ]
     },
     "metadata": {},
     "output_type": "display_data"
    },
    {
     "name": "stdout",
     "output_type": "stream",
     "text": [
      "Instance[7] solved in 0.587 s, height: 14\n",
      "========================================================================================\n",
      "\n",
      "\n",
      "========================================================================================\n",
      "Instance: n=10 w=15 dim=[[3, 3], [3, 4], [3, 5], [3, 6], [3, 7], [3, 8], [3, 9], [3, 12], [3, 15], [6, 3]]\n",
      "\n",
      ">Starting Lower Bound: 15\n",
      ">Starting Upper Bound: 17\n",
      "\t>Trying H:16\n",
      "\t\t>SAT - ub: 16, 0.3680388927459717 s\n",
      "\t>Trying H:15\n",
      "\t\t>SAT - ub: 15, 0.7320339679718018 s\n"
     ]
    },
    {
     "data": {
      "image/png": "[encoded data removed]",
      "text/plain": [
       "<Figure size 432x288 with 1 Axes>"
      ]
     },
     "metadata": {},
     "output_type": "display_data"
    },
    {
     "name": "stdout",
     "output_type": "stream",
     "text": [
      "Instance[8] solved in 0.732 s, height: 15\n",
      "========================================================================================\n",
      "\n",
      "\n",
      "========================================================================================\n",
      "Instance: n=10 w=16 dim=[[3, 3], [3, 4], [3, 5], [3, 6], [3, 7], [3, 8], [3, 10], [3, 12], [4, 7], [7, 9]]\n",
      "\n",
      ">Starting Lower Bound: 16\n",
      ">Starting Upper Bound: 19\n",
      "\t>Trying H:17\n",
      "\t\t>SAT - ub: 17, 0.3950541019439697 s\n",
      "\t>Trying H:16\n",
      "\t\t>SAT - ub: 16, 0.7840976715087891 s\n"
     ]
    },
    {
     "data": {
      "image/png": "[encoded data removed]",
      "text/plain": [
       "<Figure size 432x288 with 1 Axes>"
      ]
     },
     "metadata": {},
     "output_type": "display_data"
    },
    {
     "name": "stdout",
     "output_type": "stream",
     "text": [
      "Instance[9] solved in 0.784 s, height: 16\n",
      "========================================================================================\n",
      "\n",
      "\n",
      "========================================================================================\n",
      "Instance: n=12 w=17 dim=[[3, 3], [3, 4], [3, 5], [3, 6], [3, 7], [3, 8], [3, 9], [4, 3], [4, 8], [4, 14], [7, 3], [7, 6]]\n",
      "\n",
      ">Starting Lower Bound: 17\n",
      ">Starting Upper Bound: 18\n",
      "\t>Trying H:17\n",
      "\t\t>SAT - ub: 17, 0.6585252285003662 s\n"
     ]
    },
    {
     "data": {
      "image/png": "[encoded data removed]",
      "text/plain": [
       "<Figure size 432x288 with 1 Axes>"
      ]
     },
     "metadata": {},
     "output_type": "display_data"
    },
    {
     "name": "stdout",
     "output_type": "stream",
     "text": [
      "Instance[10] solved in 0.659 s, height: 17\n",
      "========================================================================================\n",
      "\n",
      "\n",
      "========================================================================================\n",
      "Instance: n=16 w=18 dim=[[3, 3], [3, 4], [3, 5], [3, 6], [3, 7], [3, 8], [3, 10], [3, 11], [4, 3], [4, 4], [4, 5], [4, 6], [5, 3], [5, 4], [5, 5], [5, 6]]\n",
      "\n",
      ">Starting Lower Bound: 18\n",
      ">Starting Upper Bound: 23\n",
      "\t>Trying H:20\n",
      "\t\t>SAT - ub: 20, 1.414182186126709 s\n",
      "\t>Trying H:19\n",
      "\t\t>SAT - ub: 19, 2.7854864597320557 s\n",
      "\t>Trying H:18\n",
      "\t\t>SAT - ub: 18, 4.1857383251190186 s\n"
     ]
    },
    {
     "data": {
      "image/png": "[encoded data removed]",
      "text/plain": [
       "<Figure size 432x288 with 1 Axes>"
      ]
     },
     "metadata": {},
     "output_type": "display_data"
    },
    {
     "name": "stdout",
     "output_type": "stream",
     "text": [
      "Instance[11] solved in 4.186 s, height: 18\n",
      "========================================================================================\n",
      "\n",
      "\n",
      "========================================================================================\n",
      "Instance: n=14 w=19 dim=[[3, 3], [3, 4], [3, 5], [3, 6], [3, 7], [3, 8], [3, 9], [3, 10], [3, 11], [3, 13], [3, 19], [4, 5], [4, 6], [4, 8]]\n",
      "\n",
      ">Starting Lower Bound: 19\n",
      ">Starting Upper Bound: 23\n",
      "\t>Trying H:21\n",
      "\t\t>SAT - ub: 21, 1.038637638092041 s\n",
      "\t>Trying H:20\n",
      "\t\t>SAT - ub: 20, 2.1022796630859375 s\n",
      "\t>Trying H:19\n",
      "\t\t>SAT - ub: 19, 3.116347551345825 s\n"
     ]
    },
    {
     "data": {
      "image/png": "[encoded data removed]",
      "text/plain": [
       "<Figure size 432x288 with 1 Axes>"
      ]
     },
     "metadata": {},
     "output_type": "display_data"
    },
    {
     "name": "stdout",
     "output_type": "stream",
     "text": [
      "Instance[12] solved in 3.117 s, height: 19\n",
      "========================================================================================\n",
      "\n",
      "\n",
      "========================================================================================\n",
      "Instance: n=14 w=20 dim=[[3, 3], [3, 4], [3, 5], [3, 6], [3, 7], [3, 8], [3, 9], [3, 10], [3, 11], [3, 17], [4, 3], [4, 9], [4, 11], [4, 17]]\n",
      "\n",
      ">Starting Lower Bound: 20\n",
      ">Starting Upper Bound: 24\n",
      "\t>Trying H:22\n",
      "\t\t>SAT - ub: 22, 1.10312819480896 s\n",
      "\t>Trying H:21\n",
      "\t\t>SAT - ub: 21, 2.149195671081543 s\n",
      "\t>Trying H:20\n",
      "\t\t>SAT - ub: 20, 3.1944427490234375 s\n"
     ]
    },
    {
     "data": {
      "image/png": "[encoded data removed]",
      "text/plain": [
       "<Figure size 432x288 with 1 Axes>"
      ]
     },
     "metadata": {},
     "output_type": "display_data"
    },
    {
     "name": "stdout",
     "output_type": "stream",
     "text": [
      "Instance[13] solved in 3.194 s, height: 20\n",
      "========================================================================================\n",
      "\n",
      "\n",
      "========================================================================================\n",
      "Instance: n=15 w=21 dim=[[3, 3], [3, 4], [3, 5], [3, 6], [3, 7], [3, 8], [3, 9], [3, 10], [3, 14], [3, 18], [4, 4], [4, 6], [4, 11], [5, 6], [5, 15]]\n",
      "\n",
      ">Starting Lower Bound: 21\n",
      ">Starting Upper Bound: 25\n",
      "\t>Trying H:23\n",
      "\t\t>SAT - ub: 23, 1.3278429508209229 s\n",
      "\t>Trying H:22\n",
      "\t\t>SAT - ub: 22, 2.610595941543579 s\n",
      "\t>Trying H:21\n",
      "\t\t>SAT - ub: 21, 3.9490959644317627 s\n"
     ]
    },
    {
     "data": {
      "image/png": "[encoded data removed]",
      "text/plain": [
       "<Figure size 432x288 with 1 Axes>"
      ]
     },
     "metadata": {},
     "output_type": "display_data"
    },
    {
     "name": "stdout",
     "output_type": "stream",
     "text": [
      "Instance[14] solved in 3.949 s, height: 21\n",
      "========================================================================================\n",
      "\n",
      "\n",
      "========================================================================================\n",
      "Instance: n=16 w=22 dim=[[3, 3], [3, 4], [3, 5], [3, 6], [3, 7], [3, 8], [3, 9], [3, 10], [3, 11], [3, 12], [3, 13], [3, 14], [3, 22], [4, 3], [4, 19], [6, 4]]\n",
      "\n",
      ">Starting Lower Bound: 22\n",
      ">Starting Upper Bound: 24\n",
      "\t>Trying H:23\n",
      "\t\t>SAT - ub: 23, 1.4952905178070068 s\n",
      "\t>Trying H:22\n",
      "\t\t>SAT - ub: 22, 2.932650089263916 s\n"
     ]
    },
    {
     "data": {
      "image/png": "[encoded data removed]",
      "text/plain": [
       "<Figure size 432x288 with 1 Axes>"
      ]
     },
     "metadata": {},
     "output_type": "display_data"
    },
    {
     "name": "stdout",
     "output_type": "stream",
     "text": [
      "Instance[15] solved in 2.934 s, height: 22\n",
      "========================================================================================\n",
      "\n",
      "\n",
      "========================================================================================\n",
      "Instance: n=19 w=23 dim=[[3, 3], [3, 4], [3, 5], [3, 6], [3, 7], [3, 8], [3, 9], [3, 10], [3, 11], [3, 12], [3, 14], [3, 20], [4, 3], [4, 4], [4, 6], [4, 10], [4, 11], [4, 12], [6, 3]]\n",
      "\n",
      ">Starting Lower Bound: 23\n",
      ">Starting Upper Bound: 27\n",
      "\t>Trying H:25\n",
      "\t\t>SAT - ub: 25, 2.503742218017578 s\n",
      "\t>Trying H:24\n",
      "\t\t>SAT - ub: 24, 4.886324167251587 s\n",
      "\t>Trying H:23\n",
      "\t\t>SAT - ub: 23, 7.7972729206085205 s\n"
     ]
    },
    {
     "data": {
      "image/png": "[encoded data removed]",
      "text/plain": [
       "<Figure size 432x288 with 1 Axes>"
      ]
     },
     "metadata": {},
     "output_type": "display_data"
    },
    {
     "name": "stdout",
     "output_type": "stream",
     "text": [
      "Instance[16] solved in 7.798 s, height: 23\n",
      "========================================================================================\n",
      "\n",
      "\n",
      "========================================================================================\n",
      "Instance: n=18 w=24 dim=[[3, 3], [3, 4], [3, 5], [3, 6], [3, 7], [3, 8], [3, 9], [3, 10], [3, 12], [3, 14], [3, 18], [3, 24], [4, 3], [4, 4], [4, 5], [4, 12], [5, 8], [5, 16]]\n",
      "\n",
      ">Starting Lower Bound: 24\n",
      ">Starting Upper Bound: 28\n",
      "\t>Trying H:26\n",
      "\t\t>SAT - ub: 26, 2.1461899280548096 s\n",
      "\t>Trying H:25\n",
      "\t\t>SAT - ub: 25, 4.348102807998657 s\n",
      "\t>Trying H:24\n",
      "\t\t>SAT - ub: 24, 6.501140832901001 s\n"
     ]
    },
    {
     "data": {
      "image/png": "[encoded data removed]",
      "text/plain": [
       "<Figure size 432x288 with 1 Axes>"
      ]
     },
     "metadata": {},
     "output_type": "display_data"
    },
    {
     "name": "stdout",
     "output_type": "stream",
     "text": [
      "Instance[17] solved in 6.501 s, height: 24\n",
      "========================================================================================\n",
      "\n",
      "\n",
      "========================================================================================\n",
      "Instance: n=19 w=25 dim=[[3, 3], [3, 4], [3, 5], [3, 6], [3, 7], [3, 8], [3, 9], [3, 10], [3, 11], [3, 13], [3, 14], [3, 17], [3, 18], [3, 19], [3, 25], [4, 5], [4, 7], [4, 13], [6, 3]]\n",
      "\n",
      ">Starting Lower Bound: 25\n",
      ">Starting Upper Bound: 29\n",
      "\t>Trying H:27\n",
      "\t\t>SAT - ub: 27, 2.529315948486328 s\n",
      "\t>Trying H:26\n",
      "\t\t>SAT - ub: 26, 5.072140455245972 s\n",
      "\t>Trying H:25\n",
      "\t\t>SAT - ub: 25, 7.547877073287964 s\n"
     ]
    },
    {
     "data": {
      "image/png": "[encoded data removed]",
      "text/plain": [
       "<Figure size 432x288 with 1 Axes>"
      ]
     },
     "metadata": {},
     "output_type": "display_data"
    },
    {
     "name": "stdout",
     "output_type": "stream",
     "text": [
      "Instance[18] solved in 7.548 s, height: 25\n",
      "========================================================================================\n",
      "\n",
      "\n",
      "========================================================================================\n",
      "Instance: n=22 w=26 dim=[[3, 3], [3, 4], [3, 5], [3, 6], [3, 7], [3, 8], [3, 9], [3, 10], [3, 11], [3, 12], [3, 14], [3, 15], [3, 16], [3, 17], [3, 19], [4, 3], [4, 4], [4, 5], [4, 7], [4, 8], [4, 11], [4, 14]]\n",
      "\n",
      ">Starting Lower Bound: 26\n",
      ">Starting Upper Bound: 30\n",
      "\t>Trying H:28\n",
      "\t\t>SAT - ub: 28, 3.732449531555176 s\n",
      "\t>Trying H:27\n",
      "\t\t>SAT - ub: 27, 7.315483331680298 s\n",
      "\t>Trying H:26\n",
      "\t\t>SAT - ub: 26, 11.436305046081543 s\n"
     ]
    },
    {
     "data": {
      "image/png": "[encoded data removed]",
      "text/plain": [
       "<Figure size 432x288 with 1 Axes>"
      ]
     },
     "metadata": {},
     "output_type": "display_data"
    },
    {
     "name": "stdout",
     "output_type": "stream",
     "text": [
      "Instance[19] solved in 11.437 s, height: 26\n",
      "========================================================================================\n",
      "\n",
      "\n",
      "========================================================================================\n",
      "Instance: n=21 w=27 dim=[[3, 3], [3, 4], [3, 5], [3, 6], [3, 7], [3, 8], [3, 9], [3, 10], [3, 11], [3, 12], [3, 19], [3, 20], [3, 21], [4, 3], [4, 4], [4, 6], [4, 7], [4, 8], [4, 14], [4, 19], [4, 20]]\n",
      "\n",
      ">Starting Lower Bound: 27\n",
      ">Starting Upper Bound: 30\n",
      "\t>Trying H:28\n",
      "\t\t>SAT - ub: 28, 3.234504222869873 s\n",
      "\t>Trying H:27\n",
      "\t\t>SAT - ub: 27, 12.150785207748413 s\n"
     ]
    },
    {
     "data": {
      "image/png": "[encoded data removed]",
      "text/plain": [
       "<Figure size 432x288 with 1 Axes>"
      ]
     },
     "metadata": {},
     "output_type": "display_data"
    },
    {
     "name": "stdout",
     "output_type": "stream",
     "text": [
      "Instance[20] solved in 12.151 s, height: 27\n",
      "========================================================================================\n",
      "\n",
      "\n",
      "========================================================================================\n",
      "Instance: n=22 w=28 dim=[[3, 3], [3, 4], [3, 5], [3, 6], [3, 7], [3, 8], [3, 9], [3, 10], [3, 11], [3, 16], [3, 17], [3, 21], [3, 23], [4, 3], [4, 4], [4, 5], [4, 8], [4, 13], [4, 23], [5, 6], [5, 9], [5, 13]]\n",
      "\n",
      ">Starting Lower Bound: 28\n",
      ">Starting Upper Bound: 33\n",
      "\t>Trying H:30\n",
      "\t\t>SAT - ub: 30, 3.9753823280334473 s\n",
      "\t>Trying H:29\n",
      "\t\t>SAT - ub: 29, 8.291057825088501 s\n",
      "\t>Trying H:28\n",
      "\t\t>SAT - ub: 28, 17.279874563217163 s\n"
     ]
    },
    {
     "data": {
      "image/png": "[encoded data removed]",
      "text/plain": [
       "<Figure size 432x288 with 1 Axes>"
      ]
     },
     "metadata": {},
     "output_type": "display_data"
    },
    {
     "name": "stdout",
     "output_type": "stream",
     "text": [
      "Instance[21] solved in 17.28 s, height: 28\n",
      "========================================================================================\n",
      "\n",
      "\n",
      "========================================================================================\n",
      "Instance: n=24 w=29 dim=[[3, 3], [3, 4], [3, 5], [3, 6], [3, 7], [3, 8], [3, 9], [3, 10], [3, 11], [3, 15], [3, 18], [3, 20], [4, 3], [4, 4], [4, 5], [4, 6], [4, 7], [4, 9], [4, 15], [4, 18], [4, 20], [5, 4], [5, 8], [5, 17]]\n",
      "\n",
      ">Starting Lower Bound: 29\n",
      ">Starting Upper Bound: 31\n",
      "\t>Trying H:30\n",
      "\t\t>SAT - ub: 30, 6.658210039138794 s\n",
      "\t>Trying H:29\n",
      "\t\t>SAT - ub: 29, 23.890425443649292 s\n"
     ]
    },
    {
     "data": {
      "image/png": "[encoded data removed]",
      "text/plain": [
       "<Figure size 432x288 with 1 Axes>"
      ]
     },
     "metadata": {},
     "output_type": "display_data"
    },
    {
     "name": "stdout",
     "output_type": "stream",
     "text": [
      "Instance[22] solved in 23.89 s, height: 29\n",
      "========================================================================================\n",
      "\n",
      "\n",
      "========================================================================================\n",
      "Instance: n=20 w=30 dim=[[3, 3], [3, 4], [3, 5], [3, 6], [3, 7], [3, 8], [3, 9], [3, 10], [3, 11], [3, 13], [3, 14], [3, 16], [3, 19], [3, 25], [4, 3], [4, 4], [4, 6], [4, 8], [4, 9], [11, 30]]\n",
      "\n",
      ">Starting Lower Bound: 30\n",
      ">Starting Upper Bound: 35\n",
      "\t>Trying H:32\n",
      "\t\t>SAT - ub: 32, 3.4244964122772217 s\n",
      "\t>Trying H:31\n",
      "\t\t>SAT - ub: 31, 6.8680102825164795 s\n",
      "\t>Trying H:30\n",
      "\t\t>SAT - ub: 30, 10.57445478439331 s\n"
     ]
    },
    {
     "data": {
      "image/png": "[encoded data removed]",
      "text/plain": [
       "<Figure size 432x288 with 1 Axes>"
      ]
     },
     "metadata": {},
     "output_type": "display_data"
    },
    {
     "name": "stdout",
     "output_type": "stream",
     "text": [
      "Instance[23] solved in 10.574 s, height: 30\n",
      "========================================================================================\n",
      "\n",
      "\n",
      "========================================================================================\n",
      "Instance: n=19 w=31 dim=[[3, 3], [3, 4], [3, 5], [3, 6], [3, 7], [3, 8], [3, 9], [3, 10], [3, 11], [3, 12], [3, 13], [3, 14], [3, 22], [3, 31], [4, 3], [4, 7], [4, 8], [4, 13], [12, 31]]\n",
      "\n",
      ">Starting Lower Bound: 31\n",
      ">Starting Upper Bound: 35\n",
      "\t>Trying H:33\n",
      "\t\t>SAT - ub: 33, 3.1211884021759033 s\n",
      "\t>Trying H:32\n",
      "\t\t>SAT - ub: 32, 6.154994010925293 s\n",
      "\t>Trying H:31\n",
      "\t\t>SAT - ub: 31, 9.125614166259766 s\n"
     ]
    },
    {
     "data": {
      "image/png": "[encoded data removed]",
      "text/plain": [
       "<Figure size 432x288 with 1 Axes>"
      ]
     },
     "metadata": {},
     "output_type": "display_data"
    },
    {
     "name": "stdout",
     "output_type": "stream",
     "text": [
      "Instance[24] solved in 9.126 s, height: 31\n",
      "========================================================================================\n",
      "\n",
      "\n",
      "========================================================================================\n",
      "Instance: n=27 w=32 dim=[[3, 3], [3, 4], [3, 5], [3, 6], [3, 7], [3, 8], [3, 9], [3, 10], [3, 11], [3, 12], [3, 13], [3, 14], [3, 15], [3, 18], [3, 22], [3, 23], [3, 24], [3, 25], [3, 27], [4, 3], [4, 4], [4, 5], [4, 6], [4, 7], [4, 10], [4, 11], [4, 18]]\n",
      "\n",
      ">Starting Lower Bound: 32\n",
      ">Starting Upper Bound: 37\n",
      "\t>Trying H:34\n",
      "\t\t>SAT - ub: 34, 6.556341648101807 s\n",
      "\t>Trying H:33\n",
      "\t\t>SAT - ub: 33, 13.472233772277832 s\n",
      "\t>Trying H:32\n",
      "\t\t>SAT - ub: 32, 22.351454257965088 s\n"
     ]
    },
    {
     "data": {
      "image/png": "[encoded data removed]",
      "text/plain": [
       "<Figure size 432x288 with 1 Axes>"
      ]
     },
     "metadata": {},
     "output_type": "display_data"
    },
    {
     "name": "stdout",
     "output_type": "stream",
     "text": [
      "Instance[25] solved in 22.351 s, height: 32\n",
      "========================================================================================\n",
      "\n",
      "\n",
      "========================================================================================\n",
      "Instance: n=23 w=33 dim=[[3, 3], [3, 4], [3, 5], [3, 6], [3, 7], [3, 8], [3, 9], [3, 10], [3, 13], [3, 14], [3, 15], [3, 17], [3, 24], [3, 30], [3, 33], [4, 3], [4, 4], [4, 6], [4, 10], [4, 12], [4, 14], [4, 17], [7, 33]]\n",
      "\n",
      ">Starting Lower Bound: 33\n",
      ">Starting Upper Bound: 37\n",
      "\t>Trying H:35\n",
      "\t\t>SAT - ub: 35, 5.153354644775391 s\n",
      "\t>Trying H:34\n",
      "\t\t>SAT - ub: 34, 9.76016902923584 s\n",
      "\t>Trying H:33\n",
      "\t\t>SAT - ub: 33, 22.35457158088684 s\n"
     ]
    },
    {
     "data": {
      "image/png": "[encoded data removed]",
      "text/plain": [
       "<Figure size 432x288 with 1 Axes>"
      ]
     },
     "metadata": {},
     "output_type": "display_data"
    },
    {
     "name": "stdout",
     "output_type": "stream",
     "text": [
      "Instance[26] solved in 22.355 s, height: 33\n",
      "========================================================================================\n",
      "\n",
      "\n",
      "========================================================================================\n",
      "Instance: n=21 w=34 dim=[[3, 3], [3, 4], [3, 5], [3, 6], [3, 7], [3, 8], [3, 9], [3, 10], [3, 11], [3, 12], [3, 13], [3, 14], [3, 21], [3, 22], [3, 25], [3, 34], [4, 4], [4, 5], [4, 11], [4, 14], [12, 34]]\n",
      "\n",
      ">Starting Lower Bound: 34\n",
      ">Starting Upper Bound: 36\n",
      "\t>Trying H:35\n",
      "\t\t>SAT - ub: 35, 6.385293483734131 s\n",
      "\t>Trying H:34\n",
      "\t\t>SAT - ub: 34, 13.561352014541626 s\n"
     ]
    },
    {
     "data": {
      "image/png": "[encoded data removed]",
      "text/plain": [
       "<Figure size 432x288 with 1 Axes>"
      ]
     },
     "metadata": {},
     "output_type": "display_data"
    },
    {
     "name": "stdout",
     "output_type": "stream",
     "text": [
      "Instance[27] solved in 13.561 s, height: 34\n",
      "========================================================================================\n",
      "\n",
      "\n",
      "========================================================================================\n",
      "Instance: n=22 w=35 dim=[[3, 3], [3, 4], [3, 5], [3, 6], [3, 7], [3, 8], [3, 9], [3, 10], [3, 12], [3, 19], [3, 22], [4, 3], [4, 4], [4, 5], [4, 6], [4, 7], [4, 8], [4, 12], [4, 17], [4, 20], [4, 23], [14, 35]]\n",
      "\n",
      ">Starting Lower Bound: 35\n",
      ">Starting Upper Bound: 38\n",
      "\t>Trying H:36\n",
      "\t\t>SAT - ub: 36, 4.803625583648682 s\n",
      "\t>Trying H:35\n",
      "\t\t>SAT - ub: 35, 10.293471813201904 s\n"
     ]
    },
    {
     "data": {
      "image/png": "[encoded data removed]",
      "text/plain": [
       "<Figure size 432x288 with 1 Axes>"
      ]
     },
     "metadata": {},
     "output_type": "display_data"
    },
    {
     "name": "stdout",
     "output_type": "stream",
     "text": [
      "Instance[28] solved in 10.293 s, height: 35\n",
      "========================================================================================\n",
      "\n",
      "\n",
      "========================================================================================\n",
      "Instance: n=23 w=36 dim=[[3, 3], [3, 4], [3, 5], [3, 6], [3, 7], [3, 8], [3, 9], [3, 10], [3, 11], [3, 12], [3, 14], [3, 15], [3, 16], [3, 24], [3, 36], [4, 3], [4, 11], [4, 22], [5, 3], [5, 4], [5, 14], [5, 15], [12, 36]]\n",
      "\n",
      ">Starting Lower Bound: 36\n",
      ">Starting Upper Bound: 38\n",
      "\t>Trying H:37\n",
      "\t\t>SAT - ub: 37, 5.098250150680542 s\n",
      "\t>Trying H:36\n",
      "\t\t>SAT - ub: 36, 15.024683475494385 s\n"
     ]
    },
    {
     "data": {
      "image/png": "[encoded data removed]",
      "text/plain": [
       "<Figure size 432x288 with 1 Axes>"
      ]
     },
     "metadata": {},
     "output_type": "display_data"
    },
    {
     "name": "stdout",
     "output_type": "stream",
     "text": [
      "Instance[29] solved in 15.025 s, height: 36\n",
      "========================================================================================\n",
      "\n",
      "\n",
      "========================================================================================\n",
      "Instance: n=27 w=37 dim=[[3, 3], [3, 4], [3, 5], [3, 6], [3, 7], [3, 8], [3, 9], [3, 11], [3, 12], [3, 13], [3, 14], [3, 17], [3, 18], [3, 21], [4, 3], [4, 4], [4, 5], [4, 6], [4, 10], [4, 22], [4, 24], [5, 3], [5, 4], [5, 6], [5, 10], [5, 14], [12, 37]]\n",
      "\n",
      ">Starting Lower Bound: 37\n",
      ">Starting Upper Bound: 42\n",
      "\t>Trying H:39\n",
      "\t\t>SAT - ub: 39, 8.078880548477173 s\n",
      "\t>Trying H:38\n",
      "\t\t>SAT - ub: 38, 20.587504386901855 s\n",
      "\t>Trying H:37\n",
      "\t\t>SAT - ub: 37, 45.95099186897278 s\n"
     ]
    },
    {
     "data": {
      "image/png": "[encoded data removed]",
      "text/plain": [
       "<Figure size 432x288 with 1 Axes>"
      ]
     },
     "metadata": {},
     "output_type": "display_data"
    },
    {
     "name": "stdout",
     "output_type": "stream",
     "text": [
      "Instance[30] solved in 45.951 s, height: 37\n",
      "========================================================================================\n",
      "\n",
      "\n",
      "========================================================================================\n",
      "Instance: n=19 w=38 dim=[[3, 3], [3, 4], [3, 5], [3, 6], [3, 7], [3, 8], [3, 9], [3, 10], [3, 11], [3, 13], [4, 3], [4, 5], [4, 6], [4, 8], [4, 11], [4, 12], [4, 15], [4, 16], [24, 38]]\n",
      "\n",
      ">Starting Lower Bound: 38\n",
      ">Starting Upper Bound: 43\n",
      "\t>Trying H:40\n",
      "\t\t>SAT - ub: 40, 3.9756696224212646 s\n",
      "\t>Trying H:39\n",
      "\t\t>SAT - ub: 39, 8.149717569351196 s\n",
      "\t>Trying H:38\n",
      "\t\t>SAT - ub: 38, 12.788305521011353 s\n"
     ]
    },
    {
     "data": {
      "image/png": "[encoded data removed]",
      "text/plain": [
       "<Figure size 432x288 with 1 Axes>"
      ]
     },
     "metadata": {},
     "output_type": "display_data"
    },
    {
     "name": "stdout",
     "output_type": "stream",
     "text": [
      "Instance[31] solved in 12.788 s, height: 38\n",
      "========================================================================================\n",
      "\n",
      "\n",
      "========================================================================================\n",
      "Instance: n=29 w=39 dim=[[3, 3], [3, 4], [3, 5], [3, 6], [3, 7], [3, 8], [3, 9], [3, 10], [3, 11], [3, 15], [4, 3], [4, 4], [4, 5], [4, 6], [4, 8], [4, 9], [4, 12], [4, 15], [4, 16], [5, 3], [5, 4], [5, 5], [5, 6], [5, 8], [5, 10], [5, 11], [5, 13], [5, 18], [15, 39]]\n",
      "\n",
      "\t>Trying H:41\n",
      "\t\tSAT - ub: 41, 10.322980642318726 s\n",
      "\t>Trying H:40\n",
      "\t\tSAT - ub: 40, 23.490936279296875 s\n",
      "\t>Trying H:39\n",
      "\t\tSAT - ub: 39, 112.8086998462677 s\n"
     ]
    },
    {
     "data": {
      "image/png": "[encoded data removed]",
      "text/plain": [
       "<Figure size 432x288 with 1 Axes>"
      ]
     },
     "metadata": {},
     "output_type": "display_data"
    },
    {
     "name": "stdout",
     "output_type": "stream",
     "text": [
      "Instance[32] solved in 112.809 s, height: 39\n",
      "========================================================================================\n",
      "\n",
      "\n",
      "========================================================================================\n",
      "Instance: n=20 w=40 dim=[[3, 3], [3, 4], [3, 5], [3, 6], [3, 7], [3, 8], [3, 9], [3, 10], [3, 12], [3, 16], [3, 40], [4, 4], [4, 14], [4, 22], [5, 3], [5, 4], [5, 8], [5, 12], [5, 13], [22, 40]]\n",
      "\n",
      ">Starting Lower Bound: 40\n",
      ">Starting Upper Bound: 44\n",
      "\t>Trying H:42\n",
      "\t\t>SAT - ub: 42, 4.561250925064087 s\n",
      "\t>Trying H:41\n",
      "\t\t>SAT - ub: 41, 9.025837182998657 s\n",
      "\t>Trying H:40\n",
      "\t\t>SAT - ub: 40, 13.638895988464355 s\n"
     ]
    },
    {
     "data": {
      "image/png": "[encoded data removed]",
      "text/plain": [
       "<Figure size 432x288 with 1 Axes>"
      ]
     },
     "metadata": {},
     "output_type": "display_data"
    },
    {
     "name": "stdout",
     "output_type": "stream",
     "text": [
      "Instance[33] solved in 13.639 s, height: 40\n",
      "========================================================================================\n",
      "\n",
      "\n",
      "========================================================================================\n",
      "Instance: n=25 w=15 dim=[[3, 11], [3, 13], [2, 9], [2, 7], [3, 9], [3, 7], [2, 11], [2, 13], [4, 11], [4, 13], [5, 3], [2, 11], [2, 2], [3, 11], [3, 2], [4, 5], [4, 6], [2, 12], [2, 1], [5, 3], [5, 13], [4, 12], [4, 1], [2, 5], [2, 6]]\n",
      "\n",
      ">Starting Lower Bound: 40\n",
      ">Starting Upper Bound: 44\n",
      "\t>Trying H:42\n",
      "\t\t>SAT - ub: 42, 5.269867181777954 s\n",
      "\t>Trying H:41\n",
      "\t\t>SAT - ub: 41, 10.50619387626648 s\n",
      "\t>Trying H:40\n",
      "\t\t>SAT - ub: 40, 17.434618949890137 s\n"
     ]
    },
    {
     "data": {
      "image/png": "[encoded data removed]",
      "text/plain": [
       "<Figure size 432x288 with 1 Axes>"
      ]
     },
     "metadata": {},
     "output_type": "display_data"
    },
    {
     "name": "stdout",
     "output_type": "stream",
     "text": [
      "Instance[34] solved in 17.435 s, height: 40\n",
      "========================================================================================\n",
      "\n",
      "\n",
      "========================================================================================\n",
      "Instance: n=25 w=15 dim=[[2, 11], [3, 2], [7, 10], [4, 8], [5, 9], [2, 7], [1, 4], [1, 6], [5, 4], [3, 8], [3, 1], [5, 5], [1, 3], [4, 12], [2, 6], [4, 2], [4, 11], [2, 10], [2, 3], [2, 11], [4, 3], [4, 26], [4, 8], [2, 3], [2, 6]]\n",
      "\n",
      ">Starting Lower Bound: 40\n",
      ">Starting Upper Bound: 42\n",
      "\t>Trying H:41\n",
      "\t\t>SAT - ub: 41, 5.210022687911987 s\n",
      "\t>Trying H:40\n",
      "\t\t>SAT - ub: 40, 19.85274600982666 s\n"
     ]
    },
    {
     "data": {
      "image/png": "[encoded data removed]",
      "text/plain": [
       "<Figure size 432x288 with 1 Axes>"
      ]
     },
     "metadata": {},
     "output_type": "display_data"
    },
    {
     "name": "stdout",
     "output_type": "stream",
     "text": [
      "Instance[35] solved in 19.853 s, height: 40\n",
      "========================================================================================\n",
      "\n",
      "\n",
      "========================================================================================\n",
      "Instance: n=25 w=15 dim=[[7, 12], [7, 7], [1, 7], [1, 5], [2, 3], [2, 6], [2, 7], [2, 5], [1, 3], [1, 6], [6, 12], [6, 9], [2, 12], [2, 7], [3, 10], [1, 4], [1, 5], [3, 16], [3, 5], [2, 4], [2, 5], [3, 10], [3, 9], [3, 16], [3, 5]]\n",
      "\n",
      ">Starting Lower Bound: 40\n",
      ">Starting Upper Bound: 44\n",
      "\t>Trying H:42\n",
      "\t\t>SAT - ub: 42, 5.321675777435303 s\n",
      "\t>Trying H:41\n",
      "\t\t>SAT - ub: 41, 11.29989218711853 s\n",
      "\t>Trying H:40\n",
      "\t\t>SAT - ub: 40, 19.580957889556885 s\n"
     ]
    },
    {
     "data": {
      "image/png": "[encoded data removed]",
      "text/plain": [
       "<Figure size 432x288 with 1 Axes>"
      ]
     },
     "metadata": {},
     "output_type": "display_data"
    },
    {
     "name": "stdout",
     "output_type": "stream",
     "text": [
      "Instance[36] solved in 19.581 s, height: 40\n",
      "========================================================================================\n",
      "\n",
      "\n",
      "========================================================================================\n",
      "Instance: n=28 w=30 dim=[[5, 7], [5, 14], [8, 14], [8, 4], [13, 21], [11, 7], [11, 14], [5, 14], [5, 4], [3, 18], [3, 21], [11, 17], [11, 4], [4, 7], [4, 5], [7, 6], [5, 18], [5, 3], [3, 7], [3, 5], [4, 18], [4, 3], [2, 12], [2, 6], [5, 18], [5, 21], [3, 17], [3, 4]]\n",
      "\n",
      ">Starting Lower Bound: 60\n",
      ">Starting Upper Bound: 66\n",
      "\t>Trying H:63\n",
      "\t\t>SAT - ub: 63, 10.864861011505127 s\n",
      "\t>Trying H:61\n",
      "\t\t>SAT - ub: 61, 32.35889029502869 s\n",
      "\t>Trying H:60\n",
      "\t\t>SAT - ub: 60, 111.16293430328369 s\n"
     ]
    },
    {
     "data": {
      "image/png": "[encoded data removed]",
      "text/plain": [
       "<Figure size 432x288 with 1 Axes>"
      ]
     },
     "metadata": {},
     "output_type": "display_data"
    },
    {
     "name": "stdout",
     "output_type": "stream",
     "text": [
      "Instance[37] solved in 111.163 s, height: 60\n",
      "========================================================================================\n",
      "\n",
      "\n",
      "========================================================================================\n",
      "Instance: n=29 w=30 dim=[[6, 18], [2, 12], [10, 7], [4, 23], [4, 1], [7, 7], [11, 4], [6, 5], [2, 7], [6, 11], [10, 19], [11, 5], [4, 2], [7, 5], [4, 2], [7, 12], [7, 13], [3, 6], [6, 10], [9, 16], [1, 4], [4, 10], [6, 24], [9, 9], [2, 1], [8, 5], [3, 5], [7, 25], [5, 21]]\n",
      "\n",
      ">Starting Lower Bound: 60\n",
      ">Starting Upper Bound: 65\n",
      "\t>Trying H:62\n",
      "\t\t>SAT - ub: 62, 11.773657083511353 s\n",
      "\t>Trying H:61\n",
      "\t\t>SAT - ub: 61, 23.4824161529541 s\n",
      "\t>Trying H:60\n",
      "\t\t>SAT - ub: 60, 245.60415148735046 s\n"
     ]
    },
    {
     "data": {
      "image/png": "[encoded data removed]",
      "text/plain": [
       "<Figure size 432x288 with 1 Axes>"
      ]
     },
     "metadata": {},
     "output_type": "display_data"
    },
    {
     "name": "stdout",
     "output_type": "stream",
     "text": [
      "Instance[38] solved in 245.605 s, height: 60\n",
      "========================================================================================\n",
      "\n",
      "\n",
      "========================================================================================\n",
      "Instance: n=28 w=30 dim=[[9, 24], [9, 8], [9, 11], [9, 17], [4, 24], [4, 8], [1, 6], [1, 5], [4, 17], [3, 6], [3, 5], [12, 5], [12, 13], [14, 14], [2, 14], [2, 2], [8, 3], [8, 9], [12, 14], [12, 2], [6, 3], [6, 9], [2, 5], [2, 13], [3, 18], [3, 14], [3, 16], [3, 12]]\n",
      "\n",
      ">Starting Lower Bound: 60\n",
      ">Starting Upper Bound: 67\n",
      "\t>Trying H:63\n",
      "\t\t>SAT - ub: 63, 10.83782148361206 s\n",
      "\t>Trying H:61\n",
      "\t\t>SAT - ub: 61, 21.664851427078247 s\n",
      "\t>Trying H:60\n",
      "\t\t>SAT - ub: 60, 45.10994100570679 s\n"
     ]
    },
    {
     "data": {
      "image/png": "[encoded data removed]",
      "text/plain": [
       "<Figure size 432x288 with 1 Axes>"
      ]
     },
     "metadata": {},
     "output_type": "display_data"
    },
    {
     "name": "stdout",
     "output_type": "stream",
     "text": [
      "Instance[39] solved in 45.11 s, height: 60\n",
      "========================================================================================\n",
      "\n",
      "\n",
      "========================================================================================\n",
      "Instance: n=73 w=60 dim=[[34, 6], [13, 3], [13, 5], [10, 12], [10, 12], [6, 7], [6, 15], [25, 7], [25, 15], [21, 12], [16, 7], [16, 5], [21, 3], [21, 5], [5, 7], [5, 5], [4, 1], [4, 10], [6, 13], [12, 13], [12, 9], [23, 6], [7, 3], [7, 5], [2, 1], [2, 10], [6, 6], [6, 5], [14, 7], [14, 6], [16, 3], [16, 5], [14, 6], [14, 5], [14, 13], [3, 2], [3, 7], [11, 2], [11, 7], [6, 7], [6, 6], [33, 14], [12, 4], [12, 3], [16, 18], [12, 3], [12, 18], [4, 4], [4, 3], [3, 1], [3, 2], [6, 9], [6, 9], [6, 1], [6, 2], [5, 7], [5, 18], [3, 9], [3, 9], [9, 18], [6, 5], [6, 2], [2, 12], [2, 9], [8, 3], [8, 9], [10, 9], [3, 5], [3, 2], [3, 18], [3, 7], [2, 3], [2, 9]]\n",
      "\n",
      ">Starting Lower Bound: 90\n",
      ">Starting Upper Bound: 96\n",
      "\t>Trying H:93\n",
      "\t\t>SAT - ub: 93, 130.6227035522461 s\n",
      "\t>Trying H:91\n",
      "\t\t>SAT - ub: 91, 269.1408152580261 s\n",
      "\t>Trying H:90\n"
     ]
    },
    {
     "data": {
      "image/png": "[encoded data removed]",
      "text/plain": [
       "<Figure size 432x288 with 1 Axes>"
      ]
     },
     "metadata": {},
     "output_type": "display_data"
    },
    {
     "name": "stdout",
     "output_type": "stream",
     "text": [
      ">Out of time, 423.956 s, best height: 91\n",
      "========================================================================================\n",
      "\n",
      "\n"
     ]
    }
   ],
   "source": [
    "from_ins = 1\n",
    "to_ins   = 40\n",
    "\n",
    "times = []\n",
    "for ins in range(from_ins, min(to_ins+1,41)):\n",
    "    print('========================================================================================')\n",
    "\n",
    "    # Instance\n",
    "    instance=utils.loadInstance(f\"../instances/ins-{ins}.txt\")\n",
    "    print(\"Instance:\",*[\"{}={}\".format(key,val) for key,val in instance.items()])\n",
    "\n",
    "    # Solving\n",
    "    sol,e_time = vlsi_sat(instance)\n",
    "    \n",
    "    times.append(round(e_time,3))\n",
    "    if sol is None and e_time <= 300:\n",
    "        print(\">Unfeasible.\")\n",
    "    elif e_time > 300:\n",
    "        if sol is not None:\n",
    "            # Write to file\n",
    "            utils.writeSolution('./out/no_rot/out-' + str(ins) + '_non_opt.txt', sol)\n",
    "\n",
    "            # Display solution\n",
    "            utils.displaySolution(sol, title= f'Plate {ins}')\n",
    "\n",
    "            print(f\">Out of time, {round(e_time,3)} s, best height: {sol[0][1]}\")\n",
    "        else:\n",
    "            print(f\">Out of time, {round(e_time,3)} s\")\n",
    "    elif sol is not None:\n",
    "        # Write to file\n",
    "        utils.writeSolution('./out/no_rot/out-' + str(ins) + '.txt', sol)\n",
    "\n",
    "        # Display solution\n",
    "        utils.displaySolution(sol, title= f'Plate {ins}')\n",
    "        \n",
    "        # Time\n",
    "        print(f\"Instance[{ins}] solved in {round(e_time,3)} s, height: {sol[0][1]}\")\n",
    "    print('========================================================================================')\n",
    "    print('\\n')\n",
    "\n",
    "with open('./out/times.txt', 'w+') as f:\n",
    "    for i in range(from_ins, min(to_ins+1,41)):\n",
    "            f.write('{}\\n'.format(times[i-from_ins]))"
   ]
  },
  {
   "cell_type": "markdown",
   "metadata": {},
   "source": [
    "### Export to .csv"
   ]
  },
  {
   "cell_type": "code",
   "execution_count": 12,
   "metadata": {},
   "outputs": [],
   "source": [
    "from_ins = 1\n",
    "to_ins   = 40\n",
    "\n",
    "times = open(\"./out/times.txt\").readlines()\n",
    "\n",
    "with open('./out/vlsi_SAT.csv', 'w') as f:\n",
    "    writer = csv.writer(f, delimiter=';')\n",
    "    writer.writerow(['Instance', 'Time', 'Solution'])\n",
    "    for ins in range(from_ins, min(to_ins+1,41)):\n",
    "        row = []\n",
    "        if float(times[ins-1]) <= 300.0:\n",
    "            sol = utils.readSolution('./out/no_rot/out-' + str(ins) + '.txt' )\n",
    "            if sol is not None:\n",
    "                row = [str(ins), float(times[ins-1]), str(utils.readSolution('./report/outputs/out-' + str(ins) + '.txt'))]\n",
    "            else:\n",
    "                row = [str(ins), float(times[ins-1])] \n",
    "            writer.writerow(row)\n",
    "        else:\n",
    "            sol = utils.readSolution('./out/no_rot/out-' + str(ins) + '_non_opt.txt')\n",
    "            if sol is not None:\n",
    "                row = [str(ins), float(times[ins-1]), str(utils.readSolution('./report/outputs/out-' + str(ins) + '_non_opt.txt'))]\n",
    "            else:\n",
    "                row = [str(ins), float(times[ins-1])]\n",
    "            writer.writerow(row)\n",
    "\n",
    "f.close()"
   ]
  },
  {
   "cell_type": "markdown",
   "metadata": {},
   "source": [
    "### Model with rotations"
   ]
  },
  {
   "cell_type": "code",
   "execution_count": 3,
   "metadata": {},
   "outputs": [],
   "source": [
    "def vlsi_sat_rotations(instance):\n",
    "    \n",
    "    ''' VARIABLES '''\n",
    "\n",
    "    n = instance['n']\n",
    "    W = instance['w']\n",
    "    widths  = [i[0] for i in instance['dim']]\n",
    "    heights = [i[1] for i in instance['dim']]\n",
    "    largest_idx = [w*h for w,h in zip(widths,heights)].index(max([w*h for w,h in\\\n",
    "                                                                        zip(widths,heights)]))   \n",
    "    tot_area=sum([w*h for w,h in zip(widths,heights)])\n",
    "    model = None\n",
    "    \n",
    "    naiveSolution = utils.computeNaiveSolution(instance)\n",
    "    \n",
    "    if not naiveSolution:\n",
    "        return None\n",
    "\n",
    "    lb = int(math.ceil(tot_area/W))\n",
    "    ub = naiveSolution[0][1]+1\n",
    "    \n",
    "    print(\"\\n>Starting Lower Bound:\", lb)\n",
    "    print(\">Starting Upper Bound:\", ub)\n",
    "    \n",
    "    H = int((lb+ub)/2)\n",
    "    \n",
    "    s_time = time.time()\n",
    "    \n",
    "    while (lb < ub):\n",
    "        ''' SOLVER WITH 5 MINUTES TIMEOUT'''\n",
    "        s = Solver()\n",
    "\n",
    "        s.set(\"timeout\", int((300-(time.time()-s_time))*1000))\n",
    "\n",
    "        if (time.time() > s_time + 300):\n",
    "            break\n",
    "        else:\n",
    "            print(f\"\\t>Trying H:{H}\")\n",
    "            \n",
    "        '''\n",
    "        ==================================================================\n",
    "        The variable \"f\" points wether a component is flipped or not.\n",
    "        ==================================================================\n",
    "        '''\n",
    "        px = [[Bool(f\"px{i+1}_{x}\") for x in range(W)] for i in range(n)] # x[i][i]: block i has y coordinate <=j\n",
    "        py = [[Bool(f\"py{i+1}_{y}\") for y in range(H)] for i in range(n)] # x[i][i]: block i has y coordinate <=j\n",
    "        lr = [[Bool(f\"lr_{i+1}_{j+1}\") if j!=i else 0 for j in range(n)] for i in range(n)]\n",
    "        ud = [[Bool(f\"ud_{i+1}_{j+1}\") if i!=j else 0 for j in range(n)] for i in range(n)]\n",
    "        f = [Bool(f\"f{i+1}\") for i in range(n)] # f[i]: block i is flipped\n",
    "\n",
    "        # Exactly One constraint\n",
    "        for i in range(n): \n",
    "            '''\n",
    "            ==================================================================\n",
    "            Ranges of each component change depending on \"f\".\n",
    "            ==================================================================\n",
    "            '''\n",
    "            if largest_rectangle(i, largest_idx):\n",
    "                s.add(Or(\n",
    "                        And (Not(f[i]), And([px[i][e] for e in range(int((W-widths[i])/2),W)])),\n",
    "                        And ( f[i],      And([px[i][e] for e in range(int((W-heights[i])/2),W)]))\n",
    "                    )) # block i starts for sure before position W-wi-> x[i][j]=True for all j > W-wi \n",
    "\n",
    "                s.add(Or(\n",
    "                    And (Not(f[i]), And([py[i][f] for f in range(int((H-heights[i])/2),H)])),\n",
    "                    And (f[i],      And([py[i][f] for f in range(int((H-widths[i])/2),H)]))\n",
    "                    ))\n",
    "                    # same for the y coordinate \n",
    "            else:\n",
    "                s.add(Or(\n",
    "                        And (Not(f[i]), And([px[i][e] for e in range(W-widths[i],W)])),\n",
    "                        And ( f[i],      And([px[i][e] for e in range(W-heights[i],W)]))\n",
    "                    )) # block i starts for sure before position W-wi-> x[i][j]=True for all j > W-wi \n",
    "\n",
    "                s.add(Or(\n",
    "                    And (Not(f[i]), And([py[i][f] for f in range(H-heights[i],H)])),\n",
    "                    And (f[i],      And([py[i][f] for f in range(H-widths[i],H)]))\n",
    "                    ))\n",
    "                    # same for the y coordinate  \n",
    "\n",
    "            s.add([Or(Not(px[i][e]),px[i][e+1]) for e in range(W-1)]) #x[i][j] implies x[i][j+1]\n",
    "            s.add([Or(Not(py[i][f]),py[i][f+1]) for f in range(H-1)]) #y[i][j] implies y[i][j+1]\n",
    "\n",
    "            for j in range(n):\n",
    "                '''\n",
    "                ==================================================================\n",
    "                We must take in account the four possible orientations of\n",
    "                two components.\n",
    "                ==================================================================\n",
    "                '''\n",
    "                wi,wj,hi,hj=widths[i],widths[j],heights[i],heights[j]    \n",
    "                cts=[] \n",
    "                if i<j:\n",
    "                    if large_rectangles(widths[i],widths[j],heights[i],heights[j], W, H) == False:\n",
    "                            if same_rectangles(widths[i],widths[j],heights[i],heights[j]):\n",
    "                                s.add(Or(lr[i][j],ud[i][j],ud[j][i]))\n",
    "                                \n",
    "                                if wi<=W and hi<=H and wj<=W and hj<=H: \n",
    "                                    cts.append(And(Not(f[i]),Not(f[j]),\n",
    "                                                   *no_overlap(W,H,widths,heights,\\\n",
    "                                                                        i,j,False,px,py,lr,ud),\n",
    "                                                   *no_overlap(W,H,widths,heights,\\\n",
    "                                                                        j,i,False,px,py,False,ud),\n",
    "                                                  ))\n",
    "                                if wi<=H and hi<=W and wj<=W and hj<=H:\n",
    "                                    cts.append(And(f[i],Not(f[j]),\n",
    "                                                   *no_overlap(W,H,widths,heights,\\\n",
    "                                                                        i,j,True,px,py,lr,ud),\n",
    "                                                   *no_overlap(W,H,widths,heights,\\\n",
    "                                                                        j,i,False,px,py,False,ud),\n",
    "                                                  ))\n",
    "                                if wi<=W and hi<=H and wj<=H and hj<=W:                        \n",
    "                                    cts.append(And(Not(f[i]),f[j],\n",
    "                                                   *no_overlap(W,H,widths,heights,\\\n",
    "                                                                        i,j,False,px,py,lr,ud),\n",
    "                                                   *no_overlap(W,H,widths,heights,\\\n",
    "                                                                        j,i,True,px,py,False,ud),\n",
    "                                                  ))\n",
    "                                if wi<=H and hi<=W and wj<=H and hj<=W:                        \n",
    "                                    cts.append(And(f[i],f[j],\n",
    "                                                   *no_overlap(W,H,widths,heights,\\\n",
    "                                                                        i,j,True,px,py,lr,ud),\n",
    "                                                   *no_overlap(W,H,widths,heights,\\\n",
    "                                                                        j,i,True,px,py,False,ud),\n",
    "                                                  ))\n",
    "                                s.add(Or(cts))\n",
    "\n",
    "                                s.add(Or(\n",
    "                                        Not(ud[i][j]),\n",
    "                                        lr[j][i]\n",
    "                                ))\n",
    "                            else:\n",
    "                                if not largest_rectangle(j, largest_idx):\n",
    "                                    s.add(Or(lr[i][j],lr[j][i],ud[i][j],ud[j][i]))     \n",
    "                                    \n",
    "                                    if wi<=W and hi<=H and wj<=W and hj<=H: \n",
    "                                        cts.append(And(Not(f[i]),Not(f[j]),\n",
    "                                                       *no_overlap(W,H,widths,heights,\\\n",
    "                                                                            i,j,False,px,py,lr,ud),\n",
    "                                                       *no_overlap(W,H,widths,heights,\\\n",
    "                                                                            j,i,False,px,py,lr,ud),\n",
    "                                                      ))\n",
    "                                    if wi<=H and hi<=W and wj<=W and hj<=H:\n",
    "                                        cts.append(And(f[i],Not(f[j]),\n",
    "                                                       *no_overlap(W,H,widths,heights,\\\n",
    "                                                                            i,j,True,px,py,lr,ud),\n",
    "                                                       *no_overlap(W,H,widths,heights,\\\n",
    "                                                                            j,i,False,px,py,lr,ud),\n",
    "                                                      ))\n",
    "                                    if wi<=W and hi<=H and wj<=H and hj<=W:                        \n",
    "                                        cts.append(And(Not(f[i]),f[j],\n",
    "                                                       *no_overlap(W,H,widths,heights,\\\n",
    "                                                                            i,j,False,px,py,lr,ud),\n",
    "                                                       *no_overlap(W,H,widths,heights,\\\n",
    "                                                                            j,i,True,px,py,lr,ud),\n",
    "                                                      ))\n",
    "                                    if wi<=H and hi<=W and wj<=H and hj<=W:                        \n",
    "                                        cts.append(And(f[i],f[j],\n",
    "                                                       *no_overlap(W,H,widths,heights,\\\n",
    "                                                                            i,j,True,px,py,lr,ud),\n",
    "                                                       *no_overlap(W,H,widths,heights,\\\n",
    "                                                                            j,i,True,px,py,lr,ud),\n",
    "                                                      ))\n",
    "                                    s.add(Or(cts))\n",
    "                                else:\n",
    "                                    s.add(Or(lr[j][i],ud[i][j],ud[j][i]))\n",
    "                                    \n",
    "                                    if wi<=W and hi<=H and wj<=W and hj<=H: \n",
    "                                        cts.append(And(Not(f[i]),Not(f[j]),\n",
    "                                                       *no_overlap(W,H,widths,heights,\\\n",
    "                                                                            i,j,False,px,py,False,ud),\n",
    "                                                       *no_overlap(W,H,widths,heights,\\\n",
    "                                                                            j,i,False,px,py,lr,ud),\n",
    "                                                      ))\n",
    "                                    if wi<=H and hi<=W and wj<=W and hj<=H:\n",
    "                                        cts.append(And(f[i],Not(f[j]),\n",
    "                                                       *no_overlap(W,H,widths,heights,\\\n",
    "                                                                            i,j,True,px,py,False,ud),\n",
    "                                                       *no_overlap(W,H,widths,heights,\\\n",
    "                                                                            j,i,False,px,py,lr,ud),\n",
    "                                                      ))\n",
    "                                    if wi<=W and hi<=H and wj<=H and hj<=W:                        \n",
    "                                        cts.append(And(Not(f[i]),f[j],\n",
    "                                                       *no_overlap(W,H,widths,heights,\\\n",
    "                                                                            i,j,False,px,py,False,ud),\n",
    "                                                       *no_overlap(W,H,widths,heights,\\\n",
    "                                                                            j,i,True,px,py,lr,ud),\n",
    "                                                      ))\n",
    "                                    if wi<=H and hi<=W and wj<=H and hj<=W:                        \n",
    "                                        cts.append(And(f[i],f[j],\n",
    "                                                       *no_overlap(W,H,widths,heights,\\\n",
    "                                                                            i,j,True,px,py,False,ud),\n",
    "                                                       *no_overlap(W,H,widths,heights,\\\n",
    "                                                                            j,i,True,px,py,lr,ud),\n",
    "                                                      ))\n",
    "                                    s.add(Or(cts))\n",
    "                                    \n",
    "                    elif large_rectangles(widths[i],widths[j],heights[i],heights[j], W, H) == \"W\":\n",
    "                        s.add(Or(lr[j][i],ud[i][j],ud[j][i]))\n",
    "\n",
    "                        if wi<=W and hi<=H and wj<=W and hj<=H: \n",
    "                            cts.append(And(Not(f[i]),Not(f[j]),\n",
    "                                           *no_overlap(W,H,widths,heights,\\\n",
    "                                                                i,j,False,px,py,False,ud),\n",
    "                                           *no_overlap(W,H,widths,heights,\\\n",
    "                                                                j,i,False,px,py,lr,ud),\n",
    "                                          ))\n",
    "                        if wi<=H and hi<=W and wj<=W and hj<=H:\n",
    "                            cts.append(And(f[i],Not(f[j]),\n",
    "                                           *no_overlap(W,H,widths,heights,\\\n",
    "                                                                i,j,True,px,py,False,ud),\n",
    "                                           *no_overlap(W,H,widths,heights,\\\n",
    "                                                                j,i,False,px,py,lr,ud),\n",
    "                                          ))\n",
    "                        if wi<=W and hi<=H and wj<=H and hj<=W:                        \n",
    "                            cts.append(And(Not(f[i]),f[j],\n",
    "                                           *no_overlap(W,H,widths,heights,\\\n",
    "                                                                i,j,False,px,py,False,ud),\n",
    "                                           *no_overlap(W,H,widths,heights,\\\n",
    "                                                                j,i,True,px,py,lr,ud),\n",
    "                                          ))\n",
    "                        if wi<=H and hi<=W and wj<=H and hj<=W:                        \n",
    "                            cts.append(And(f[i],f[j],\n",
    "                                           *no_overlap(W,H,widths,heights,\\\n",
    "                                                                i,j,True,px,py,False,ud),\n",
    "                                           *no_overlap(W,H,widths,heights,\\\n",
    "                                                                j,i,True,px,py,lr,ud),\n",
    "                                          ))\n",
    "                        s.add(Or(cts))\n",
    "\n",
    "                    elif large_rectangles(widths[i],widths[j],heights[i],heights[j], W, H) == \"H\":\n",
    "                        if same_rectangles(widths[i],widths[j],heights[i],heights[j]):\n",
    "                            s.add(lr[i][j])\n",
    "\n",
    "                            if wi<=W and hi<=H and wj<=W and hj<=H: \n",
    "                                cts.append(And(Not(f[i]),Not(f[j]),\n",
    "                                               *no_overlap(W,H,widths,heights,\\\n",
    "                                                                    i,j,False,px,py,lr,False)\n",
    "                                              ))\n",
    "                            if wi<=H and hi<=W and wj<=W and hj<=H:\n",
    "                                cts.append(And(f[i],Not(f[j]),\n",
    "                                               *no_overlap(W,H,widths,heights,\\\n",
    "                                                                    i,j,True,px,py,lr,False)\n",
    "                                              ))\n",
    "                            if wi<=W and hi<=H and wj<=H and hj<=W:                        \n",
    "                                cts.append(And(Not(f[i]),f[j],\n",
    "                                               *no_overlap(W,H,widths,heights,\\\n",
    "                                                                    i,j,False,px,py,lr,False)\n",
    "                                              ))\n",
    "                            if wi<=H and hi<=W and wj<=H and hj<=W:                        \n",
    "                                cts.append(And(f[i],f[j],\n",
    "                                               *no_overlap(W,H,widths,heights,\\\n",
    "                                                                    i,j,True,px,py,lr,False)\n",
    "                                              ))\n",
    "                            s.add(Or(cts))\n",
    "\n",
    "                            s.add(Or(\n",
    "                                    Not(ud[i][j]),\n",
    "                                    lr[j][i]\n",
    "                            ))  \n",
    "                        else:                            \n",
    "                            s.add(Or(lr[i][j],lr[j][i]))\n",
    "\n",
    "                            if wi<=W and hi<=H and wj<=W and hj<=H: \n",
    "                                cts.append(And(Not(f[i]),Not(f[j]),\n",
    "                                               *no_overlap(W,H,widths,heights,\\\n",
    "                                                                    i,j,False,px,py,lr,False),\n",
    "                                               *no_overlap(W,H,widths,heights,\\\n",
    "                                                                    j,i,False,px,py,lr,False),\n",
    "                                              ))\n",
    "                            if wi<=H and hi<=W and wj<=W and hj<=H:\n",
    "                                cts.append(And(f[i],Not(f[j]),\n",
    "                                               *no_overlap(W,H,widths,heights,\\\n",
    "                                                                    i,j,True,px,py,lr,False),\n",
    "                                               *no_overlap(W,H,widths,heights,\\\n",
    "                                                                    j,i,False,px,py,lr,False),\n",
    "                                              ))\n",
    "                            if wi<=W and hi<=H and wj<=H and hj<=W:                        \n",
    "                                cts.append(And(Not(f[i]),f[j],\n",
    "                                               *no_overlap(W,H,widths,heights,\\\n",
    "                                                                    i,j,False,px,py,lr,False),\n",
    "                                               *no_overlap(W,H,widths,heights,\\\n",
    "                                                                    j,i,True,px,py,lr,False),\n",
    "                                              ))\n",
    "                            if wi<=H and hi<=W and wj<=H and hj<=W:                        \n",
    "                                cts.append(And(f[i],f[j],\n",
    "                                               *no_overlap(W,H,widths,heights,\\\n",
    "                                                                    i,j,True,px,py,lr,False),\n",
    "                                               *no_overlap(W,H,widths,heights,\\\n",
    "                                                                    j,i,True,px,py,lr,False),\n",
    "                                              ))\n",
    "                            s.add(Or(cts))\n",
    "\n",
    "        if s.check() == sat:\n",
    "            if (time.time() - s_time <= 300):\n",
    "                ub = H\n",
    "                model = s.model()            \n",
    "            \n",
    "            print(f'\\t\\t>SAT - ub: {ub}, {time.time() - s_time} s')\n",
    "            \n",
    "        else:\n",
    "            lb = H + 1\n",
    "            if (time.time() - s_time <= 300):\n",
    "                print(f'\\t\\t>UNSAT - lb: {lb}, {time.time() - s_time} s')\n",
    "\n",
    "            \n",
    "        H =  int((lb+ub)/2)\n",
    "        \n",
    "        '''\n",
    "        ==================================================================\n",
    "        'Bisection Method':\n",
    "            while lb < ub\n",
    "                o := (lb + ub)/2;\n",
    "                result := Ψ ∪ {ph_o};\n",
    "                if result is SAT\n",
    "                    then ub := o;\n",
    "                    else lb := o + 1;\n",
    "            end while\n",
    "        ==================================================================\n",
    "        '''\n",
    "    \n",
    "    e_time = time.time() - s_time\n",
    "\n",
    "    \n",
    "    if model == None:\n",
    "        return None, e_time\n",
    "    elif e_time > 300:\n",
    "        variables = { str(d):model.evaluate(model[d]) for d in model }\n",
    "        cx,cy,widths,heights = getCoords(variables, W, ub, n, widths, heights, True)\n",
    "\n",
    "        sol = [[W,ub]]+[[widths[i],heights[i],cx[i]+1,cy[i]+1]\\\n",
    "                    for i in range(min(len(cx),len(cy),len(widths),len(heights)))]\n",
    "        \n",
    "        return sol, e_time\n",
    "    else:\n",
    "        variables = { str(d):model.evaluate(model[d]) for d in model }\n",
    "                \n",
    "        cx,cy,widths,heights = getCoords(variables, W, H, n, widths, heights, True)\n",
    "        sol=[[W,H]]+[[widths[i],heights[i],cx[i]+1,cy[i]+1] for i in range(n)]\n",
    "        \n",
    "        return sol, e_time\n"
   ]
  },
  {
   "cell_type": "markdown",
   "metadata": {},
   "source": [
    "### Execution"
   ]
  },
  {
   "cell_type": "code",
   "execution_count": 19,
   "metadata": {},
   "outputs": [
    {
     "name": "stdout",
     "output_type": "stream",
     "text": [
      "========================================================================================\n",
      "Instance: n=4 w=8 dim=[[3, 3], [3, 5], [5, 3], [5, 5]]\n",
      "\n",
      ">Starting Lower Bound: 8\n",
      ">Starting Upper Bound: 9\n",
      "\t>Trying H:8\n",
      "\t\t>SAT - ub: 8, 0.1020352840423584 s\n"
     ]
    },
    {
     "data": {
      "image/png": "[encoded data removed]",
      "text/plain": [
       "<Figure size 432x288 with 1 Axes>"
      ]
     },
     "metadata": {},
     "output_type": "display_data"
    },
    {
     "name": "stdout",
     "output_type": "stream",
     "text": [
      "Instance[1] solved in 0.102 s, height: 8\n",
      "========================================================================================\n",
      "\n",
      "\n",
      "========================================================================================\n",
      "Instance: n=5 w=9 dim=[[3, 3], [3, 4], [3, 5], [3, 6], [3, 9]]\n",
      "\n",
      ">Starting Lower Bound: 9\n",
      ">Starting Upper Bound: 10\n",
      "\t>Trying H:9\n",
      "\t\t>SAT - ub: 9, 0.16556119918823242 s\n"
     ]
    },
    {
     "data": {
      "image/png": "[encoded data removed]",
      "text/plain": [
       "<Figure size 432x288 with 1 Axes>"
      ]
     },
     "metadata": {},
     "output_type": "display_data"
    },
    {
     "name": "stdout",
     "output_type": "stream",
     "text": [
      "Instance[2] solved in 0.166 s, height: 9\n",
      "========================================================================================\n",
      "\n",
      "\n",
      "========================================================================================\n",
      "Instance: n=6 w=10 dim=[[3, 3], [3, 4], [3, 6], [3, 7], [4, 4], [4, 6]]\n",
      "\n",
      ">Starting Lower Bound: 10\n",
      ">Starting Upper Bound: 11\n",
      "\t>Trying H:10\n",
      "\t\t>SAT - ub: 10, 0.28258609771728516 s\n"
     ]
    },
    {
     "data": {
      "image/png": "[encoded data removed]",
      "text/plain": [
       "<Figure size 432x288 with 1 Axes>"
      ]
     },
     "metadata": {},
     "output_type": "display_data"
    },
    {
     "name": "stdout",
     "output_type": "stream",
     "text": [
      "Instance[3] solved in 0.283 s, height: 10\n",
      "========================================================================================\n",
      "\n",
      "\n",
      "========================================================================================\n",
      "Instance: n=7 w=11 dim=[[3, 3], [3, 4], [3, 5], [3, 6], [5, 3], [5, 4], [8, 4]]\n",
      "\n",
      ">Starting Lower Bound: 11\n",
      ">Starting Upper Bound: 13\n",
      "\t>Trying H:12\n",
      "\t\t>SAT - ub: 12, 0.6108126640319824 s\n",
      "\t>Trying H:11\n",
      "\t\t>SAT - ub: 11, 1.124110221862793 s\n"
     ]
    },
    {
     "data": {
      "image/png": "[encoded data removed]",
      "text/plain": [
       "<Figure size 432x288 with 1 Axes>"
      ]
     },
     "metadata": {},
     "output_type": "display_data"
    },
    {
     "name": "stdout",
     "output_type": "stream",
     "text": [
      "Instance[4] solved in 1.124 s, height: 11\n",
      "========================================================================================\n",
      "\n",
      "\n",
      "========================================================================================\n",
      "Instance: n=8 w=12 dim=[[3, 3], [3, 4], [3, 5], [3, 6], [3, 7], [3, 8], [3, 9], [6, 3]]\n",
      "\n",
      ">Starting Lower Bound: 12\n",
      ">Starting Upper Bound: 15\n",
      "\t>Trying H:13\n",
      "\t\t>SAT - ub: 13, 0.6961500644683838 s\n",
      "\t>Trying H:12\n",
      "\t\t>SAT - ub: 12, 1.351442575454712 s\n"
     ]
    },
    {
     "data": {
      "image/png": "[encoded data removed]",
      "text/plain": [
       "<Figure size 432x288 with 1 Axes>"
      ]
     },
     "metadata": {},
     "output_type": "display_data"
    },
    {
     "name": "stdout",
     "output_type": "stream",
     "text": [
      "Instance[5] solved in 1.351 s, height: 12\n",
      "========================================================================================\n",
      "\n",
      "\n",
      "========================================================================================\n",
      "Instance: n=9 w=13 dim=[[3, 3], [3, 4], [3, 5], [3, 6], [3, 7], [3, 8], [4, 3], [4, 4], [7, 6]]\n",
      "\n",
      ">Starting Lower Bound: 13\n",
      ">Starting Upper Bound: 16\n",
      "\t>Trying H:14\n",
      "\t\t>SAT - ub: 14, 1.078373670578003 s\n",
      "\t>Trying H:13\n",
      "\t\t>SAT - ub: 13, 2.1387200355529785 s\n"
     ]
    },
    {
     "data": {
      "image/png": "[encoded data removed]",
      "text/plain": [
       "<Figure size 432x288 with 1 Axes>"
      ]
     },
     "metadata": {},
     "output_type": "display_data"
    },
    {
     "name": "stdout",
     "output_type": "stream",
     "text": [
      "Instance[6] solved in 2.139 s, height: 13\n",
      "========================================================================================\n",
      "\n",
      "\n",
      "========================================================================================\n",
      "Instance: n=9 w=14 dim=[[3, 3], [3, 4], [3, 5], [3, 6], [3, 7], [3, 8], [3, 9], [5, 4], [5, 10]]\n",
      "\n",
      ">Starting Lower Bound: 14\n",
      ">Starting Upper Bound: 17\n",
      "\t>Trying H:15\n",
      "\t\t>SAT - ub: 15, 1.1050431728363037 s\n",
      "\t>Trying H:14\n",
      "\t\t>SAT - ub: 14, 2.1506950855255127 s\n"
     ]
    },
    {
     "data": {
      "image/png": "[encoded data removed]",
      "text/plain": [
       "<Figure size 432x288 with 1 Axes>"
      ]
     },
     "metadata": {},
     "output_type": "display_data"
    },
    {
     "name": "stdout",
     "output_type": "stream",
     "text": [
      "Instance[7] solved in 2.151 s, height: 14\n",
      "========================================================================================\n",
      "\n",
      "\n",
      "========================================================================================\n",
      "Instance: n=10 w=15 dim=[[3, 3], [3, 4], [3, 5], [3, 6], [3, 7], [3, 8], [3, 9], [3, 12], [3, 15], [6, 3]]\n",
      "\n",
      ">Starting Lower Bound: 15\n",
      ">Starting Upper Bound: 17\n",
      "\t>Trying H:16\n",
      "\t\t>SAT - ub: 16, 1.425114393234253 s\n",
      "\t>Trying H:15\n",
      "\t\t>SAT - ub: 15, 2.7233822345733643 s\n"
     ]
    },
    {
     "data": {
      "image/png": "[encoded data removed]",
      "text/plain": [
       "<Figure size 432x288 with 1 Axes>"
      ]
     },
     "metadata": {},
     "output_type": "display_data"
    },
    {
     "name": "stdout",
     "output_type": "stream",
     "text": [
      "Instance[8] solved in 2.723 s, height: 15\n",
      "========================================================================================\n",
      "\n",
      "\n",
      "========================================================================================\n",
      "Instance: n=10 w=16 dim=[[3, 3], [3, 4], [3, 5], [3, 6], [3, 7], [3, 8], [3, 10], [3, 12], [4, 7], [7, 9]]\n",
      "\n",
      ">Starting Lower Bound: 16\n",
      ">Starting Upper Bound: 19\n",
      "\t>Trying H:17\n",
      "\t\t>SAT - ub: 17, 1.496720552444458 s\n",
      "\t>Trying H:16\n",
      "\t\t>SAT - ub: 16, 3.01432728767395 s\n"
     ]
    },
    {
     "data": {
      "image/png": "[encoded data removed]",
      "text/plain": [
       "<Figure size 432x288 with 1 Axes>"
      ]
     },
     "metadata": {},
     "output_type": "display_data"
    },
    {
     "name": "stdout",
     "output_type": "stream",
     "text": [
      "Instance[9] solved in 3.014 s, height: 16\n",
      "========================================================================================\n",
      "\n",
      "\n",
      "========================================================================================\n",
      "Instance: n=12 w=17 dim=[[3, 3], [3, 4], [3, 5], [3, 6], [3, 7], [3, 8], [3, 9], [4, 3], [4, 8], [4, 14], [7, 3], [7, 6]]\n",
      "\n",
      ">Starting Lower Bound: 17\n",
      ">Starting Upper Bound: 18\n",
      "\t>Trying H:17\n",
      "\t\t>SAT - ub: 17, 3.1741976737976074 s\n"
     ]
    },
    {
     "data": {
      "image/png": "[encoded data removed]",
      "text/plain": [
       "<Figure size 432x288 with 1 Axes>"
      ]
     },
     "metadata": {},
     "output_type": "display_data"
    },
    {
     "name": "stdout",
     "output_type": "stream",
     "text": [
      "Instance[10] solved in 3.174 s, height: 17\n",
      "========================================================================================\n",
      "\n",
      "\n",
      "========================================================================================\n",
      "Instance: n=16 w=18 dim=[[3, 3], [3, 4], [3, 5], [3, 6], [3, 7], [3, 8], [3, 10], [3, 11], [4, 3], [4, 4], [4, 5], [4, 6], [5, 3], [5, 4], [5, 5], [5, 6]]\n",
      "\n",
      ">Starting Lower Bound: 18\n",
      ">Starting Upper Bound: 23\n",
      "\t>Trying H:20\n",
      "\t\t>SAT - ub: 20, 5.916274547576904 s\n",
      "\t>Trying H:19\n",
      "\t\t>SAT - ub: 19, 11.863030672073364 s\n",
      "\t>Trying H:18\n",
      "\t\t>SAT - ub: 18, 20.38983941078186 s\n"
     ]
    },
    {
     "data": {
      "image/png": "[encoded data removed]",
      "text/plain": [
       "<Figure size 432x288 with 1 Axes>"
      ]
     },
     "metadata": {},
     "output_type": "display_data"
    },
    {
     "name": "stdout",
     "output_type": "stream",
     "text": [
      "Instance[11] solved in 20.39 s, height: 18\n",
      "========================================================================================\n",
      "\n",
      "\n",
      "========================================================================================\n",
      "Instance: n=14 w=19 dim=[[3, 3], [3, 4], [3, 5], [3, 6], [3, 7], [3, 8], [3, 9], [3, 10], [3, 11], [3, 13], [3, 19], [4, 5], [4, 6], [4, 8]]\n",
      "\n",
      ">Starting Lower Bound: 19\n",
      ">Starting Upper Bound: 23\n",
      "\t>Trying H:21\n",
      "\t\t>SAT - ub: 21, 4.435785531997681 s\n",
      "\t>Trying H:20\n",
      "\t\t>SAT - ub: 20, 8.643983364105225 s\n",
      "\t>Trying H:19\n",
      "\t\t>SAT - ub: 19, 13.395207405090332 s\n"
     ]
    },
    {
     "data": {
      "image/png": "[encoded data removed]",
      "text/plain": [
       "<Figure size 432x288 with 1 Axes>"
      ]
     },
     "metadata": {},
     "output_type": "display_data"
    },
    {
     "name": "stdout",
     "output_type": "stream",
     "text": [
      "Instance[12] solved in 13.395 s, height: 19\n",
      "========================================================================================\n",
      "\n",
      "\n",
      "========================================================================================\n",
      "Instance: n=14 w=20 dim=[[3, 3], [3, 4], [3, 5], [3, 6], [3, 7], [3, 8], [3, 9], [3, 10], [3, 11], [3, 17], [4, 3], [4, 9], [4, 11], [4, 17]]\n",
      "\n",
      ">Starting Lower Bound: 20\n",
      ">Starting Upper Bound: 24\n",
      "\t>Trying H:22\n",
      "\t\t>SAT - ub: 22, 4.4022722244262695 s\n",
      "\t>Trying H:21\n",
      "\t\t>SAT - ub: 21, 8.732599258422852 s\n",
      "\t>Trying H:20\n",
      "\t\t>SAT - ub: 20, 12.894737958908081 s\n"
     ]
    },
    {
     "data": {
      "image/png": "[encoded data removed]",
      "text/plain": [
       "<Figure size 432x288 with 1 Axes>"
      ]
     },
     "metadata": {},
     "output_type": "display_data"
    },
    {
     "name": "stdout",
     "output_type": "stream",
     "text": [
      "Instance[13] solved in 12.895 s, height: 20\n",
      "========================================================================================\n",
      "\n",
      "\n",
      "========================================================================================\n",
      "Instance: n=15 w=21 dim=[[3, 3], [3, 4], [3, 5], [3, 6], [3, 7], [3, 8], [3, 9], [3, 10], [3, 14], [3, 18], [4, 4], [4, 6], [4, 11], [5, 6], [5, 15]]\n",
      "\n",
      ">Starting Lower Bound: 21\n",
      ">Starting Upper Bound: 25\n",
      "\t>Trying H:23\n",
      "\t\t>SAT - ub: 23, 5.213269233703613 s\n",
      "\t>Trying H:22\n",
      "\t\t>SAT - ub: 22, 10.508307218551636 s\n",
      "\t>Trying H:21\n",
      "\t\t>SAT - ub: 21, 16.21549963951111 s\n"
     ]
    },
    {
     "data": {
      "image/png": "[encoded data removed]",
      "text/plain": [
       "<Figure size 432x288 with 1 Axes>"
      ]
     },
     "metadata": {},
     "output_type": "display_data"
    },
    {
     "name": "stdout",
     "output_type": "stream",
     "text": [
      "Instance[14] solved in 16.215 s, height: 21\n",
      "========================================================================================\n",
      "\n",
      "\n",
      "========================================================================================\n",
      "Instance: n=16 w=22 dim=[[3, 3], [3, 4], [3, 5], [3, 6], [3, 7], [3, 8], [3, 9], [3, 10], [3, 11], [3, 12], [3, 13], [3, 14], [3, 22], [4, 3], [4, 19], [6, 4]]\n",
      "\n",
      ">Starting Lower Bound: 22\n",
      ">Starting Upper Bound: 24\n",
      "\t>Trying H:23\n",
      "\t\t>SAT - ub: 23, 5.993803977966309 s\n",
      "\t>Trying H:22\n",
      "\t\t>SAT - ub: 22, 11.904913187026978 s\n"
     ]
    },
    {
     "data": {
      "image/png": "[encoded data removed]",
      "text/plain": [
       "<Figure size 432x288 with 1 Axes>"
      ]
     },
     "metadata": {},
     "output_type": "display_data"
    },
    {
     "name": "stdout",
     "output_type": "stream",
     "text": [
      "Instance[15] solved in 11.905 s, height: 22\n",
      "========================================================================================\n",
      "\n",
      "\n",
      "========================================================================================\n",
      "Instance: n=19 w=23 dim=[[3, 3], [3, 4], [3, 5], [3, 6], [3, 7], [3, 8], [3, 9], [3, 10], [3, 11], [3, 12], [3, 14], [3, 20], [4, 3], [4, 4], [4, 6], [4, 10], [4, 11], [4, 12], [6, 3]]\n",
      "\n",
      ">Starting Lower Bound: 23\n",
      ">Starting Upper Bound: 27\n",
      "\t>Trying H:25\n",
      "\t\t>SAT - ub: 25, 10.020632028579712 s\n",
      "\t>Trying H:24\n",
      "\t\t>SAT - ub: 24, 20.130241632461548 s\n",
      "\t>Trying H:23\n",
      "\t\t>SAT - ub: 23, 47.483298778533936 s\n"
     ]
    },
    {
     "data": {
      "image/png": "[encoded data removed]",
      "text/plain": [
       "<Figure size 432x288 with 1 Axes>"
      ]
     },
     "metadata": {},
     "output_type": "display_data"
    },
    {
     "name": "stdout",
     "output_type": "stream",
     "text": [
      "Instance[16] solved in 47.483 s, height: 23\n",
      "========================================================================================\n",
      "\n",
      "\n",
      "========================================================================================\n",
      "Instance: n=18 w=24 dim=[[3, 3], [3, 4], [3, 5], [3, 6], [3, 7], [3, 8], [3, 9], [3, 10], [3, 12], [3, 14], [3, 18], [3, 24], [4, 3], [4, 4], [4, 5], [4, 12], [5, 8], [5, 16]]\n",
      "\n",
      ">Starting Lower Bound: 24\n",
      ">Starting Upper Bound: 28\n",
      "\t>Trying H:26\n",
      "\t\t>SAT - ub: 26, 8.937101602554321 s\n",
      "\t>Trying H:25\n",
      "\t\t>SAT - ub: 25, 18.01553225517273 s\n",
      "\t>Trying H:24\n",
      "\t\t>SAT - ub: 24, 32.26422739028931 s\n"
     ]
    },
    {
     "data": {
      "image/png": "[encoded data removed]",
      "text/plain": [
       "<Figure size 432x288 with 1 Axes>"
      ]
     },
     "metadata": {},
     "output_type": "display_data"
    },
    {
     "name": "stdout",
     "output_type": "stream",
     "text": [
      "Instance[17] solved in 32.264 s, height: 24\n",
      "========================================================================================\n",
      "\n",
      "\n",
      "========================================================================================\n",
      "Instance: n=19 w=25 dim=[[3, 3], [3, 4], [3, 5], [3, 6], [3, 7], [3, 8], [3, 9], [3, 10], [3, 11], [3, 13], [3, 14], [3, 17], [3, 18], [3, 19], [3, 25], [4, 5], [4, 7], [4, 13], [6, 3]]\n",
      "\n",
      ">Starting Lower Bound: 25\n",
      ">Starting Upper Bound: 29\n",
      "\t>Trying H:27\n",
      "\t\t>SAT - ub: 27, 10.588695287704468 s\n",
      "\t>Trying H:26\n",
      "\t\t>SAT - ub: 26, 20.559701681137085 s\n",
      "\t>Trying H:25\n",
      "\t\t>SAT - ub: 25, 29.91584062576294 s\n"
     ]
    },
    {
     "data": {
      "image/png": "[encoded data removed]",
      "text/plain": [
       "<Figure size 432x288 with 1 Axes>"
      ]
     },
     "metadata": {},
     "output_type": "display_data"
    },
    {
     "name": "stdout",
     "output_type": "stream",
     "text": [
      "Instance[18] solved in 29.916 s, height: 25\n",
      "========================================================================================\n",
      "\n",
      "\n",
      "========================================================================================\n",
      "Instance: n=22 w=26 dim=[[3, 3], [3, 4], [3, 5], [3, 6], [3, 7], [3, 8], [3, 9], [3, 10], [3, 11], [3, 12], [3, 14], [3, 15], [3, 16], [3, 17], [3, 19], [4, 3], [4, 4], [4, 5], [4, 7], [4, 8], [4, 11], [4, 14]]\n",
      "\n",
      ">Starting Lower Bound: 26\n",
      ">Starting Upper Bound: 30\n",
      "\t>Trying H:28\n",
      "\t\t>SAT - ub: 28, 15.418566703796387 s\n",
      "\t>Trying H:27\n",
      "\t\t>SAT - ub: 27, 31.165873527526855 s\n",
      "\t>Trying H:26\n",
      "\t\t>SAT - ub: 26, 85.95590662956238 s\n"
     ]
    },
    {
     "data": {
      "image/png": "[encoded data removed]",
      "text/plain": [
       "<Figure size 432x288 with 1 Axes>"
      ]
     },
     "metadata": {},
     "output_type": "display_data"
    },
    {
     "name": "stdout",
     "output_type": "stream",
     "text": [
      "Instance[19] solved in 85.956 s, height: 26\n",
      "========================================================================================\n",
      "\n",
      "\n",
      "========================================================================================\n",
      "Instance: n=21 w=27 dim=[[3, 3], [3, 4], [3, 5], [3, 6], [3, 7], [3, 8], [3, 9], [3, 10], [3, 11], [3, 12], [3, 19], [3, 20], [3, 21], [4, 3], [4, 4], [4, 6], [4, 7], [4, 8], [4, 14], [4, 19], [4, 20]]\n",
      "\n",
      ">Starting Lower Bound: 27\n",
      ">Starting Upper Bound: 30\n",
      "\t>Trying H:28\n",
      "\t\t>SAT - ub: 28, 13.668162822723389 s\n",
      "\t>Trying H:27\n",
      "\t\t>SAT - ub: 27, 60.934775590896606 s\n"
     ]
    },
    {
     "data": {
      "image/png": "[encoded data removed]",
      "text/plain": [
       "<Figure size 432x288 with 1 Axes>"
      ]
     },
     "metadata": {},
     "output_type": "display_data"
    },
    {
     "name": "stdout",
     "output_type": "stream",
     "text": [
      "Instance[20] solved in 60.935 s, height: 27\n",
      "========================================================================================\n",
      "\n",
      "\n",
      "========================================================================================\n",
      "Instance: n=22 w=28 dim=[[3, 3], [3, 4], [3, 5], [3, 6], [3, 7], [3, 8], [3, 9], [3, 10], [3, 11], [3, 16], [3, 17], [3, 21], [3, 23], [4, 3], [4, 4], [4, 5], [4, 8], [4, 13], [4, 23], [5, 6], [5, 9], [5, 13]]\n",
      "\n",
      ">Starting Lower Bound: 28\n",
      ">Starting Upper Bound: 33\n",
      "\t>Trying H:30\n",
      "\t\t>SAT - ub: 30, 16.143773794174194 s\n",
      "\t>Trying H:29\n",
      "\t\t>SAT - ub: 29, 34.43636441230774 s\n",
      "\t>Trying H:28\n",
      "\t\t>SAT - ub: 28, 86.23331689834595 s\n"
     ]
    },
    {
     "data": {
      "image/png": "[encoded data removed]",
      "text/plain": [
       "<Figure size 432x288 with 1 Axes>"
      ]
     },
     "metadata": {},
     "output_type": "display_data"
    },
    {
     "name": "stdout",
     "output_type": "stream",
     "text": [
      "Instance[21] solved in 86.233 s, height: 28\n",
      "========================================================================================\n",
      "\n",
      "\n",
      "========================================================================================\n",
      "Instance: n=24 w=29 dim=[[3, 3], [3, 4], [3, 5], [3, 6], [3, 7], [3, 8], [3, 9], [3, 10], [3, 11], [3, 15], [3, 18], [3, 20], [4, 3], [4, 4], [4, 5], [4, 6], [4, 7], [4, 9], [4, 15], [4, 18], [4, 20], [5, 4], [5, 8], [5, 17]]\n",
      "\n",
      ">Starting Lower Bound: 29\n",
      ">Starting Upper Bound: 31\n",
      "\t>Trying H:30\n",
      "\t\t>SAT - ub: 30, 21.047972202301025 s\n",
      "\t>Trying H:29\n",
      "\t\t>SAT - ub: 29, 52.35702157020569 s\n"
     ]
    },
    {
     "data": {
      "image/png": "[encoded data removed]",
      "text/plain": [
       "<Figure size 432x288 with 1 Axes>"
      ]
     },
     "metadata": {},
     "output_type": "display_data"
    },
    {
     "name": "stdout",
     "output_type": "stream",
     "text": [
      "Instance[22] solved in 52.357 s, height: 29\n",
      "========================================================================================\n",
      "\n",
      "\n",
      "========================================================================================\n",
      "Instance: n=20 w=30 dim=[[3, 3], [3, 4], [3, 5], [3, 6], [3, 7], [3, 8], [3, 9], [3, 10], [3, 11], [3, 13], [3, 14], [3, 16], [3, 19], [3, 25], [4, 3], [4, 4], [4, 6], [4, 8], [4, 9], [11, 30]]\n",
      "\n",
      ">Starting Lower Bound: 30\n",
      ">Starting Upper Bound: 35\n",
      "\t>Trying H:32\n",
      "\t\t>SAT - ub: 32, 13.920169830322266 s\n",
      "\t>Trying H:31\n",
      "\t\t>SAT - ub: 31, 28.270694971084595 s\n",
      "\t>Trying H:30\n",
      "\t\t>SAT - ub: 30, 43.264163970947266 s\n"
     ]
    },
    {
     "data": {
      "image/png": "[encoded data removed]",
      "text/plain": [
       "<Figure size 432x288 with 1 Axes>"
      ]
     },
     "metadata": {},
     "output_type": "display_data"
    },
    {
     "name": "stdout",
     "output_type": "stream",
     "text": [
      "Instance[23] solved in 43.264 s, height: 30\n",
      "========================================================================================\n",
      "\n",
      "\n",
      "========================================================================================\n",
      "Instance: n=19 w=31 dim=[[3, 3], [3, 4], [3, 5], [3, 6], [3, 7], [3, 8], [3, 9], [3, 10], [3, 11], [3, 12], [3, 13], [3, 14], [3, 22], [3, 31], [4, 3], [4, 7], [4, 8], [4, 13], [12, 31]]\n",
      "\n",
      ">Starting Lower Bound: 31\n",
      ">Starting Upper Bound: 35\n",
      "\t>Trying H:33\n",
      "\t\t>SAT - ub: 33, 13.09238886833191 s\n",
      "\t>Trying H:32\n",
      "\t\t>SAT - ub: 32, 25.799649715423584 s\n",
      "\t>Trying H:31\n",
      "\t\t>SAT - ub: 31, 41.486568212509155 s\n"
     ]
    },
    {
     "data": {
      "image/png": "[encoded data removed]",
      "text/plain": [
       "<Figure size 432x288 with 1 Axes>"
      ]
     },
     "metadata": {},
     "output_type": "display_data"
    },
    {
     "name": "stdout",
     "output_type": "stream",
     "text": [
      "Instance[24] solved in 41.487 s, height: 31\n",
      "========================================================================================\n",
      "\n",
      "\n",
      "========================================================================================\n",
      "Instance: n=27 w=32 dim=[[3, 3], [3, 4], [3, 5], [3, 6], [3, 7], [3, 8], [3, 9], [3, 10], [3, 11], [3, 12], [3, 13], [3, 14], [3, 15], [3, 18], [3, 22], [3, 23], [3, 24], [3, 25], [3, 27], [4, 3], [4, 4], [4, 5], [4, 6], [4, 7], [4, 10], [4, 11], [4, 18]]\n",
      "\n",
      ">Starting Lower Bound: 32\n",
      ">Starting Upper Bound: 37\n",
      "\t>Trying H:34\n",
      "\t\t>SAT - ub: 34, 27.792964220046997 s\n",
      "\t>Trying H:33\n",
      "\t\t>SAT - ub: 33, 56.4465389251709 s\n",
      "\t>Trying H:32\n",
      "\t\t>SAT - ub: 32, 261.02997732162476 s\n"
     ]
    },
    {
     "data": {
      "image/png": "[encoded data removed]",
      "text/plain": [
       "<Figure size 432x288 with 1 Axes>"
      ]
     },
     "metadata": {},
     "output_type": "display_data"
    },
    {
     "name": "stdout",
     "output_type": "stream",
     "text": [
      "Instance[25] solved in 261.03 s, height: 32\n",
      "========================================================================================\n",
      "\n",
      "\n",
      "========================================================================================\n",
      "Instance: n=23 w=33 dim=[[3, 3], [3, 4], [3, 5], [3, 6], [3, 7], [3, 8], [3, 9], [3, 10], [3, 13], [3, 14], [3, 15], [3, 17], [3, 24], [3, 30], [3, 33], [4, 3], [4, 4], [4, 6], [4, 10], [4, 12], [4, 14], [4, 17], [7, 33]]\n",
      "\n",
      ">Starting Lower Bound: 33\n",
      ">Starting Upper Bound: 37\n",
      "\t>Trying H:35\n",
      "\t\t>SAT - ub: 35, 20.125359296798706 s\n",
      "\t>Trying H:34\n",
      "\t\t>SAT - ub: 34, 41.38580822944641 s\n",
      "\t>Trying H:33\n",
      "\t\t>SAT - ub: 33, 116.44255352020264 s\n"
     ]
    },
    {
     "data": {
      "image/png": "[encoded data removed]",
      "text/plain": [
       "<Figure size 432x288 with 1 Axes>"
      ]
     },
     "metadata": {},
     "output_type": "display_data"
    },
    {
     "name": "stdout",
     "output_type": "stream",
     "text": [
      "Instance[26] solved in 116.443 s, height: 33\n",
      "========================================================================================\n",
      "\n",
      "\n",
      "========================================================================================\n",
      "Instance: n=21 w=34 dim=[[3, 3], [3, 4], [3, 5], [3, 6], [3, 7], [3, 8], [3, 9], [3, 10], [3, 11], [3, 12], [3, 13], [3, 14], [3, 21], [3, 22], [3, 25], [3, 34], [4, 4], [4, 5], [4, 11], [4, 14], [12, 34]]\n",
      "\n",
      ">Starting Lower Bound: 34\n",
      ">Starting Upper Bound: 36\n",
      "\t>Trying H:35\n",
      "\t\t>SAT - ub: 35, 17.997284173965454 s\n",
      "\t>Trying H:34\n",
      "\t\t>SAT - ub: 34, 58.73641014099121 s\n"
     ]
    },
    {
     "data": {
      "image/png": "[encoded data removed]",
      "text/plain": [
       "<Figure size 432x288 with 1 Axes>"
      ]
     },
     "metadata": {},
     "output_type": "display_data"
    },
    {
     "name": "stdout",
     "output_type": "stream",
     "text": [
      "Instance[27] solved in 58.736 s, height: 34\n",
      "========================================================================================\n",
      "\n",
      "\n",
      "========================================================================================\n",
      "Instance: n=22 w=35 dim=[[3, 3], [3, 4], [3, 5], [3, 6], [3, 7], [3, 8], [3, 9], [3, 10], [3, 12], [3, 19], [3, 22], [4, 3], [4, 4], [4, 5], [4, 6], [4, 7], [4, 8], [4, 12], [4, 17], [4, 20], [4, 23], [14, 35]]\n",
      "\n",
      ">Starting Lower Bound: 35\n",
      ">Starting Upper Bound: 38\n",
      "\t>Trying H:36\n",
      "\t\t>SAT - ub: 36, 22.0640709400177 s\n",
      "\t>Trying H:35\n",
      "\t\t>SAT - ub: 35, 83.97952580451965 s\n"
     ]
    },
    {
     "data": {
      "image/png": "[encoded data removed]",
      "text/plain": [
       "<Figure size 432x288 with 1 Axes>"
      ]
     },
     "metadata": {},
     "output_type": "display_data"
    },
    {
     "name": "stdout",
     "output_type": "stream",
     "text": [
      "Instance[28] solved in 83.981 s, height: 35\n",
      "========================================================================================\n",
      "\n",
      "\n",
      "========================================================================================\n",
      "Instance: n=23 w=36 dim=[[3, 3], [3, 4], [3, 5], [3, 6], [3, 7], [3, 8], [3, 9], [3, 10], [3, 11], [3, 12], [3, 14], [3, 15], [3, 16], [3, 24], [3, 36], [4, 3], [4, 11], [4, 22], [5, 3], [5, 4], [5, 14], [5, 15], [12, 36]]\n",
      "\n",
      ">Starting Lower Bound: 36\n",
      ">Starting Upper Bound: 38\n",
      "\t>Trying H:37\n",
      "\t\t>SAT - ub: 37, 30.30711317062378 s\n",
      "\t>Trying H:36\n",
      "\t\t>SAT - ub: 36, 53.894455432891846 s\n"
     ]
    },
    {
     "data": {
      "image/png": "[encoded data removed]",
      "text/plain": [
       "<Figure size 432x288 with 1 Axes>"
      ]
     },
     "metadata": {},
     "output_type": "display_data"
    },
    {
     "name": "stdout",
     "output_type": "stream",
     "text": [
      "Instance[29] solved in 53.894 s, height: 36\n",
      "========================================================================================\n",
      "\n",
      "\n",
      "========================================================================================\n",
      "Instance: n=27 w=37 dim=[[3, 3], [3, 4], [3, 5], [3, 6], [3, 7], [3, 8], [3, 9], [3, 11], [3, 12], [3, 13], [3, 14], [3, 17], [3, 18], [3, 21], [4, 3], [4, 4], [4, 5], [4, 6], [4, 10], [4, 22], [4, 24], [5, 3], [5, 4], [5, 6], [5, 10], [5, 14], [12, 37]]\n",
      "\n",
      ">Starting Lower Bound: 37\n",
      ">Starting Upper Bound: 42\n",
      "\t>Trying H:39\n",
      "\t\t>SAT - ub: 39, 35.53533315658569 s\n",
      "\t>Trying H:38\n",
      "\t\t>SAT - ub: 38, 76.10888624191284 s\n",
      "\t>Trying H:37\n",
      "\t\t>SAT - ub: 37, 218.92535400390625 s\n"
     ]
    },
    {
     "data": {
      "image/png": "[encoded data removed]",
      "text/plain": [
       "<Figure size 432x288 with 1 Axes>"
      ]
     },
     "metadata": {},
     "output_type": "display_data"
    },
    {
     "name": "stdout",
     "output_type": "stream",
     "text": [
      "Instance[30] solved in 218.925 s, height: 37\n",
      "========================================================================================\n",
      "\n",
      "\n",
      "\n",
      "========================================================================================\n",
      "Instance: n=19 w=38 dim=[[3, 3], [3, 4], [3, 5], [3, 6], [3, 7], [3, 8], [3, 9], [3, 10], [3, 11], [3, 13], [4, 3], [4, 5], [4, 6], [4, 8], [4, 11], [4, 12], [4, 15], [4, 16], [24, 38]]\n",
      "\n",
      ">Starting Lower Bound: 38\n",
      ">Starting Upper Bound: 43\n",
      "\t>Trying H:40\n",
      "\t\t>SAT - ub: 40, 17.52886700630188 s\n",
      "\t>Trying H:39\n",
      "\t\t>SAT - ub: 39, 35.06673240661621 s\n",
      "\t>Trying H:38\n",
      "\t\t>SAT - ub: 38, 58.01451110839844 s\n"
     ]
    },
    {
     "data": {
      "image/png": "[encoded data removed]",
      "text/plain": [
       "<Figure size 432x288 with 1 Axes>"
      ]
     },
     "metadata": {},
     "output_type": "display_data"
    },
    {
     "name": "stdout",
     "output_type": "stream",
     "text": [
      "Instance[31] solved in 58.015 s, height: 38\n",
      "========================================================================================\n",
      "\n",
      "\n",
      "\n",
      "========================================================================================\n",
      "Instance: n=29 w=39 dim=[[3, 3], [3, 4], [3, 5], [3, 6], [3, 7], [3, 8], [3, 9], [3, 10], [3, 11], [3, 15], [4, 3], [4, 4], [4, 5], [4, 6], [4, 8], [4, 9], [4, 12], [4, 15], [4, 16], [5, 3], [5, 4], [5, 5], [5, 6], [5, 8], [5, 10], [5, 11], [5, 13], [5, 18], [15, 39]]\n",
      "\n",
      ">Starting Lower Bound: 39\n",
      ">Starting Upper Bound: 44\n",
      "\t>Trying H:41\n",
      "\t\t>SAT - ub: 41, 45.02544450759888 s\n",
      "\t>Trying H:40\n",
      "\t\t>SAT - ub: 40, 230.67177176475525 s\n",
      "\t>Trying H:39\n"
     ]
    },
    {
     "data": {
      "image/png": "[encoded data removed]",
      "text/plain": [
       "<Figure size 432x288 with 1 Axes>"
      ]
     },
     "metadata": {},
     "output_type": "display_data"
    },
    {
     "name": "stdout",
     "output_type": "stream",
     "text": [
      ">Out of time, 339.534 s, best height: 40\n",
      "========================================================================================\n",
      "\n",
      "\n",
      "========================================================================================\n",
      "Instance: n=20 w=40 dim=[[3, 3], [3, 4], [3, 5], [3, 6], [3, 7], [3, 8], [3, 9], [3, 10], [3, 12], [3, 16], [3, 40], [4, 4], [4, 14], [4, 22], [5, 3], [5, 4], [5, 8], [5, 12], [5, 13], [22, 40]]\n",
      "\n",
      ">Starting Lower Bound: 40\n",
      ">Starting Upper Bound: 44\n",
      "\t>Trying H:42\n",
      "\t\t>SAT - ub: 42, 21.6965594291687 s\n",
      "\t>Trying H:41\n",
      "\t\t>SAT - ub: 41, 45.02977752685547 s\n",
      "\t>Trying H:40\n",
      "\t\t>SAT - ub: 40, 76.12181758880615 s\n"
     ]
    },
    {
     "data": {
      "image/png": "[encoded data removed]",
      "text/plain": [
       "<Figure size 432x288 with 1 Axes>"
      ]
     },
     "metadata": {},
     "output_type": "display_data"
    },
    {
     "name": "stdout",
     "output_type": "stream",
     "text": [
      "Instance[33] solved in 76.122 s, height: 40\n",
      "========================================================================================\n",
      "\n",
      "\n",
      "========================================================================================\n",
      "Instance: n=25 w=15 dim=[[3, 11], [3, 13], [2, 9], [2, 7], [3, 9], [3, 7], [2, 11], [2, 13], [4, 11], [4, 13], [5, 3], [2, 11], [2, 2], [3, 11], [3, 2], [4, 5], [4, 6], [2, 12], [2, 1], [5, 3], [5, 13], [4, 12], [4, 1], [2, 5], [2, 6]]\n",
      "\n",
      ">Starting Lower Bound: 40\n",
      ">Starting Upper Bound: 44\n",
      "\t>Trying H:42\n",
      "\t\t>SAT - ub: 42, 23.53095030784607 s\n",
      "\t>Trying H:41\n",
      "\t\t>SAT - ub: 41, 46.24952745437622 s\n",
      "\t>Trying H:40\n",
      "\t\t>SAT - ub: 40, 74.60114574432373 s\n"
     ]
    },
    {
     "data": {
      "image/png": "[encoded data removed]",
      "text/plain": [
       "<Figure size 432x288 with 1 Axes>"
      ]
     },
     "metadata": {},
     "output_type": "display_data"
    },
    {
     "name": "stdout",
     "output_type": "stream",
     "text": [
      "Instance[34] solved in 74.601 s, height: 40\n",
      "========================================================================================\n",
      "\n",
      "\n",
      "========================================================================================\n",
      "Instance: n=25 w=15 dim=[[2, 11], [3, 2], [7, 10], [4, 8], [5, 9], [2, 7], [1, 4], [1, 6], [5, 4], [3, 8], [3, 1], [5, 5], [1, 3], [4, 12], [2, 6], [4, 2], [4, 11], [2, 10], [2, 3], [2, 11], [4, 3], [4, 26], [4, 8], [2, 3], [2, 6]]\n",
      "\n",
      ">Starting Lower Bound: 40\n",
      ">Starting Upper Bound: 42\n",
      "\t>Trying H:41\n",
      "\t\t>SAT - ub: 41, 22.114964962005615 s\n",
      "\t>Trying H:40\n",
      "\t\t>SAT - ub: 40, 47.17656087875366 s\n"
     ]
    },
    {
     "data": {
      "image/png": "[encoded data removed]",
      "text/plain": [
       "<Figure size 432x288 with 1 Axes>"
      ]
     },
     "metadata": {},
     "output_type": "display_data"
    },
    {
     "name": "stdout",
     "output_type": "stream",
     "text": [
      "Instance[35] solved in 47.177 s, height: 40\n",
      "========================================================================================\n",
      "\n",
      "\n",
      "========================================================================================\n",
      "Instance: n=25 w=15 dim=[[7, 12], [7, 7], [1, 7], [1, 5], [2, 3], [2, 6], [2, 7], [2, 5], [1, 3], [1, 6], [6, 12], [6, 9], [2, 12], [2, 7], [3, 10], [1, 4], [1, 5], [3, 16], [3, 5], [2, 4], [2, 5], [3, 10], [3, 9], [3, 16], [3, 5]]\n",
      "\n",
      ">Starting Lower Bound: 40\n",
      ">Starting Upper Bound: 44\n",
      "\t>Trying H:42\n",
      "\t\t>SAT - ub: 42, 22.164032220840454 s\n",
      "\t>Trying H:41\n",
      "\t\t>SAT - ub: 41, 43.18361473083496 s\n",
      "\t>Trying H:40\n",
      "\t\t>SAT - ub: 40, 66.73119068145752 s\n"
     ]
    },
    {
     "data": {
      "image/png": "[encoded data removed]",
      "text/plain": [
       "<Figure size 432x288 with 1 Axes>"
      ]
     },
     "metadata": {},
     "output_type": "display_data"
    },
    {
     "name": "stdout",
     "output_type": "stream",
     "text": [
      "Instance[36] solved in 66.731 s, height: 40\n",
      "========================================================================================\n",
      "\n",
      "\n",
      "========================================================================================\n",
      "Instance: n=28 w=30 dim=[[5, 7], [5, 14], [8, 14], [8, 4], [13, 21], [11, 7], [11, 14], [5, 14], [5, 4], [3, 18], [3, 21], [11, 17], [11, 4], [4, 7], [4, 5], [7, 6], [5, 18], [5, 3], [3, 7], [3, 5], [4, 18], [4, 3], [2, 12], [2, 6], [5, 18], [5, 21], [3, 17], [3, 4]]\n",
      "\n",
      ">Starting Lower Bound: 60\n",
      ">Starting Upper Bound: 66\n",
      "\t>Trying H:63\n",
      "\t\t>SAT - ub: 63, 47.642566204071045 s\n",
      "\t>Trying H:61\n",
      "\t\t>SAT - ub: 61, 103.1501362323761 s\n",
      "\t>Trying H:60\n"
     ]
    },
    {
     "data": {
      "image/png": "[encoded data removed]",
      "text/plain": [
       "<Figure size 432x288 with 1 Axes>"
      ]
     },
     "metadata": {},
     "output_type": "display_data"
    },
    {
     "name": "stdout",
     "output_type": "stream",
     "text": [
      ">Out of time, 342.636 s, best height: 61\n",
      "========================================================================================\n",
      "\n",
      "\n",
      "========================================================================================\n",
      "Instance: n=29 w=30 dim=[[6, 18], [2, 12], [10, 7], [4, 23], [4, 1], [7, 7], [11, 4], [6, 5], [2, 7], [6, 11], [10, 19], [11, 5], [4, 2], [7, 5], [4, 2], [7, 12], [7, 13], [3, 6], [6, 10], [9, 16], [1, 4], [4, 10], [6, 24], [9, 9], [2, 1], [8, 5], [3, 5], [7, 25], [5, 21]]\n",
      "\n",
      ">Starting Lower Bound: 60\n",
      ">Starting Upper Bound: 65\n",
      "\t>Trying H:62\n",
      "\t\t>SAT - ub: 62, 53.22412967681885 s\n",
      "\t>Trying H:61\n",
      "\t\t>SAT - ub: 61, 105.81493616104126 s\n",
      "\t>Trying H:60\n"
     ]
    },
    {
     "data": {
      "image/png": "[encoded data removed]",
      "text/plain": [
       "<Figure size 432x288 with 1 Axes>"
      ]
     },
     "metadata": {},
     "output_type": "display_data"
    },
    {
     "name": "stdout",
     "output_type": "stream",
     "text": [
      ">Out of time, 346.435 s, best height: 61\n",
      "========================================================================================\n",
      "\n",
      "\n",
      "========================================================================================\n",
      "Instance: n=28 w=30 dim=[[9, 24], [9, 8], [9, 11], [9, 17], [4, 24], [4, 8], [1, 6], [1, 5], [4, 17], [3, 6], [3, 5], [12, 5], [12, 13], [14, 14], [2, 14], [2, 2], [8, 3], [8, 9], [12, 14], [12, 2], [6, 3], [6, 9], [2, 5], [2, 13], [3, 18], [3, 14], [3, 16], [3, 12]]\n",
      "\n",
      ">Starting Lower Bound: 60\n",
      ">Starting Upper Bound: 67\n",
      "\t>Trying H:63\n",
      "\t\t>SAT - ub: 63, 48.556795597076416 s\n",
      "\t>Trying H:61\n",
      "\t\t>SAT - ub: 61, 109.19933652877808 s\n",
      "\t>Trying H:60\n"
     ]
    },
    {
     "data": {
      "image/png": "[encoded data removed]",
      "text/plain": [
       "<Figure size 432x288 with 1 Axes>"
      ]
     },
     "metadata": {},
     "output_type": "display_data"
    },
    {
     "name": "stdout",
     "output_type": "stream",
     "text": [
      ">Out of time, 343.154 s, best height: 61\n",
      "========================================================================================\n",
      "\n",
      "\n",
      "========================================================================================\n",
      "Instance: n=73 w=60 dim=[[34, 6], [13, 3], [13, 5], [10, 12], [10, 12], [6, 7], [6, 15], [25, 7], [25, 15], [21, 12], [16, 7], [16, 5], [21, 3], [21, 5], [5, 7], [5, 5], [4, 1], [4, 10], [6, 13], [12, 13], [12, 9], [23, 6], [7, 3], [7, 5], [2, 1], [2, 10], [6, 6], [6, 5], [14, 7], [14, 6], [16, 3], [16, 5], [14, 6], [14, 5], [14, 13], [3, 2], [3, 7], [11, 2], [11, 7], [6, 7], [6, 6], [33, 14], [12, 4], [12, 3], [16, 18], [12, 3], [12, 18], [4, 4], [4, 3], [3, 1], [3, 2], [6, 9], [6, 9], [6, 1], [6, 2], [5, 7], [5, 18], [3, 9], [3, 9], [9, 18], [6, 5], [6, 2], [2, 12], [2, 9], [8, 3], [8, 9], [10, 9], [3, 5], [3, 2], [3, 18], [3, 7], [2, 3], [2, 9]]\n",
      "\n",
      ">Starting Lower Bound: 90\n",
      ">Starting Upper Bound: 104\n",
      "\t>Trying H:97\n",
      "\t\t>SAT - ub: 97, 592.8425495624542 s\n",
      "\t>Trying H:93\n"
     ]
    },
    {
     "data": {
      "image/png": "[encoded data removed]",
      "text/plain": [
       "<Figure size 432x288 with 1 Axes>"
      ]
     },
     "metadata": {},
     "output_type": "display_data"
    },
    {
     "name": "stdout",
     "output_type": "stream",
     "text": [
      ">Out of time, 593.292 s, best height: 97\n",
      "========================================================================================\n",
      "\n",
      "\n"
     ]
    }
   ],
   "source": [
    "from_ins = 1\n",
    "to_ins   = 40\n",
    "\n",
    "times_r = []\n",
    "for ins in range(from_ins, min(to_ins+1,41)):\n",
    "    print('========================================================================================')\n",
    "\n",
    "    # Instance\n",
    "    instance=utils.loadInstance(f\"../instances/ins-{ins}.txt\")\n",
    "    print(\"Instance:\",*[\"{}={}\".format(key,val) for key,val in instance.items()])\n",
    "\n",
    "    # Solving\n",
    "    sol,e_time = vlsi_sat_rotations(instance)\n",
    "    \n",
    "    times_r.append(round(e_time,3))\n",
    "    if sol is None and e_time <= 300:\n",
    "        print(\">Unfeasible.\")\n",
    "    elif e_time > 300:\n",
    "        if sol is not None:\n",
    "            # Write to file\n",
    "            utils.writeSolution('./out/rot/out-' + str(ins) + '_non_opt.txt', sol)\n",
    "\n",
    "            # Display solution\n",
    "            utils.displaySolution(sol, title= f'Plate {ins}')\n",
    "\n",
    "\n",
    "            print(f\">Out of time, {round(e_time,3)} s, best height: {sol[0][1]}\")\n",
    "        else:\n",
    "            print(f\">Out of time, {round(e_time,3)} s\")\n",
    "    elif sol is not None:\n",
    "        # Write to file\n",
    "        utils.writeSolution('./out/rot/out-' + str(ins) + '.txt', sol)\n",
    "\n",
    "        # Display solution\n",
    "        utils.displaySolution(sol, title= f'Plate {ins}')\n",
    "        \n",
    "        # Time\n",
    "        print(f\"Instance[{ins}] solved in {round(e_time,3)} s, height: {sol[0][1]}\")\n",
    "    print('========================================================================================')\n",
    "    print('\\n')\n",
    "\n",
    "with open('./out/times_r.txt', 'w+') as f:\n",
    "    for i in range(from_ins, min(to_ins+1,41)):\n",
    "            f.write('{}\\n'.format(times_r[i-from_ins]))"
   ]
  },
  {
   "cell_type": "code",
   "execution_count": 4,
   "metadata": {},
   "outputs": [
    {
     "name": "stdout",
     "output_type": "stream",
     "text": [
      "========================================================================================\n",
      "Instance: n=73 w=60 dim=[[34, 6], [13, 3], [13, 5], [10, 12], [10, 12], [6, 7], [6, 15], [25, 7], [25, 15], [21, 12], [16, 7], [16, 5], [21, 3], [21, 5], [5, 7], [5, 5], [4, 1], [4, 10], [6, 13], [12, 13], [12, 9], [23, 6], [7, 3], [7, 5], [2, 1], [2, 10], [6, 6], [6, 5], [14, 7], [14, 6], [16, 3], [16, 5], [14, 6], [14, 5], [14, 13], [3, 2], [3, 7], [11, 2], [11, 7], [6, 7], [6, 6], [33, 14], [12, 4], [12, 3], [16, 18], [12, 3], [12, 18], [4, 4], [4, 3], [3, 1], [3, 2], [6, 9], [6, 9], [6, 1], [6, 2], [5, 7], [5, 18], [3, 9], [3, 9], [9, 18], [6, 5], [6, 2], [2, 12], [2, 9], [8, 3], [8, 9], [10, 9], [3, 5], [3, 2], [3, 18], [3, 7], [2, 3], [2, 9]]\n",
      "\n",
      ">Starting Lower Bound: 90\n",
      ">Starting Upper Bound: 96\n",
      "\t>Trying H:93\n",
      "\t\t>SAT - ub: 96, 625.8992381095886 s\n",
      ">Out of time, 626.409 s\n",
      "========================================================================================\n",
      "\n",
      "\n"
     ]
    }
   ],
   "source": [
    "from_ins = 40\n",
    "to_ins   = 40\n",
    "\n",
    "times_r = []\n",
    "for ins in range(from_ins, min(to_ins+1,41)):\n",
    "    print('========================================================================================')\n",
    "\n",
    "    # Instance\n",
    "    instance=utils.loadInstance(f\"../instances/ins-{ins}.txt\")\n",
    "    print(\"Instance:\",*[\"{}={}\".format(key,val) for key,val in instance.items()])\n",
    "\n",
    "    # Solving\n",
    "    sol,e_time = vlsi_sat_rotations(instance)\n",
    "    \n",
    "    times_r.append(round(e_time,3))\n",
    "    if sol is None and e_time <= 300:\n",
    "        print(\">Unfeasible.\")\n",
    "    elif e_time > 300:\n",
    "        if sol is not None:\n",
    "            # Write to file\n",
    "            utils.writeSolution('./out/rot/out-' + str(ins) + '_non_opt2.txt', sol)\n",
    "\n",
    "            # Display solution\n",
    "            utils.displaySolution(sol, title= f'Plate {ins}')\n",
    "\n",
    "\n",
    "            print(f\">Out of time, {round(e_time,3)} s, best height: {sol[0][1]}\")\n",
    "        else:\n",
    "            print(f\">Out of time, {round(e_time,3)} s\")\n",
    "    elif sol is not None:\n",
    "        # Write to file\n",
    "        utils.writeSolution('./out/rot/out-' + str(ins) + '2.txt', sol)\n",
    "\n",
    "        # Display solution\n",
    "        utils.displaySolution(sol, title= f'Plate {ins}')\n",
    "        \n",
    "        # Time\n",
    "        print(f\"Instance[{ins}] solved in {round(e_time,3)} s, height: {sol[0][1]}\")\n",
    "    print('========================================================================================')\n",
    "    print('\\n')\n",
    "\n",
    "with open('./out/times_r2.txt', 'w+') as f:\n",
    "    for i in range(from_ins, min(to_ins+1,41)):\n",
    "            f.write('{}\\n'.format(times_r[i-from_ins]))"
   ]
  },
  {
   "cell_type": "markdown",
   "metadata": {},
   "source": [
    "### Export to .csv"
   ]
  },
  {
   "cell_type": "code",
   "execution_count": 33,
   "metadata": {},
   "outputs": [],
   "source": [
    "from_ins = 1\n",
    "to_ins   = 40\n",
    "\n",
    "times_r = open(\"./out/times_r.txt\").readlines()\n",
    "\n",
    "with open('./out/vlsi_SAT_r.csv', 'w') as f:\n",
    "    writer = csv.writer(f, delimiter=';')\n",
    "    writer.writerow(['Instance', 'Time', 'Solution'])\n",
    "    for ins in range(from_ins, min(to_ins+1,41)):\n",
    "        row = []\n",
    "        if float(times_r[ins-1]) <= 300.0:\n",
    "            sol = utils.readSolution('./out/rot/out-' + str(ins) + '.txt' )\n",
    "            if sol is not None:\n",
    "                row = [str(ins), float(times_r[ins-1]), str(utils.readSolution('./out/rot/out-' + str(ins) + '.txt'))]\n",
    "            else:\n",
    "                row = [str(ins), float(times_r[ins-1])] \n",
    "            writer.writerow(row)\n",
    "        else:\n",
    "            sol = utils.readSolution('./out/rot/out-' + str(ins) + '_non_opt.txt')\n",
    "            if sol is not None:\n",
    "                row = [str(ins), float(times_r[ins-1]), str(utils.readSolution('./out/rot/out-' + str(ins) + '_non_opt.txt'))]\n",
    "            else:\n",
    "                row = [str(ins), float(times_r[ins-1])]\n",
    "            writer.writerow(row)\n",
    "\n",
    "f.close()"
   ]
  },
  {
   "cell_type": "markdown",
   "metadata": {},
   "source": [
    "### Barplot"
   ]
  },
  {
   "cell_type": "code",
   "execution_count": 13,
   "metadata": {},
   "outputs": [
    {
     "data": {
      "image/png": "[encoded data removed]",
      "text/plain": [
       "<Figure size 1080x720 with 1 Axes>"
      ]
     },
     "metadata": {
      "needs_background": "light"
     },
     "output_type": "display_data"
    }
   ],
   "source": [
    "csv_no_rotation = './out/vlsi_SAT.csv'\n",
    "csv_rotation = './out/vlsi_SAT_r.csv'\n",
    "\n",
    "df = pd.read_csv(csv_no_rotation, sep=';')\n",
    "df_flip = pd.read_csv(csv_rotation, sep=';')\n",
    "\n",
    "df['mode'] = 'No rotation'\n",
    "df_flip['mode'] = 'Rotation'\n",
    "\n",
    "df.loc[df['Time'] > 300, 'mode']= 'Failure no rotation'\n",
    "df_flip.loc[df_flip['Time'] > 300, 'mode']= 'Failure rotation'\n",
    "\n",
    "df.loc[df['Time'] > 300, 'Time']= 300\n",
    "df_flip.loc[df_flip['Time'] > 300, 'Time']= 300\n",
    "\n",
    "df = pd.concat([df, df_flip])\n",
    "\n",
    "sns.set_palette(sns.color_palette(\"tab10\"))\n",
    "plt.figure(figsize = (15,10))\n",
    "sns.barplot(data = df, x = 'Instance', y = 'Time', hue = 'mode', hue_order=['No rotation', 'Failure no rotation'\\\n",
    "                                                                            ,'Rotation', 'Failure rotation'])\n",
    "\n",
    "plt.xticks(fontsize = 'large')\n",
    "plt.yticks(fontsize = 'large')\n",
    "plt.xlabel('Instance', size = 15)\n",
    "plt.ylabel('Execution time', size = 15)\n",
    "plt.title('SAT execution time', size = 20)\n",
    "plt.legend(loc = 'upper left', fontsize='x-large')\n",
    "\n",
    "plt.yscale('log')\n",
    "plt.grid(True, which=\"minor\")\n",
    "\n",
    "threshold = 300\n",
    "plt.axhline(threshold, color='red', ls='dotted')\n",
    "\n",
    "plt.savefig('./out/report_SAT.png', edgecolor='w', facecolor = 'w')\n",
    "plt.show()"
   ]
  }
 ],
 "metadata": {
  "kernelspec": {
   "display_name": "Python 3 (ipykernel)",
   "language": "python",
   "name": "python3"
  },
  "language_info": {
   "codemirror_mode": {
    "name": "ipython",
    "version": 3
   },
   "file_extension": ".py",
   "mimetype": "text/x-python",
   "name": "python",
   "nbconvert_exporter": "python",
   "pygments_lexer": "ipython3",
   "version": "3.7.0"
  },
  "vscode": {
   "interpreter": {
    "hash": "493d81eecbfce27ce685bd0c6df082f3da867128dab3afff005edfa5f6f74253"
   }
  }
 },
 "nbformat": 4,
 "nbformat_minor": 2
}
